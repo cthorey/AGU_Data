{
 "cells": [
  {
   "cell_type": "code",
   "execution_count": 1,
   "metadata": {
    "collapsed": true
   },
   "outputs": [],
   "source": [
    "%load_ext autoreload \n",
    "%autoreload 2\n",
    "import os\n",
    "from os.path import expanduser\n",
    "home = expanduser(\"~\")\n",
    "os.chdir(os.path.join(home,'Documents','project','agu_data','repo','agu_data'))\n",
    "tablepath = os.path.join(home,'Documents','project','agu_data','repo','Notebook','Tables')"
   ]
  },
  {
   "cell_type": "code",
   "execution_count": 2,
   "metadata": {
    "collapsed": true
   },
   "outputs": [],
   "source": [
    "from Data_Utils import *\n",
    "from Scrap_names import *\n",
    "import pandas as pd"
   ]
  },
  {
   "cell_type": "code",
   "execution_count": 125,
   "metadata": {
    "collapsed": false
   },
   "outputs": [
    {
     "name": "stderr",
     "output_type": "stream",
     "text": []
    }
   ],
   "source": [
    "contribs = get_all_contrib('agu2015')"
   ]
  },
  {
   "cell_type": "code",
   "execution_count": 5,
   "metadata": {
    "collapsed": true
   },
   "outputs": [],
   "source": [
    "from selenium.webdriver.support.ui import WebDriverWait\n",
    "from selenium.webdriver.support import expected_conditions as EC\n",
    "from selenium.webdriver.common.by import By\n",
    "from selenium import webdriver\n",
    "\n",
    "racine = os.path.join(home,'Documents','project','agu_data','repo','agu_data')\n",
    "wd = webdriver.Chrome(os.path.join(racine, 'chromedriver'))"
   ]
  },
  {
   "cell_type": "code",
   "execution_count": 6,
   "metadata": {
    "collapsed": false
   },
   "outputs": [
    {
     "name": "stderr",
     "output_type": "stream",
     "text": []
    }
   ],
   "source": [
    "from tqdm import *\n",
    "def redo_missed(wd,contribs):\n",
    "    missed = [f for f in contribs if f.name.split(' ')[0] != 'Test' and f.address == u'']\n",
    "    names = {}\n",
    "    errors = []\n",
    "    for i in tqdm(range(len(missed))):\n",
    "        miss = missed[i]\n",
    "        link = miss.link\n",
    "        try:\n",
    "            names.update({link: Scrap_page(wd, link)})\n",
    "        except:\n",
    "            errors.append(miss.link)\n",
    "    return {'names': names, 'error': errors}\n",
    "datas = redo_missed(wd,contribs)"
   ]
  },
  {
   "cell_type": "code",
   "execution_count": 14,
   "metadata": {
    "collapsed": false
   },
   "outputs": [],
   "source": [
    "Jsoner(datas, 'agu2015', 'Name_Missed_V1')"
   ]
  }
 ],
 "metadata": {
  "kernelspec": {
   "display_name": "Python 2",
   "language": "python",
   "name": "python2"
  },
  "language_info": {
   "codemirror_mode": {
    "name": "ipython",
    "version": 2
   },
   "file_extension": ".py",
   "mimetype": "text/x-python",
   "name": "python",
   "nbconvert_exporter": "python",
   "pygments_lexer": "ipython2",
   "version": "2.7.11"
  }
 },
 "nbformat": 4,
 "nbformat_minor": 0
}
