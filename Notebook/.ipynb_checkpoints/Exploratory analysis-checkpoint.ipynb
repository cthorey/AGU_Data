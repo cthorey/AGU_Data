{
 "cells": [
  {
   "cell_type": "code",
   "execution_count": 4,
   "metadata": {
    "collapsed": false
   },
   "outputs": [
    {
     "name": "stdout",
     "output_type": "stream",
     "text": [
      "The autoreload extension is already loaded. To reload it, use:\n",
      "  %reload_ext autoreload\n"
     ]
    }
   ],
   "source": [
    "%load_ext autoreload \n",
    "%autoreload 2\n",
    "import os\n",
    "from os.path import expanduser\n",
    "home = expanduser(\"~\")\n",
    "os.chdir(os.path.join(home,'Documents','project','agu_data','repo','agu_data'))\n",
    "tablepath = os.path.join(home,'Documents','project','agu_data','repo','Notebook','Tables')"
   ]
  },
  {
   "cell_type": "markdown",
   "metadata": {},
   "source": [
    "# AGU 2015: Exploratory analysis"
   ]
  },
  {
   "cell_type": "markdown",
   "metadata": {},
   "source": [
    "Agu_Data\n",
    "-------\n",
    "\n",
    "I recently decided to scrap the AGU website [AGU](https://meetings.agu.org/) to look for\n",
    "interesting pattern in the abstract. Here is a first analysis.\n"
   ]
  },
  {
   "cell_type": "markdown",
   "metadata": {},
   "source": [
    "## Data "
   ]
  },
  {
   "cell_type": "code",
   "execution_count": 5,
   "metadata": {
    "collapsed": false
   },
   "outputs": [],
   "source": [
    "from Data_Utils import *\n",
    "import pandas as pd"
   ]
  },
  {
   "cell_type": "code",
   "execution_count": 16,
   "metadata": {
    "code_folding": [],
    "collapsed": false
   },
   "outputs": [
    {
     "name": "stderr",
     "output_type": "stream",
     "text": []
    }
   ],
   "source": [
    "from nltk.tokenize import RegexpTokenizer\n",
    "tokenizer = RegexpTokenizer(r'\\w+')\n",
    "\n",
    "def presentation(time):\n",
    "    time_beg = time.split('-')[0].split(':')[0]\n",
    "    time_end = time.split('-')[1].split(':')[0]\n",
    "    if int(time_end)-int(time_beg) == 0:\n",
    "        return 'Oral'\n",
    "    else:\n",
    "        return 'Poster'\n",
    "    \n",
    "def clean_session(session):\n",
    "    return ' '.join([f for f in session.split(' ') if f not in ['I','II','III','IV','V','Posters','(Half Session)']])\n",
    "    \n",
    "def extract_info(obj):\n",
    "    ''' obj is a Paper object '''\n",
    "    try:\n",
    "        year = str(obj.date.split(',')[1].split(' ')[-1])\n",
    "        day = obj.date.split(',')[0].strip()\n",
    "        date = obj.date.split(',')[1].strip()\n",
    "        nb_authors = len(obj.authors)\n",
    "        place = obj.place.split('-')[0].strip()\n",
    "        room = obj.place.split('-')[-1].strip()\n",
    "        ref = len(obj.reference)\n",
    "        section = obj.section.strip().encode('utf-8')\n",
    "        session = clean_session(obj.session.strip()).encode('utf-8')\n",
    "        pres = presentation(obj.time)\n",
    "        title_words = tokenizer.tokenize(repr(obj.title[0]).lower())\n",
    "        invited = int('invited' in title_words)\n",
    "        lentitle = len(title_words)-1 # to remove the 'u' from unicode\n",
    "        return [day,date,nb_authors,place,room,ref,section,session,pres,invited,lentitle,year]\n",
    "    except:\n",
    "        return ['']\n",
    "    \n",
    "columns = ['day','date','nb_authors','place','room','ref','section','session','pres','invited','lentitle','year']\n",
    "df = pd.DataFrame(columns = columns)\n",
    "for year in [2014,2015]:\n",
    "    data = get_all_data('agu'+str(year))\n",
    "    df = df.append(pd.DataFrame(map(extract_info,data),columns = columns).dropna())\n",
    "    df.to_csv(os.path.join(tablepath,'agu_exploratory_tmp.csv'))\n",
    "    "
   ]
  },
  {
   "cell_type": "markdown",
   "metadata": {},
   "source": [
    "# Rapid inspection"
   ]
  },
  {
   "cell_type": "code",
   "execution_count": 14,
   "metadata": {
    "collapsed": false
   },
   "outputs": [
    {
     "data": {
      "text/plain": [
       "(22204, 23291)"
      ]
     },
     "execution_count": 14,
     "metadata": {},
     "output_type": "execute_result"
    }
   ],
   "source": [
    "len(df[df.year == '2015']),len(df[df.year == '2014'])"
   ]
  },
  {
   "cell_type": "markdown",
   "metadata": {},
   "source": [
    "#  Ok"
   ]
  },
  {
   "cell_type": "code",
   "execution_count": 8,
   "metadata": {
    "collapsed": true
   },
   "outputs": [
    {
     "data": {
      "text/html": [
       "<script type='text/javascript' src='https://public.tableau.com/javascripts/api/viz_v1.js'></script><div class='tableauPlaceholder' style='width: 654px; height: 742px;'><noscript><a href='#'><img alt='ExploratoryAnalysisSection ' src='https:&#47;&#47;public.tableau.com&#47;static&#47;images&#47;Ex&#47;ExploratoryAnalysisAGUSection&#47;ExploratoryAnalysisSection&#47;1_rss.png' style='border: none' /></a></noscript><object class='tableauViz' width='654' height='742' style='display:none;'><param name='host_url' value='https%3A%2F%2Fpublic.tableau.com%2F' /> <param name='site_root' value='' /><param name='name' value='ExploratoryAnalysisAGUSection&#47;ExploratoryAnalysisSection' /><param name='tabs' value='no' /><param name='toolbar' value='yes' /><param name='static_image' value='https:&#47;&#47;public.tableau.com&#47;static&#47;images&#47;Ex&#47;ExploratoryAnalysisAGUSection&#47;ExploratoryAnalysisSection&#47;1.png' /> <param name='animate_transition' value='yes' /><param name='display_static_image' value='yes' /><param name='display_spinner' value='yes' /><param name='display_overlay' value='yes' /><param name='display_count' value='yes' /><param name='showVizHome' value='no' /><param name='showTabs' value='y' /><param name='bootstrapWhenNotified' value='true' /></object></div>"
      ],
      "text/plain": [
       "<IPython.core.display.HTML object>"
      ]
     },
     "execution_count": 8,
     "metadata": {},
     "output_type": "execute_result"
    }
   ],
   "source": [
    "js = \"<script type='text/javascript' src='https://public.tableau.com/javascripts/api/viz_v1.js'></script><div class='tableauPlaceholder' style='width: 654px; height: 742px;'><noscript><a href='#'><img alt='ExploratoryAnalysisSection ' src='https:&#47;&#47;public.tableau.com&#47;static&#47;images&#47;Ex&#47;ExploratoryAnalysisAGUSection&#47;ExploratoryAnalysisSection&#47;1_rss.png' style='border: none' /></a></noscript><object class='tableauViz' width='654' height='742' style='display:none;'><param name='host_url' value='https%3A%2F%2Fpublic.tableau.com%2F' /> <param name='site_root' value='' /><param name='name' value='ExploratoryAnalysisAGUSection&#47;ExploratoryAnalysisSection' /><param name='tabs' value='no' /><param name='toolbar' value='yes' /><param name='static_image' value='https:&#47;&#47;public.tableau.com&#47;static&#47;images&#47;Ex&#47;ExploratoryAnalysisAGUSection&#47;ExploratoryAnalysisSection&#47;1.png' /> <param name='animate_transition' value='yes' /><param name='display_static_image' value='yes' /><param name='display_spinner' value='yes' /><param name='display_overlay' value='yes' /><param name='display_count' value='yes' /><param name='showVizHome' value='no' /><param name='showTabs' value='y' /><param name='bootstrapWhenNotified' value='true' /></object></div>\"\n",
    "from IPython.display import HTML\n",
    "HTML(js)"
   ]
  },
  {
   "cell_type": "markdown",
   "metadata": {
    "collapsed": true
   },
   "source": [
    "## Map with all contributors by country "
   ]
  },
  {
   "cell_type": "code",
   "execution_count": 6,
   "metadata": {
    "collapsed": false
   },
   "outputs": [
    {
     "name": "stderr",
     "output_type": "stream",
     "text": []
    }
   ],
   "source": [
    "contribs = get_all_contrib('agu2015')\n",
    "papers = get_all_data('agu2015')"
   ]
  },
  {
   "cell_type": "code",
   "execution_count": 7,
   "metadata": {
    "collapsed": false
   },
   "outputs": [],
   "source": [
    "def section_tag_id(papers):\n",
    "    sections = set([p.section for p in papers])\n",
    "    tags = []\n",
    "    for s in sections:\n",
    "        i =0\n",
    "        tag = u''\n",
    "        while tag == u'':\n",
    "            tag = [p for p in papers if p.section == s][i].tag\n",
    "            i+=1\n",
    "        idx = tag[:2]\n",
    "        if tag[1] in [str(i) for i in range(10)]:\n",
    "            idx = tag[0]\n",
    "        tags.append(idx)\n",
    "    return dict(zip([str(f).strip() for f in sections],tags))\n",
    "            \n",
    "sections_dict = section_tag_id(papers)"
   ]
  },
  {
   "cell_type": "code",
   "execution_count": 9,
   "metadata": {
    "collapsed": false
   },
   "outputs": [],
   "source": [
    "def collect_info_authors(papers,contribs):\n",
    "    ''' Return a dataframe with several info on each authors '''\n",
    "    \n",
    "    #Collect country code\n",
    "    alpha3_code = {clean(f.name).lower():f.alpha3 for f in pycountry.countries}\n",
    "    \n",
    "    # Collect first basic info contained in contribs\n",
    "    df1 = pd.DataFrame([[f.country,f.name,len(f.tag_sections)] for f in contribs],\n",
    "                      columns = ['country','name','Ncontribs'])\n",
    "    \n",
    "    #Collect next how many contribs the authors have in each section\n",
    "    sections_dict = section_tag_id(papers) # Dict of the section name with their respective tag\n",
    "    #Make the dataframe, each colum is a section and the corresponding nb of contrib for each authors\n",
    "    #Index is the same than df.\n",
    "    df2 = pd.DataFrame([[sum([tag == f for f in contrib.tag_sections]) \n",
    "                         for tag in sections_dict.values()] for contrib in contribs],\n",
    "                       columns = sections_dict.keys())\n",
    "    df_final = df1.join(df2)\n",
    "    df_final['mask_test'] = [f.split(' ')[0] == 'Test' for f in df_final.name]\n",
    "    df_final = df_final[~df_final.mask_test]\n",
    "    df_final['alpha3_code'] = map(lambda x:alpha3_code[x], df_final.country)\n",
    "    return df_final"
   ]
  },
  {
   "cell_type": "code",
   "execution_count": 10,
   "metadata": {
    "collapsed": false
   },
   "outputs": [
    {
     "data": {
      "text/html": [
       "<div>\n",
       "<table border=\"1\" class=\"dataframe\">\n",
       "  <thead>\n",
       "    <tr style=\"text-align: right;\">\n",
       "      <th></th>\n",
       "      <th>country</th>\n",
       "      <th>name</th>\n",
       "      <th>Ncontribs</th>\n",
       "      <th>Public Affairs</th>\n",
       "      <th>Union</th>\n",
       "      <th>Tectonophysics</th>\n",
       "      <th>SPA-Aeronomy</th>\n",
       "      <th>Geodesy</th>\n",
       "      <th>Earth and Planetary Surface Processes</th>\n",
       "      <th>Planetary Sciences</th>\n",
       "      <th>...</th>\n",
       "      <th>Atmospheric Sciences</th>\n",
       "      <th>Volcanology, Geochemistry and Petrology</th>\n",
       "      <th>Earth and Space Science Informatics</th>\n",
       "      <th>SPA-Solar and Heliospheric Physics</th>\n",
       "      <th>Biogeosciences</th>\n",
       "      <th>SPA-Magnetospheric Physics</th>\n",
       "      <th>Nonlinear Geophysics</th>\n",
       "      <th>Education</th>\n",
       "      <th>mask_test</th>\n",
       "      <th>alpha3_code</th>\n",
       "    </tr>\n",
       "  </thead>\n",
       "  <tbody>\n",
       "    <tr>\n",
       "      <th>0</th>\n",
       "      <td>united states</td>\n",
       "      <td>Christopher Sabine</td>\n",
       "      <td>1</td>\n",
       "      <td>0</td>\n",
       "      <td>0</td>\n",
       "      <td>0</td>\n",
       "      <td>0</td>\n",
       "      <td>0</td>\n",
       "      <td>0</td>\n",
       "      <td>0</td>\n",
       "      <td>...</td>\n",
       "      <td>0</td>\n",
       "      <td>0</td>\n",
       "      <td>0</td>\n",
       "      <td>0</td>\n",
       "      <td>0</td>\n",
       "      <td>0</td>\n",
       "      <td>0</td>\n",
       "      <td>1</td>\n",
       "      <td>False</td>\n",
       "      <td>USA</td>\n",
       "    </tr>\n",
       "    <tr>\n",
       "      <th>1</th>\n",
       "      <td>united states</td>\n",
       "      <td>Cinzia Zuffada</td>\n",
       "      <td>2</td>\n",
       "      <td>0</td>\n",
       "      <td>0</td>\n",
       "      <td>0</td>\n",
       "      <td>0</td>\n",
       "      <td>0</td>\n",
       "      <td>0</td>\n",
       "      <td>0</td>\n",
       "      <td>...</td>\n",
       "      <td>1</td>\n",
       "      <td>0</td>\n",
       "      <td>0</td>\n",
       "      <td>0</td>\n",
       "      <td>1</td>\n",
       "      <td>0</td>\n",
       "      <td>0</td>\n",
       "      <td>0</td>\n",
       "      <td>False</td>\n",
       "      <td>USA</td>\n",
       "    </tr>\n",
       "  </tbody>\n",
       "</table>\n",
       "<p>2 rows × 32 columns</p>\n",
       "</div>"
      ],
      "text/plain": [
       "         country                name  Ncontribs  Public Affairs  Union  \\\n",
       "0  united states  Christopher Sabine          1               0      0   \n",
       "1  united states      Cinzia Zuffada          2               0      0   \n",
       "\n",
       "   Tectonophysics  SPA-Aeronomy  Geodesy  \\\n",
       "0               0             0        0   \n",
       "1               0             0        0   \n",
       "\n",
       "   Earth and Planetary Surface Processes  Planetary Sciences     ...       \\\n",
       "0                                      0                   0     ...        \n",
       "1                                      0                   0     ...        \n",
       "\n",
       "   Atmospheric Sciences  Volcanology, Geochemistry and Petrology  \\\n",
       "0                     0                                        0   \n",
       "1                     1                                        0   \n",
       "\n",
       "   Earth and Space Science Informatics  SPA-Solar and Heliospheric Physics  \\\n",
       "0                                    0                                   0   \n",
       "1                                    0                                   0   \n",
       "\n",
       "   Biogeosciences  SPA-Magnetospheric Physics  Nonlinear Geophysics  \\\n",
       "0               0                           0                     0   \n",
       "1               1                           0                     0   \n",
       "\n",
       "   Education  mask_test  alpha3_code  \n",
       "0          1      False          USA  \n",
       "1          0      False          USA  \n",
       "\n",
       "[2 rows x 32 columns]"
      ]
     },
     "execution_count": 10,
     "metadata": {},
     "output_type": "execute_result"
    }
   ],
   "source": [
    "df = collect_info_authors(papers,contribs)\n",
    "df.head(2)"
   ]
  },
  {
   "cell_type": "code",
   "execution_count": 23,
   "metadata": {
    "collapsed": false
   },
   "outputs": [
    {
     "data": {
      "text/plain": [
       "alpha3_code\n",
       "BLZ        0\n",
       "VGB        0\n",
       "COK        0\n",
       "ERI        0\n",
       "FSM        0\n",
       "CYM        0\n",
       "BHS        0\n",
       "ASM        0\n",
       "MYT        0\n",
       "SYC        0\n",
       "LSO        0\n",
       "BDI        0\n",
       "NIC        0\n",
       "LCA        1\n",
       "KHM        1\n",
       "CAF        1\n",
       "IRQ        1\n",
       "GUM        1\n",
       "GUF        1\n",
       "KIR        1\n",
       "LVA        1\n",
       "AFG        1\n",
       "MOZ        1\n",
       "PLW        1\n",
       "PSE        1\n",
       "ATA        1\n",
       "TGO        1\n",
       "AND        1\n",
       "UZB        1\n",
       "MKD        1\n",
       "       ...  \n",
       "ISL      176\n",
       "TUR      192\n",
       "SGP      233\n",
       "FIN      313\n",
       "CHL      378\n",
       "RUS      401\n",
       "DNK      404\n",
       "BEL      419\n",
       "AUT      436\n",
       "GEO      448\n",
       "NOR      587\n",
       "ESP      591\n",
       "NZL      636\n",
       "IND      720\n",
       "SWE      800\n",
       "TWN      800\n",
       "NLD      864\n",
       "MEX      885\n",
       "BRA      889\n",
       "CHE     1120\n",
       "AUS     1378\n",
       "ITA     1386\n",
       "PRK     1591\n",
       "CAN     2834\n",
       "CHN     3680\n",
       "FRA     3876\n",
       "GBR     3959\n",
       "JPN     4038\n",
       "DEU     4113\n",
       "USA    56041\n",
       "Name: Ncontribs, dtype: int64"
      ]
     },
     "execution_count": 23,
     "metadata": {},
     "output_type": "execute_result"
    }
   ],
   "source": [
    "group = df.groupby('alpha3_code')\n",
    "group.Ncontribs.sum().sort_values()"
   ]
  },
  {
   "cell_type": "code",
   "execution_count": 36,
   "metadata": {
    "collapsed": false
   },
   "outputs": [],
   "source": [
    "a = sns.color_palette('deep')"
   ]
  },
  {
   "cell_type": "code",
   "execution_count": 37,
   "metadata": {
    "collapsed": false
   },
   "outputs": [
    {
     "data": {
      "text/plain": [
       "[u'#4c72b0', u'#55a868', u'#c44e52', u'#8172b2', u'#ccb974', u'#64b5cd']"
      ]
     },
     "execution_count": 37,
     "metadata": {},
     "output_type": "execute_result"
    }
   ],
   "source": [
    "a.as_hex()"
   ]
  },
  {
   "cell_type": "code",
   "execution_count": 73,
   "metadata": {
    "collapsed": true
   },
   "outputs": [
    {
     "data": {
      "text/plain": [
       "{'AFG': '#DDEAF7',\n",
       " 'AGO': '#C9DDF0',\n",
       " 'ALB': '#C8DCF0',\n",
       " 'AND': '#D6E6F4',\n",
       " 'ARE': '#3989C1',\n",
       " 'ARG': '#1562A9',\n",
       " 'ARM': '#69ADD5',\n",
       " 'ASM': '#EEF5FC',\n",
       " 'ATA': '#D9E7F5',\n",
       " 'AUS': '#084082',\n",
       " 'AUT': '#09529D',\n",
       " 'BDI': '#E9F2FA',\n",
       " 'BEL': '#0A539E',\n",
       " 'BEN': '#5BA3D0',\n",
       " 'BFA': '#4A98C9',\n",
       " 'BGD': '#2D7DBB',\n",
       " 'BGR': '#AFD1E7',\n",
       " 'BHS': '#EFF6FC',\n",
       " 'BLZ': '#F6FAFF',\n",
       " 'BMU': '#B0D2E7',\n",
       " 'BOL': '#A9CFE5',\n",
       " 'BRA': '#084387',\n",
       " 'BRB': '#9DCAE1',\n",
       " 'BRN': '#8ABFDD',\n",
       " 'BTN': '#B7D4EA',\n",
       " 'BWA': '#77B5D9',\n",
       " 'CAF': '#E4EFF9',\n",
       " 'CAN': '#083A7A',\n",
       " 'CHE': '#084184',\n",
       " 'CHL': '#0E58A2',\n",
       " 'CHN': '#083979',\n",
       " 'CIV': '#5FA6D1',\n",
       " 'CMR': '#BAD6EB',\n",
       " 'COG': '#72B2D8',\n",
       " 'COK': '#F4F9FE',\n",
       " 'COL': '#1865AC',\n",
       " 'CPV': '#97C6DF',\n",
       " 'CRI': '#3181BD',\n",
       " 'CUB': '#CBDEF1',\n",
       " 'CYM': '#F0F6FD',\n",
       " 'CYP': '#71B1D7',\n",
       " 'CZE': '#135FA7',\n",
       " 'DEU': '#083370',\n",
       " 'DJI': '#CDDFF1',\n",
       " 'DMA': '#CDE0F1',\n",
       " 'DNK': '#0B559F',\n",
       " 'DZA': '#8DC1DD',\n",
       " 'ECU': '#1E6DB2',\n",
       " 'EGY': '#4493C7',\n",
       " 'ERI': '#F2F8FD',\n",
       " 'ESP': '#084D96',\n",
       " 'EST': '#5DA5D1',\n",
       " 'ETH': '#3D8DC4',\n",
       " 'FIN': '#0E59A2',\n",
       " 'FJI': '#7AB6D9',\n",
       " 'FRA': '#083776',\n",
       " 'FSM': '#F2F7FD',\n",
       " 'GAB': '#C6DBEF',\n",
       " 'GBR': '#083674',\n",
       " 'GEO': '#08509B',\n",
       " 'GHA': '#57A0CE',\n",
       " 'GIN': '#A0CBE2',\n",
       " 'GLP': '#94C4DF',\n",
       " 'GRC': '#2373B6',\n",
       " 'GRL': '#6DAFD7',\n",
       " 'GTM': '#61A7D2',\n",
       " 'GUF': '#E1EDF8',\n",
       " 'GUM': '#E2EDF8',\n",
       " 'HKG': '#1967AD',\n",
       " 'HRV': '#ABD0E6',\n",
       " 'HTI': '#C7DBEF',\n",
       " 'HUN': '#3787C0',\n",
       " 'IDN': '#1C6AB0',\n",
       " 'IND': '#084A91',\n",
       " 'IRL': '#1C6BB0',\n",
       " 'IRN': '#2A7AB9',\n",
       " 'IRQ': '#E3EEF9',\n",
       " 'ISL': '#125EA6',\n",
       " 'ISR': '#1561A9',\n",
       " 'ITA': '#083D7F',\n",
       " 'JAM': '#81BADB',\n",
       " 'JEY': '#2474B7',\n",
       " 'JOR': '#BED8EC',\n",
       " 'JPN': '#083471',\n",
       " 'KAZ': '#4695C8',\n",
       " 'KEN': '#3C8CC3',\n",
       " 'KGZ': '#A8CEE4',\n",
       " 'KHM': '#E6F0F9',\n",
       " 'KIR': '#DFECF7',\n",
       " 'KOR': '#8FC2DE',\n",
       " 'KWT': '#ADD0E6',\n",
       " 'LAO': '#B8D5EA',\n",
       " 'LBN': '#75B4D8',\n",
       " 'LCA': '#E7F0FA',\n",
       " 'LKA': '#99C7E0',\n",
       " 'LSO': '#EAF3FB',\n",
       " 'LTU': '#B4D3E9',\n",
       " 'LUX': '#2777B8',\n",
       " 'LVA': '#DFEBF7',\n",
       " 'MAR': '#4B98CA',\n",
       " 'MDG': '#5AA2CF',\n",
       " 'MEX': '#084488',\n",
       " 'MKD': '#D4E4F4',\n",
       " 'MLI': '#4090C5',\n",
       " 'MLT': '#A4CCE3',\n",
       " 'MMR': '#C2D9EE',\n",
       " 'MNG': '#3F8FC5',\n",
       " 'MOZ': '#DCEAF6',\n",
       " 'MSR': '#D3E4F3',\n",
       " 'MWI': '#4292C6',\n",
       " 'MYS': '#539ECD',\n",
       " 'MYT': '#EDF4FC',\n",
       " 'NAM': '#84BCDB',\n",
       " 'NCL': '#66ABD4',\n",
       " 'NER': '#3686C0',\n",
       " 'NIC': '#E8F1FA',\n",
       " 'NLD': '#08468B',\n",
       " 'NOR': '#084F99',\n",
       " 'NPL': '#2070B4',\n",
       " 'NZL': '#084C95',\n",
       " 'OMN': '#2B7BBA',\n",
       " 'PAK': '#56A0CE',\n",
       " 'PAN': '#529DCC',\n",
       " 'PER': '#3383BE',\n",
       " 'PHL': '#2676B8',\n",
       " 'PLW': '#DBE9F6',\n",
       " 'POL': '#1764AB',\n",
       " 'PRI': '#3080BD',\n",
       " 'PRK': '#083C7D',\n",
       " 'PRT': '#1F6EB3',\n",
       " 'PSE': '#DAE8F6',\n",
       " 'PYF': '#89BEDC',\n",
       " 'QAT': '#4E9ACB',\n",
       " 'REU': '#D2E3F3',\n",
       " 'RUS': '#0C56A0',\n",
       " 'RWA': '#BFD8ED',\n",
       " 'SAU': '#2171B5',\n",
       " 'SEN': '#7CB7DA',\n",
       " 'SGP': '#105BA4',\n",
       " 'SLB': '#B3D3E8',\n",
       " 'SLV': '#A5CDE3',\n",
       " 'SRB': '#7FB9DA',\n",
       " 'SVK': '#92C4DE',\n",
       " 'SVN': '#6AAED6',\n",
       " 'SWE': '#084990',\n",
       " 'SWZ': '#D1E2F3',\n",
       " 'SYC': '#EBF3FB',\n",
       " 'SYR': '#D0E1F2',\n",
       " 'TCD': '#C3DAEE',\n",
       " 'TGO': '#D8E7F5',\n",
       " 'THA': '#2E7EBC',\n",
       " 'TJK': '#A1CBE2',\n",
       " 'TTO': '#4F9BCB',\n",
       " 'TUN': '#65AAD4',\n",
       " 'TUR': '#115CA5',\n",
       " 'TWN': '#08478D',\n",
       " 'TZA': '#3484BF',\n",
       " 'UGA': '#CFE1F2',\n",
       " 'UKR': '#4896C8',\n",
       " 'URY': '#63A8D3',\n",
       " 'USA': '#08316D',\n",
       " 'UZB': '#D6E5F4',\n",
       " 'VEN': '#85BCDC',\n",
       " 'VGB': '#F5F9FE',\n",
       " 'VNM': '#3A8AC2',\n",
       " 'VUT': '#9CC9E1',\n",
       " 'ZAF': '#1A68AE',\n",
       " 'ZMB': '#BCD7EB',\n",
       " 'ZWE': '#CADEF0'}"
      ]
     },
     "execution_count": 73,
     "metadata": {},
     "output_type": "execute_result"
    }
   ],
   "source": [
    "list_codes = set(df.alpha3_code)\n",
    "group = df.groupby('alpha3_code')\n",
    "\n",
    "idxs = map(str,group.Ncontribs.sum().sort_values().index)\n",
    "colors = map(str,sns.color_palette('Blues',len(list_codes)).as_hex())\n",
    "colors = [f.upper() for f in colors]\n",
    "colors = dict(zip(idxs,colors))\n",
    "colors"
   ]
  },
  {
   "cell_type": "code",
   "execution_count": 55,
   "metadata": {
    "collapsed": false
   },
   "outputs": [
    {
     "data": {
      "text/plain": [
       "count      169.000000\n",
       "mean       573.591716\n",
       "std       4353.949162\n",
       "min          0.000000\n",
       "25%          3.000000\n",
       "50%          9.000000\n",
       "75%         67.000000\n",
       "max      56041.000000\n",
       "Name: Ncontribs, dtype: float64"
      ]
     },
     "execution_count": 55,
     "metadata": {},
     "output_type": "execute_result"
    }
   ],
   "source": [
    "group.Ncontribs.sum().sort_values().describe()"
   ]
  },
  {
   "cell_type": "code",
   "execution_count": null,
   "metadata": {
    "collapsed": true
   },
   "outputs": [],
   "source": []
  },
  {
   "cell_type": "code",
   "execution_count": 70,
   "metadata": {
    "collapsed": false
   },
   "outputs": [],
   "source": [
    "def Attribute_key(N):\n",
    "    if N>20000:\n",
    "        return 'Hign'\n",
    "    elif N>10000:\n",
    "        return 'Medium high'\n",
    "    elif  N> 1000:\n",
    "        return 'Medium'\n",
    "    elif N> 500:\n",
    "        return 'Low medium'\n",
    "    else:\n",
    "        return 'Low'\n",
    "    "
   ]
  },
  {
   "cell_type": "code",
   "execution_count": 74,
   "metadata": {
    "collapsed": false
   },
   "outputs": [],
   "source": [
    "import seaborn as sns\n",
    "\n",
    "def datamap_json(df):\n",
    "    json = {}\n",
    "    list_codes = set(df.alpha3_code)\n",
    "    group = df.groupby('alpha3_code')\n",
    "    \n",
    "    for code in list_codes:\n",
    "        series =  group.get_group(code).drop(['name','country','mask_test','alpha3_code'],axis =1)\n",
    "        N = len(series)\n",
    "        series = series.sum().sort_values(ascending = False)\n",
    "        json[code] = {'fillKey': code,\n",
    "                      'Ncontributors': N,\n",
    "                      'Ncontributions' : series[0],\n",
    "                      'Maintopic': series.index[1]+ ' : %2.1f %%'%(series[1]/float(series[0])*100),\n",
    "                      'Secondtopic': series.index[2]+ ' : %2.1f %%'%(series[2]/float(series[0])*100),\n",
    "                      'Thirdtopic' : series.index[3]+ ' : %2.1f %%'%(series[3]/float(series[0])*100)}\n",
    "        #json[code] = {'fillKey': Attribute_key(N)}\n",
    "    return json\n",
    "        \n",
    "dat = datamap_json(df)\n",
    "\n",
    "import json\n",
    "json_path = os.path.join(home,'Documents','project','agu_data','gist','WorlMapContribuCountry')\n",
    "name_json = os.path.join(json_path,'data')\n",
    "with codecs.open(name_json + '.json', 'w+', 'utf8') as outfile:\n",
    "    json.dump(dat,outfile, sort_keys=True,indent=4,ensure_ascii=False)\n"
   ]
  },
  {
   "cell_type": "code",
   "execution_count": 191,
   "metadata": {
    "collapsed": true
   },
   "outputs": [],
   "source": [
    "list_codes = set(df.alpha3_code)\n",
    "group = df.groupby('alpha3_code')"
   ]
  },
  {
   "cell_type": "code",
   "execution_count": 210,
   "metadata": {
    "collapsed": false
   },
   "outputs": [],
   "source": [
    "series = group.get_group('AFG').drop(['name','country','mask_test','alpha3_code'],axis =1)\n",
    "#series = series.sum().sort_values(ascending = False)"
   ]
  },
  {
   "cell_type": "code",
   "execution_count": 212,
   "metadata": {
    "collapsed": false
   },
   "outputs": [
    {
     "data": {
      "text/plain": [
       "1"
      ]
     },
     "execution_count": 212,
     "metadata": {},
     "output_type": "execute_result"
    }
   ],
   "source": [
    "len(series)"
   ]
  },
  {
   "cell_type": "code",
   "execution_count": 208,
   "metadata": {
    "collapsed": false
   },
   "outputs": [
    {
     "data": {
      "text/plain": [
       "{'Main topic': 'Atmospheric Sciences : 15.6 %',\n",
       " 'N contributions': 56041,\n",
       " 'Second topic': 'Hydrology : 11.1 %',\n",
       " 'Third topic': 'Biogeosciences : 10.2 %',\n",
       " 'fillKey': 'Potential'}"
      ]
     },
     "execution_count": 208,
     "metadata": {},
     "output_type": "execute_result"
    }
   ],
   "source": [
    "dat['USA']"
   ]
  },
  {
   "cell_type": "code",
   "execution_count": 115,
   "metadata": {
    "collapsed": false
   },
   "outputs": [],
   "source": [
    "group = df.groupby('alpha3_code')"
   ]
  },
  {
   "cell_type": "code",
   "execution_count": 118,
   "metadata": {
    "collapsed": false
   },
   "outputs": [
    {
     "data": {
      "text/plain": [
       "alpha3_code\n",
       "AFG        1\n",
       "AGO        2\n",
       "ALB        2\n",
       "AND        1\n",
       "ARE       30\n",
       "ARG      129\n",
       "ARM        9\n",
       "ASM        0\n",
       "ATA        1\n",
       "AUS     1378\n",
       "AUT      436\n",
       "BDI        0\n",
       "BEL      419\n",
       "BEN       12\n",
       "BFA       18\n",
       "BGD       52\n",
       "BGR        4\n",
       "BHS        0\n",
       "BLZ        0\n",
       "BMU        4\n",
       "BOL        4\n",
       "BRA      889\n",
       "BRB        5\n",
       "BRN        6\n",
       "BTN        3\n",
       "BWA        7\n",
       "CAF        1\n",
       "CAN     2834\n",
       "CHE     1120\n",
       "CHL      378\n",
       "       ...  \n",
       "SLB        4\n",
       "SLV        4\n",
       "SRB        7\n",
       "SVK        5\n",
       "SVN        9\n",
       "SWE      800\n",
       "SWZ        2\n",
       "SYC        0\n",
       "SYR        2\n",
       "TCD        3\n",
       "TGO        1\n",
       "THA       49\n",
       "TJK        4\n",
       "TTO       16\n",
       "TUN       10\n",
       "TUR      192\n",
       "TWN      800\n",
       "TZA       40\n",
       "UGA        2\n",
       "UKR       19\n",
       "URY       10\n",
       "USA    56041\n",
       "UZB        1\n",
       "VEN        6\n",
       "VGB        0\n",
       "VNM       27\n",
       "VUT        5\n",
       "ZAF       96\n",
       "ZMB        3\n",
       "ZWE        2\n",
       "Name: Ncontribs, dtype: int64"
      ]
     },
     "execution_count": 118,
     "metadata": {},
     "output_type": "execute_result"
    }
   ],
   "source": [
    "group.Ncontribs.sum()"
   ]
  },
  {
   "cell_type": "code",
   "execution_count": null,
   "metadata": {
    "collapsed": true
   },
   "outputs": [],
   "source": [
    "import pycountry\n",
    "def clean(text):\n",
    "    text = unicodedata.normalize('NFKD', text).encode('ascii', 'ignore')\n",
    "    text = text.replace('\\n', ' ')\n",
    "    return text\n",
    "\n",
    "countries = {}\n",
    "for country in pycountry.countries:\n",
    "    countries[country.name.lower()] = country.alpha3\n",
    "countries['taiwan'] = 'TWN'\n",
    "\n",
    "example = [[f.name,f.address,f.country] for f  in contribs[:50] if f.country != '']\n",
    "df = pd.DataFrame(example,columns = ['name','address','country'],index = range(len(example)))\n",
    "df['Name'] = df.name\n",
    "df['codes'] = [countries[f] for f in df.country]\n",
    "\n",
    "colors = dict(zip(countries.values(),sns.color_palette('deep',len(countries.values())).as_hex()))\n",
    "\n",
    "def datamap_json(df):\n",
    "    json = {}\n",
    "    list_codes = set(df.codes)\n",
    "    \n",
    "    for code in list_codes:\n",
    "        colab = df[df.codes == code]\n",
    "        names = ['<br/> ' + clean(row.Name) + ' from ' + clean(row.address.split(',')[0]) \n",
    "                 for i,row in colab.iterrows()]\n",
    "        json[code] = {'fillKey': 'Potential',\n",
    "                      'Number of potential collaborators' : str(len(names)),\n",
    "                      'Names': ''.join(names)}\n",
    "    return json\n",
    "        \n",
    "dat = datamap_json(df)\n",
    "\n",
    "import json\n",
    "name_json = os.path.join('/Users/thorey/Documents/repos/agu_data/Notebook','test')\n",
    "with codecs.open(name_json + '.json', 'w+', 'utf8') as outfile:\n",
    "    json.dump(dat,outfile, sort_keys=True,indent=4,ensure_ascii=False)\n"
   ]
  },
  {
   "cell_type": "code",
   "execution_count": 86,
   "metadata": {
    "collapsed": false
   },
   "outputs": [],
   "source": [
    "alpha3_code = {clean(f.name).lower():f.alpha3 for f in pycountry.countries}"
   ]
  },
  {
   "cell_type": "code",
   "execution_count": 371,
   "metadata": {
    "collapsed": true
   },
   "outputs": [],
   "source": [
    "import pycountry"
   ]
  },
  {
   "cell_type": "code",
   "execution_count": 368,
   "metadata": {
    "collapsed": false
   },
   "outputs": [
    {
     "data": {
      "text/html": [
       "<div>\n",
       "<table border=\"1\" class=\"dataframe\">\n",
       "  <thead>\n",
       "    <tr style=\"text-align: right;\">\n",
       "      <th></th>\n",
       "      <th>id</th>\n",
       "      <th>value</th>\n",
       "    </tr>\n",
       "  </thead>\n",
       "  <tbody>\n",
       "    <tr>\n",
       "      <th>0</th>\n",
       "      <td>AF</td>\n",
       "      <td>afghanistan</td>\n",
       "    </tr>\n",
       "    <tr>\n",
       "      <th>1</th>\n",
       "      <td>AX</td>\n",
       "      <td>Åland islands</td>\n",
       "    </tr>\n",
       "    <tr>\n",
       "      <th>2</th>\n",
       "      <td>AL</td>\n",
       "      <td>albania</td>\n",
       "    </tr>\n",
       "    <tr>\n",
       "      <th>3</th>\n",
       "      <td>DZ</td>\n",
       "      <td>algeria</td>\n",
       "    </tr>\n",
       "    <tr>\n",
       "      <th>4</th>\n",
       "      <td>AS</td>\n",
       "      <td>american samoa</td>\n",
       "    </tr>\n",
       "    <tr>\n",
       "      <th>5</th>\n",
       "      <td>AD</td>\n",
       "      <td>andorra</td>\n",
       "    </tr>\n",
       "    <tr>\n",
       "      <th>6</th>\n",
       "      <td>AO</td>\n",
       "      <td>angola</td>\n",
       "    </tr>\n",
       "    <tr>\n",
       "      <th>7</th>\n",
       "      <td>AI</td>\n",
       "      <td>anguilla</td>\n",
       "    </tr>\n",
       "    <tr>\n",
       "      <th>8</th>\n",
       "      <td>AQ</td>\n",
       "      <td>antarctica</td>\n",
       "    </tr>\n",
       "    <tr>\n",
       "      <th>9</th>\n",
       "      <td>AG</td>\n",
       "      <td>antigua &amp; barbuda</td>\n",
       "    </tr>\n",
       "    <tr>\n",
       "      <th>10</th>\n",
       "      <td>AR</td>\n",
       "      <td>argentina</td>\n",
       "    </tr>\n",
       "    <tr>\n",
       "      <th>11</th>\n",
       "      <td>AM</td>\n",
       "      <td>armenia</td>\n",
       "    </tr>\n",
       "    <tr>\n",
       "      <th>12</th>\n",
       "      <td>AW</td>\n",
       "      <td>aruba</td>\n",
       "    </tr>\n",
       "    <tr>\n",
       "      <th>13</th>\n",
       "      <td>AC</td>\n",
       "      <td>ascension island</td>\n",
       "    </tr>\n",
       "    <tr>\n",
       "      <th>14</th>\n",
       "      <td>AU</td>\n",
       "      <td>australia</td>\n",
       "    </tr>\n",
       "    <tr>\n",
       "      <th>15</th>\n",
       "      <td>AT</td>\n",
       "      <td>austria</td>\n",
       "    </tr>\n",
       "    <tr>\n",
       "      <th>16</th>\n",
       "      <td>AZ</td>\n",
       "      <td>azerbaijan</td>\n",
       "    </tr>\n",
       "    <tr>\n",
       "      <th>17</th>\n",
       "      <td>BS</td>\n",
       "      <td>bahamas</td>\n",
       "    </tr>\n",
       "    <tr>\n",
       "      <th>18</th>\n",
       "      <td>BH</td>\n",
       "      <td>bahrain</td>\n",
       "    </tr>\n",
       "    <tr>\n",
       "      <th>19</th>\n",
       "      <td>BD</td>\n",
       "      <td>bangladesh</td>\n",
       "    </tr>\n",
       "    <tr>\n",
       "      <th>20</th>\n",
       "      <td>BB</td>\n",
       "      <td>barbados</td>\n",
       "    </tr>\n",
       "    <tr>\n",
       "      <th>21</th>\n",
       "      <td>BY</td>\n",
       "      <td>belarus</td>\n",
       "    </tr>\n",
       "    <tr>\n",
       "      <th>22</th>\n",
       "      <td>BE</td>\n",
       "      <td>belgium</td>\n",
       "    </tr>\n",
       "    <tr>\n",
       "      <th>23</th>\n",
       "      <td>BZ</td>\n",
       "      <td>belize</td>\n",
       "    </tr>\n",
       "    <tr>\n",
       "      <th>24</th>\n",
       "      <td>BJ</td>\n",
       "      <td>benin</td>\n",
       "    </tr>\n",
       "    <tr>\n",
       "      <th>25</th>\n",
       "      <td>BM</td>\n",
       "      <td>bermuda</td>\n",
       "    </tr>\n",
       "    <tr>\n",
       "      <th>26</th>\n",
       "      <td>BT</td>\n",
       "      <td>bhutan</td>\n",
       "    </tr>\n",
       "    <tr>\n",
       "      <th>27</th>\n",
       "      <td>BO</td>\n",
       "      <td>bolivia</td>\n",
       "    </tr>\n",
       "    <tr>\n",
       "      <th>28</th>\n",
       "      <td>BA</td>\n",
       "      <td>bosnia &amp; herzegovina</td>\n",
       "    </tr>\n",
       "    <tr>\n",
       "      <th>29</th>\n",
       "      <td>BW</td>\n",
       "      <td>botswana</td>\n",
       "    </tr>\n",
       "    <tr>\n",
       "      <th>...</th>\n",
       "      <td>...</td>\n",
       "      <td>...</td>\n",
       "    </tr>\n",
       "    <tr>\n",
       "      <th>223</th>\n",
       "      <td>TH</td>\n",
       "      <td>thailand</td>\n",
       "    </tr>\n",
       "    <tr>\n",
       "      <th>224</th>\n",
       "      <td>TL</td>\n",
       "      <td>timor-leste</td>\n",
       "    </tr>\n",
       "    <tr>\n",
       "      <th>225</th>\n",
       "      <td>TG</td>\n",
       "      <td>togo</td>\n",
       "    </tr>\n",
       "    <tr>\n",
       "      <th>226</th>\n",
       "      <td>TK</td>\n",
       "      <td>tokelau</td>\n",
       "    </tr>\n",
       "    <tr>\n",
       "      <th>227</th>\n",
       "      <td>TO</td>\n",
       "      <td>tonga</td>\n",
       "    </tr>\n",
       "    <tr>\n",
       "      <th>228</th>\n",
       "      <td>TT</td>\n",
       "      <td>trinidad &amp; tobago</td>\n",
       "    </tr>\n",
       "    <tr>\n",
       "      <th>229</th>\n",
       "      <td>TA</td>\n",
       "      <td>tristan da cunha</td>\n",
       "    </tr>\n",
       "    <tr>\n",
       "      <th>230</th>\n",
       "      <td>TN</td>\n",
       "      <td>tunisia</td>\n",
       "    </tr>\n",
       "    <tr>\n",
       "      <th>231</th>\n",
       "      <td>TR</td>\n",
       "      <td>turkey</td>\n",
       "    </tr>\n",
       "    <tr>\n",
       "      <th>232</th>\n",
       "      <td>TM</td>\n",
       "      <td>turkmenistan</td>\n",
       "    </tr>\n",
       "    <tr>\n",
       "      <th>233</th>\n",
       "      <td>TC</td>\n",
       "      <td>turks &amp; caicos islands</td>\n",
       "    </tr>\n",
       "    <tr>\n",
       "      <th>234</th>\n",
       "      <td>TV</td>\n",
       "      <td>tuvalu</td>\n",
       "    </tr>\n",
       "    <tr>\n",
       "      <th>235</th>\n",
       "      <td>UM</td>\n",
       "      <td>u.s. outlying islands</td>\n",
       "    </tr>\n",
       "    <tr>\n",
       "      <th>236</th>\n",
       "      <td>VI</td>\n",
       "      <td>u.s. virgin islands</td>\n",
       "    </tr>\n",
       "    <tr>\n",
       "      <th>237</th>\n",
       "      <td>UG</td>\n",
       "      <td>uganda</td>\n",
       "    </tr>\n",
       "    <tr>\n",
       "      <th>238</th>\n",
       "      <td>UA</td>\n",
       "      <td>ukraine</td>\n",
       "    </tr>\n",
       "    <tr>\n",
       "      <th>239</th>\n",
       "      <td>AE</td>\n",
       "      <td>united arab emirates</td>\n",
       "    </tr>\n",
       "    <tr>\n",
       "      <th>240</th>\n",
       "      <td>GB</td>\n",
       "      <td>united kingdom</td>\n",
       "    </tr>\n",
       "    <tr>\n",
       "      <th>241</th>\n",
       "      <td>US</td>\n",
       "      <td>united states</td>\n",
       "    </tr>\n",
       "    <tr>\n",
       "      <th>242</th>\n",
       "      <td>UY</td>\n",
       "      <td>uruguay</td>\n",
       "    </tr>\n",
       "    <tr>\n",
       "      <th>243</th>\n",
       "      <td>UZ</td>\n",
       "      <td>uzbekistan</td>\n",
       "    </tr>\n",
       "    <tr>\n",
       "      <th>244</th>\n",
       "      <td>VU</td>\n",
       "      <td>vanuatu</td>\n",
       "    </tr>\n",
       "    <tr>\n",
       "      <th>245</th>\n",
       "      <td>VA</td>\n",
       "      <td>vatican city</td>\n",
       "    </tr>\n",
       "    <tr>\n",
       "      <th>246</th>\n",
       "      <td>VE</td>\n",
       "      <td>venezuela</td>\n",
       "    </tr>\n",
       "    <tr>\n",
       "      <th>247</th>\n",
       "      <td>VN</td>\n",
       "      <td>vietnam</td>\n",
       "    </tr>\n",
       "    <tr>\n",
       "      <th>248</th>\n",
       "      <td>WF</td>\n",
       "      <td>wallis &amp; futuna</td>\n",
       "    </tr>\n",
       "    <tr>\n",
       "      <th>249</th>\n",
       "      <td>EH</td>\n",
       "      <td>western sahara</td>\n",
       "    </tr>\n",
       "    <tr>\n",
       "      <th>250</th>\n",
       "      <td>YE</td>\n",
       "      <td>yemen</td>\n",
       "    </tr>\n",
       "    <tr>\n",
       "      <th>251</th>\n",
       "      <td>ZM</td>\n",
       "      <td>zambia</td>\n",
       "    </tr>\n",
       "    <tr>\n",
       "      <th>252</th>\n",
       "      <td>ZW</td>\n",
       "      <td>zimbabwe</td>\n",
       "    </tr>\n",
       "  </tbody>\n",
       "</table>\n",
       "<p>253 rows × 2 columns</p>\n",
       "</div>"
      ],
      "text/plain": [
       "     id                   value\n",
       "0    AF             afghanistan\n",
       "1    AX           Åland islands\n",
       "2    AL                 albania\n",
       "3    DZ                 algeria\n",
       "4    AS          american samoa\n",
       "5    AD                 andorra\n",
       "6    AO                  angola\n",
       "7    AI                anguilla\n",
       "8    AQ              antarctica\n",
       "9    AG       antigua & barbuda\n",
       "10   AR               argentina\n",
       "11   AM                 armenia\n",
       "12   AW                   aruba\n",
       "13   AC        ascension island\n",
       "14   AU               australia\n",
       "15   AT                 austria\n",
       "16   AZ              azerbaijan\n",
       "17   BS                 bahamas\n",
       "18   BH                 bahrain\n",
       "19   BD              bangladesh\n",
       "20   BB                barbados\n",
       "21   BY                 belarus\n",
       "22   BE                 belgium\n",
       "23   BZ                  belize\n",
       "24   BJ                   benin\n",
       "25   BM                 bermuda\n",
       "26   BT                  bhutan\n",
       "27   BO                 bolivia\n",
       "28   BA    bosnia & herzegovina\n",
       "29   BW                botswana\n",
       "..   ..                     ...\n",
       "223  TH                thailand\n",
       "224  TL             timor-leste\n",
       "225  TG                    togo\n",
       "226  TK                 tokelau\n",
       "227  TO                   tonga\n",
       "228  TT       trinidad & tobago\n",
       "229  TA        tristan da cunha\n",
       "230  TN                 tunisia\n",
       "231  TR                  turkey\n",
       "232  TM            turkmenistan\n",
       "233  TC  turks & caicos islands\n",
       "234  TV                  tuvalu\n",
       "235  UM   u.s. outlying islands\n",
       "236  VI     u.s. virgin islands\n",
       "237  UG                  uganda\n",
       "238  UA                 ukraine\n",
       "239  AE    united arab emirates\n",
       "240  GB          united kingdom\n",
       "241  US           united states\n",
       "242  UY                 uruguay\n",
       "243  UZ              uzbekistan\n",
       "244  VU                 vanuatu\n",
       "245  VA            vatican city\n",
       "246  VE               venezuela\n",
       "247  VN                 vietnam\n",
       "248  WF         wallis & futuna\n",
       "249  EH          western sahara\n",
       "250  YE                   yemen\n",
       "251  ZM                  zambia\n",
       "252  ZW                zimbabwe\n",
       "\n",
       "[253 rows x 2 columns]"
      ]
     },
     "execution_count": 368,
     "metadata": {},
     "output_type": "execute_result"
    }
   ],
   "source": [
    "COUNTRY"
   ]
  },
  {
   "cell_type": "code",
   "execution_count": null,
   "metadata": {
    "collapsed": true
   },
   "outputs": [],
   "source": []
  }
 ],
 "metadata": {
  "kernelspec": {
   "display_name": "Python 2",
   "language": "python",
   "name": "python2"
  },
  "language_info": {
   "codemirror_mode": {
    "name": "ipython",
    "version": 2
   },
   "file_extension": ".py",
   "mimetype": "text/x-python",
   "name": "python",
   "nbconvert_exporter": "python",
   "pygments_lexer": "ipython2",
   "version": "2.7.11"
  },
  "latex_envs": {
   "bibliofile": "biblio.bib",
   "cite_by": "apalike",
   "current_citInitial": 1,
   "eqLabelWithNumbers": true,
   "eqNumInitial": 0
  }
 },
 "nbformat": 4,
 "nbformat_minor": 0
}
