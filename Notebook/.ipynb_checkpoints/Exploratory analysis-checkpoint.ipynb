{
 "cells": [
  {
   "cell_type": "code",
   "execution_count": 34,
   "metadata": {
    "collapsed": false
   },
   "outputs": [
    {
     "name": "stdout",
     "output_type": "stream",
     "text": [
      "The autoreload extension is already loaded. To reload it, use:\n",
      "  %reload_ext autoreload\n"
     ]
    }
   ],
   "source": [
    "%load_ext autoreload \n",
    "%autoreload 2\n",
    "import os\n",
    "from os.path import expanduser\n",
    "home = expanduser(\"~\")\n",
    "os.chdir(os.path.join(home,'Documents','project','agu_data','repo','agu_data'))\n",
    "tablepath = os.path.join(home,'Documents','project','agu_data','repo','Notebook','Tables')"
   ]
  },
  {
   "cell_type": "code",
   "execution_count": 58,
   "metadata": {
    "collapsed": false
   },
   "outputs": [],
   "source": [
    "import matplotlib.pylab as plt\n",
    "%matplotlib inline"
   ]
  },
  {
   "cell_type": "markdown",
   "metadata": {},
   "source": [
    "# AGU 2015: Exploratory analysis"
   ]
  },
  {
   "cell_type": "markdown",
   "metadata": {},
   "source": [
    "Agu_Data\n",
    "-------\n",
    "\n",
    "I recently decided to scrap the AGU website [AGU](https://meetings.agu.org/) to look for\n",
    "interesting pattern in the abstract. Here is a first analysis.\n"
   ]
  },
  {
   "cell_type": "markdown",
   "metadata": {},
   "source": [
    "## Data "
   ]
  },
  {
   "cell_type": "code",
   "execution_count": 35,
   "metadata": {
    "collapsed": false
   },
   "outputs": [],
   "source": [
    "from Data_Utils import *\n",
    "import pandas as pd"
   ]
  },
  {
   "cell_type": "code",
   "execution_count": 16,
   "metadata": {
    "code_folding": [],
    "collapsed": false
   },
   "outputs": [
    {
     "name": "stderr",
     "output_type": "stream",
     "text": []
    }
   ],
   "source": [
    "from nltk.tokenize import RegexpTokenizer\n",
    "tokenizer = RegexpTokenizer(r'\\w+')\n",
    "\n",
    "def presentation(time):\n",
    "    time_beg = time.split('-')[0].split(':')[0]\n",
    "    time_end = time.split('-')[1].split(':')[0]\n",
    "    if int(time_end)-int(time_beg) == 0:\n",
    "        return 'Oral'\n",
    "    else:\n",
    "        return 'Poster'\n",
    "    \n",
    "def clean_session(session):\n",
    "    return ' '.join([f for f in session.split(' ') if f not in ['I','II','III','IV','V','Posters','(Half Session)']])\n",
    "    \n",
    "def extract_info(obj):\n",
    "    ''' obj is a Paper object '''\n",
    "    try:\n",
    "        year = str(obj.date.split(',')[1].split(' ')[-1])\n",
    "        day = obj.date.split(',')[0].strip()\n",
    "        date = obj.date.split(',')[1].strip()\n",
    "        nb_authors = len(obj.authors)\n",
    "        place = obj.place.split('-')[0].strip()\n",
    "        room = obj.place.split('-')[-1].strip()\n",
    "        ref = len(obj.reference)\n",
    "        section = obj.section.strip().encode('utf-8')\n",
    "        session = clean_session(obj.session.strip()).encode('utf-8')\n",
    "        pres = presentation(obj.time)\n",
    "        title_words = tokenizer.tokenize(repr(obj.title[0]).lower())\n",
    "        invited = int('invited' in title_words)\n",
    "        lentitle = len(title_words)-1 # to remove the 'u' from unicode\n",
    "        return [day,date,nb_authors,place,room,ref,section,session,pres,invited,lentitle,year]\n",
    "    except:\n",
    "        return ['']\n",
    "    \n",
    "columns = ['day','date','nb_authors','place','room','ref','section','session','pres','invited','lentitle','year']\n",
    "df = pd.DataFrame(columns = columns)\n",
    "for year in [2014,2015]:\n",
    "    data = get_all_data('agu'+str(year))\n",
    "    df = df.append(pd.DataFrame(map(extract_info,data),columns = columns).dropna())\n",
    "    df.to_csv(os.path.join(tablepath,'agu_exploratory_tmp.csv'))\n",
    "    "
   ]
  },
  {
   "cell_type": "markdown",
   "metadata": {},
   "source": [
    "# Rapid inspection"
   ]
  },
  {
   "cell_type": "code",
   "execution_count": 14,
   "metadata": {
    "collapsed": false
   },
   "outputs": [
    {
     "data": {
      "text/plain": [
       "(22204, 23291)"
      ]
     },
     "execution_count": 14,
     "metadata": {},
     "output_type": "execute_result"
    }
   ],
   "source": [
    "len(df[df.year == '2015']),len(df[df.year == '2014'])"
   ]
  },
  {
   "cell_type": "markdown",
   "metadata": {},
   "source": [
    "#  Ok"
   ]
  },
  {
   "cell_type": "code",
   "execution_count": 36,
   "metadata": {
    "collapsed": false
   },
   "outputs": [
    {
     "data": {
      "text/html": [
       "<script type='text/javascript' src='https://public.tableau.com/javascripts/api/viz_v1.js'></script><div class='tableauPlaceholder' style='width: 654px; height: 742px;'><noscript><a href='#'><img alt='ExploratoryAnalysisSection ' src='https:&#47;&#47;public.tableau.com&#47;static&#47;images&#47;Ex&#47;ExploratoryAnalysisAGUSection&#47;ExploratoryAnalysisSection&#47;1_rss.png' style='border: none' /></a></noscript><object class='tableauViz' width='654' height='742' style='display:none;'><param name='host_url' value='https%3A%2F%2Fpublic.tableau.com%2F' /> <param name='site_root' value='' /><param name='name' value='ExploratoryAnalysisAGUSection&#47;ExploratoryAnalysisSection' /><param name='tabs' value='no' /><param name='toolbar' value='yes' /><param name='static_image' value='https:&#47;&#47;public.tableau.com&#47;static&#47;images&#47;Ex&#47;ExploratoryAnalysisAGUSection&#47;ExploratoryAnalysisSection&#47;1.png' /> <param name='animate_transition' value='yes' /><param name='display_static_image' value='yes' /><param name='display_spinner' value='yes' /><param name='display_overlay' value='yes' /><param name='display_count' value='yes' /><param name='showVizHome' value='no' /><param name='showTabs' value='y' /><param name='bootstrapWhenNotified' value='true' /></object></div>"
      ],
      "text/plain": [
       "<IPython.core.display.HTML object>"
      ]
     },
     "execution_count": 36,
     "metadata": {},
     "output_type": "execute_result"
    }
   ],
   "source": [
    "js = \"<script type='text/javascript' src='https://public.tableau.com/javascripts/api/viz_v1.js'></script><div class='tableauPlaceholder' style='width: 654px; height: 742px;'><noscript><a href='#'><img alt='ExploratoryAnalysisSection ' src='https:&#47;&#47;public.tableau.com&#47;static&#47;images&#47;Ex&#47;ExploratoryAnalysisAGUSection&#47;ExploratoryAnalysisSection&#47;1_rss.png' style='border: none' /></a></noscript><object class='tableauViz' width='654' height='742' style='display:none;'><param name='host_url' value='https%3A%2F%2Fpublic.tableau.com%2F' /> <param name='site_root' value='' /><param name='name' value='ExploratoryAnalysisAGUSection&#47;ExploratoryAnalysisSection' /><param name='tabs' value='no' /><param name='toolbar' value='yes' /><param name='static_image' value='https:&#47;&#47;public.tableau.com&#47;static&#47;images&#47;Ex&#47;ExploratoryAnalysisAGUSection&#47;ExploratoryAnalysisSection&#47;1.png' /> <param name='animate_transition' value='yes' /><param name='display_static_image' value='yes' /><param name='display_spinner' value='yes' /><param name='display_overlay' value='yes' /><param name='display_count' value='yes' /><param name='showVizHome' value='no' /><param name='showTabs' value='y' /><param name='bootstrapWhenNotified' value='true' /></object></div>\"\n",
    "from IPython.display import HTML\n",
    "HTML(js)"
   ]
  },
  {
   "cell_type": "markdown",
   "metadata": {},
   "source": [
    "# Explore by sections"
   ]
  },
  {
   "cell_type": "code",
   "execution_count": 39,
   "metadata": {
    "collapsed": false
   },
   "outputs": [
    {
     "name": "stderr",
     "output_type": "stream",
     "text": []
    }
   ],
   "source": [
    "papers = get_all_data('agu2015')\n",
    "names = get_all_contrib('agu2015')"
   ]
  },
  {
   "cell_type": "markdown",
   "metadata": {},
   "source": [
    "## Extract the datas as pandas dataframe "
   ]
  },
  {
   "cell_type": "code",
   "execution_count": 43,
   "metadata": {
    "collapsed": false
   },
   "outputs": [
    {
     "name": "stderr",
     "output_type": "stream",
     "text": []
    }
   ],
   "source": [
    "from nltk.tokenize import RegexpTokenizer\n",
    "tokenizer = RegexpTokenizer(r'\\w+')\n",
    "\n",
    "def presentation(time):\n",
    "    time_beg = time.split('-')[0].split(':')[0]\n",
    "    time_end = time.split('-')[1].split(':')[0]\n",
    "    if int(time_end)-int(time_beg) == 0:\n",
    "        return 'Oral'\n",
    "    else:\n",
    "        return 'Poster'\n",
    "    \n",
    "def clean_session(session):\n",
    "    return ' '.join([f for f in session.split(' ') if f not in ['I','II','III','IV','V','Posters','(Half Session)']])\n",
    "    \n",
    "def extract_info(obj):\n",
    "    ''' obj is a Paper object '''\n",
    "    try:\n",
    "        year = str(obj.date.split(',')[1].split(' ')[-1])\n",
    "        day = obj.date.split(',')[0].strip()\n",
    "        date = obj.date.split(',')[1].strip()\n",
    "        nb_authors = len(obj.authors)\n",
    "        place = obj.place.split('-')[0].strip()\n",
    "        room = obj.place.split('-')[-1].strip()\n",
    "        ref = len(obj.reference)\n",
    "        section = obj.section.strip().encode('utf-8')\n",
    "        session = clean_session(obj.session.strip()).encode('utf-8')\n",
    "        pres = presentation(obj.time)\n",
    "        title_words = tokenizer.tokenize(repr(obj.title[0]).lower())\n",
    "        invited = int('invited' in title_words)\n",
    "        lentitle = len(title_words)-1 # to remove the 'u' from unicode\n",
    "        return [day,date,nb_authors,place,room,ref,section,session,pres,invited,lentitle,year]\n",
    "    except:\n",
    "        return ['']\n",
    "    \n",
    "columns = ['day','date','nb_authors','place','room','ref','section','session','pres','invited','lentitle','year']\n",
    "df = pd.DataFrame(columns = columns)\n",
    "for year in [2014,2015]:\n",
    "    data = get_all_data('agu'+str(year))\n",
    "    df = df.append(pd.DataFrame(map(extract_info,data),columns = columns).dropna())\n",
    "    #df.to_csv(os.path.join(tablepath,'agu_exploratory_tmp.csv'))\n",
    "    "
   ]
  },
  {
   "cell_type": "code",
   "execution_count": 100,
   "metadata": {
    "collapsed": false
   },
   "outputs": [
    {
     "data": {
      "text/plain": [
       "section\n",
       "Atmospheric Sciences                       14457\n",
       "Hydrology                                  10947\n",
       "Biogeosciences                             10224\n",
       "Global Environmental Change                 6089\n",
       "Seismology                                  5307\n",
       "Planetary Sciences                          5175\n",
       "Paleoceanography and Paleoclimatology       5148\n",
       "Tectonophysics                              4859\n",
       "Volcanology, Geochemistry and Petrology     4831\n",
       "Ocean Sciences                              4005\n",
       "Cryosphere                                  3854\n",
       "SPA-Magnetospheric Physics                  3662\n",
       "Earth and Planetary Surface Processes       3257\n",
       "SPA-Solar and Heliospheric Physics          2767\n",
       "Earth and Space Science Informatics         2612\n",
       "Education                                   2422\n",
       "SPA-Aeronomy                                2256\n",
       "Natural Hazards                             1887\n",
       "Geodesy                                     1852\n",
       "Geomagnetism and Paleomagnetism             1439\n",
       "Mineral and Rock Physics                    1353\n",
       "Study of Earth's Deep Interior              1217\n",
       "Near Surface Geophysics                      774\n",
       "Nonlinear Geophysics                         592\n",
       "Public Affairs                               578\n",
       "Atmospheric and Space Electricity            473\n",
       "Union                                        409\n",
       "Name: nb_authors, dtype: float64"
      ]
     },
     "execution_count": 100,
     "metadata": {},
     "output_type": "execute_result"
    }
   ],
   "source": [
    "df[df.year == '2014'].groupby('section').nb_authors.sum().sort_values(ascending=False)"
   ]
  },
  {
   "cell_type": "code",
   "execution_count": 105,
   "metadata": {
    "collapsed": false
   },
   "outputs": [
    {
     "name": "stderr",
     "output_type": "stream",
     "text": [
      "/Users/thorey/miniconda2/envs/agu_data/lib/python2.7/site-packages/matplotlib/__init__.py:872: UserWarning:\n",
      "\n",
      "axes.color_cycle is deprecated and replaced with axes.prop_cycle; please use the latter.\n",
      "\n"
     ]
    }
   ],
   "source": [
    "import seaborn as sns"
   ]
  },
  {
   "cell_type": "code",
   "execution_count": 106,
   "metadata": {
    "collapsed": false
   },
   "outputs": [
    {
     "data": {
      "image/png": "[encoded data removed]",
      "text/plain": [
       "<matplotlib.figure.Figure at 0x14b764c50>"
      ]
     },
     "metadata": {},
     "output_type": "display_data"
    }
   ],
   "source": [
    "sns.palplot(sns.color_palette('deep'))"
   ]
  },
  {
   "cell_type": "code",
   "execution_count": null,
   "metadata": {
    "collapsed": false
   },
   "outputs": [],
   "source": [
    "# Learn about API authentication here: https://plot.ly/python/getting-started\n",
    "# Find your api_key here: https://plot.ly/settings/api\n",
    "\n",
    "import plotly.plotly as py\n",
    "import plotly.graph_objs as go\n",
    "\n",
    "\n",
    "trace0 = go.Bar(\n",
    "    x=df[df.year == '2015'].groupby('section').nb_authors.sum().sort_values(ascending=False).index.tolist(),\n",
    "    y=df[df.year == '2015'].groupby('section').nb_authors.sum().sort_values(ascending=False).tolist(),\n",
    "    name='2015',\n",
    "    marker=dict(\n",
    "        color='rgb(49,130,189)'\n",
    "    )\n",
    ")\n",
    "trace1 = go.Bar(\n",
    "    x=df[df.year == '2014'].groupby('section').nb_authors.sum().index.tolist(),\n",
    "    y=df[df.year == '2014'].groupby('section').nb_authors.sum().tolist(),\n",
    "    name='2014',\n",
    "    marker=dict(\n",
    "        color='rgb(204,204,204)',\n",
    "    )\n",
    ")\n",
    "data = [trace0, trace1]\n",
    "layout = go.Layout(\n",
    "    title='Nb of authors by section',\n",
    "    xaxis=dict(\n",
    "        # set x-axis' labels direction at 45 degree angle\n",
    "        tickangle=-45,\n",
    "    ),\n",
    "    barmode='group',\n",
    ")\n",
    "fig = go.Figure(data=data, layout=layout)\n",
    "py.iplot(fig,filename = 'basic-line')\n"
   ]
  },
  {
   "cell_type": "code",
   "execution_count": 107,
   "metadata": {
    "collapsed": true
   },
   "outputs": [],
   "source": [
    "py.iplot?"
   ]
  },
  {
   "cell_type": "code",
   "execution_count": 87,
   "metadata": {
    "collapsed": false
   },
   "outputs": [
    {
     "data": {
      "text/plain": [
       "[14457.0,\n",
       " 473.0,\n",
       " 10224.0,\n",
       " 3854.0,\n",
       " 3257.0,\n",
       " 2612.0,\n",
       " 2422.0,\n",
       " 1852.0,\n",
       " 1439.0,\n",
       " 6089.0,\n",
       " 10947.0,\n",
       " 1353.0,\n",
       " 1887.0,\n",
       " 774.0,\n",
       " 592.0,\n",
       " 4005.0,\n",
       " 5148.0,\n",
       " 5175.0,\n",
       " 578.0,\n",
       " 2256.0,\n",
       " 3662.0,\n",
       " 2767.0,\n",
       " 5307.0,\n",
       " 1217.0,\n",
       " 4859.0,\n",
       " 409.0,\n",
       " 4831.0]"
      ]
     },
     "execution_count": 87,
     "metadata": {},
     "output_type": "execute_result"
    }
   ],
   "source": [
    "years = df.groupby('year')\n",
    "df[df.year == '2014'].groupby('section').nb_authors.sum().tolist()"
   ]
  },
  {
   "cell_type": "code",
   "execution_count": 70,
   "metadata": {
    "collapsed": true
   },
   "outputs": [],
   "source": [
    "# Learn about API authentication here: https://plot.ly/python/getting-started\n",
    "# Find your api_key here: https://plot.ly/settings/api\n",
    "\n",
    "import plotly.plotly as py\n",
    "import plotly.graph_objs as go\n",
    "\n",
    "trace0 = go.Bar(\n",
    "    x=['Jan', 'Feb', 'Mar', 'Apr', 'May', 'Jun', 'Jul', 'Aug', 'Sep', 'Oct',\n",
    "       'Nov', 'Dec'],\n",
    "    y=[20, 14, 25, 16, 18, 22, 19, 15, 12, 16, 14, 17],\n",
    "    name='Primary Product',\n",
    "    marker=dict(\n",
    "        color='rgb(49,130,189)'\n",
    "    )\n",
    ")\n",
    "trace1 = go.Bar(\n",
    "    x=['Jan', 'Feb', 'Mar', 'Apr', 'May', 'Jun', 'Jul', 'Aug', 'Sep', 'Oct',\n",
    "       'Nov', 'Dec'],\n",
    "    y=[19, 14, 22, 14, 16, 19, 15, 14, 10, 12, 12, 16],\n",
    "    name='Secondary Product',\n",
    "    marker=dict(\n",
    "        color='rgb(204,204,204)',\n",
    "    )\n",
    ")\n",
    "data = [trace0, trace1]\n",
    "layout = go.Layout(\n",
    "    xaxis=dict(\n",
    "        # set x-axis' labels direction at 45 degree angle\n",
    "        tickangle=-45,\n",
    "    ),\n",
    "    barmode='group',\n",
    ")\n",
    "fig = go.Figure(data=data, layout=layout)\n",
    "plot_url = py.plot(fig, filename='angled-text-bar')"
   ]
  },
  {
   "cell_type": "code",
   "execution_count": null,
   "metadata": {
    "collapsed": true
   },
   "outputs": [],
   "source": []
  }
 ],
 "metadata": {
  "kernelspec": {
   "display_name": "Python 2",
   "language": "python",
   "name": "python2"
  },
  "language_info": {
   "codemirror_mode": {
    "name": "ipython",
    "version": 2
   },
   "file_extension": ".py",
   "mimetype": "text/x-python",
   "name": "python",
   "nbconvert_exporter": "python",
   "pygments_lexer": "ipython2",
   "version": "2.7.11"
  },
  "latex_envs": {
   "bibliofile": "biblio.bib",
   "cite_by": "apalike",
   "current_citInitial": 1,
   "eqLabelWithNumbers": true,
   "eqNumInitial": 0
  }
 },
 "nbformat": 4,
 "nbformat_minor": 0
}
