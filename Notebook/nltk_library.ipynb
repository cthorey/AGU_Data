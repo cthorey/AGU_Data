{
 "cells": [
  {
   "cell_type": "code",
   "execution_count": 65,
   "metadata": {
    "collapsed": false
   },
   "outputs": [],
   "source": [
    "import os\n",
    "import time,pickle\n",
    "from tqdm import *\n",
    "root = '/Users/thorey/Documents/MLearning/Side_Project/AGU_Data/'\n",
    "os.chdir(root)\n",
    "from LoadData import Paper"
   ]
  },
  {
   "cell_type": "code",
   "execution_count": 12,
   "metadata": {
    "collapsed": true
   },
   "outputs": [],
   "source": [
    "from nltk import sent_tokenize, word_tokenize, pos_tag\n"
   ]
  },
  {
   "cell_type": "code",
   "execution_count": 13,
   "metadata": {
    "collapsed": false
   },
   "outputs": [
    {
     "name": "stderr",
     "output_type": "stream",
     "text": []
    }
   ],
   "source": [
    "pathdata = os.path.join(root,'Data')\n",
    "papers_list = [f for f in os.listdir(pathdata) if f.split('_')[0]=='agu2015']\n",
    "papers = []\n",
    "errors = []\n",
    "for i in tqdm(range(len(papers_list))):\n",
    "    name = papers_list[i]\n",
    "    with open(os.path.join(pathdata,name), 'rb') as f:\n",
    "        idxs = pickle.load(f)\n",
    "        papers += idxs['papers']\n",
    "        errors += idxs['error']"
   ]
  },
  {
   "cell_type": "code",
   "execution_count": 58,
   "metadata": {
    "collapsed": false
   },
   "outputs": [],
   "source": [
    "from nltk.parse.stanford import StanfordParser"
   ]
  },
  {
   "cell_type": "code",
   "execution_count": 63,
   "metadata": {
    "collapsed": false
   },
   "outputs": [
    {
     "ename": "LookupError",
     "evalue": "Could not find stanford-parser.jar jar file at stanford-parser-3.4.1-models.jar",
     "output_type": "error",
     "traceback": [
      "\u001b[0;31m---------------------------------------------------------------------------\u001b[0m",
      "\u001b[0;31mLookupError\u001b[0m                               Traceback (most recent call last)",
      "\u001b[0;32m<ipython-input-63-ed8dd139c095>\u001b[0m in \u001b[0;36m<module>\u001b[0;34m()\u001b[0m\n\u001b[1;32m      1\u001b[0m \u001b[0mroot\u001b[0m \u001b[0;34m=\u001b[0m \u001b[0;34m'/Users/thorey/Documents/Tool/standfordParser/stanford-parser-full-2014-08-27'\u001b[0m\u001b[0;34m\u001b[0m\u001b[0m\n\u001b[0;32m----> 2\u001b[0;31m \u001b[0menglish_parser\u001b[0m \u001b[0;34m=\u001b[0m \u001b[0mStanfordParser\u001b[0m\u001b[0;34m(\u001b[0m \u001b[0mos\u001b[0m\u001b[0;34m.\u001b[0m\u001b[0mpath\u001b[0m\u001b[0;34m.\u001b[0m\u001b[0mjoin\u001b[0m\u001b[0;34m(\u001b[0m\u001b[0;34m'stanford-parser-3.4.1-models.jar'\u001b[0m\u001b[0;34m)\u001b[0m\u001b[0;34m)\u001b[0m\u001b[0;34m\u001b[0m\u001b[0m\n\u001b[0m",
      "\u001b[0;32m/opt/local/Library/Frameworks/Python.framework/Versions/2.7/lib/python2.7/site-packages/nltk/parse/stanford.pyc\u001b[0m in \u001b[0;36m__init__\u001b[0;34m(self, path_to_jar, path_to_models_jar, model_path, encoding, verbose, java_options)\u001b[0m\n\u001b[1;32m     86\u001b[0m             \u001b[0menv_vars\u001b[0m\u001b[0;34m=\u001b[0m\u001b[0;34m(\u001b[0m\u001b[0;34m'STANFORD_PARSER'\u001b[0m\u001b[0;34m,\u001b[0m\u001b[0;34m)\u001b[0m\u001b[0;34m,\u001b[0m\u001b[0;34m\u001b[0m\u001b[0m\n\u001b[1;32m     87\u001b[0m             \u001b[0msearchpath\u001b[0m\u001b[0;34m=\u001b[0m\u001b[0;34m(\u001b[0m\u001b[0;34m)\u001b[0m\u001b[0;34m,\u001b[0m \u001b[0murl\u001b[0m\u001b[0;34m=\u001b[0m\u001b[0m_stanford_url\u001b[0m\u001b[0;34m,\u001b[0m\u001b[0;34m\u001b[0m\u001b[0m\n\u001b[0;32m---> 88\u001b[0;31m             \u001b[0mverbose\u001b[0m\u001b[0;34m=\u001b[0m\u001b[0mverbose\u001b[0m\u001b[0;34m\u001b[0m\u001b[0m\n\u001b[0m\u001b[1;32m     89\u001b[0m         )\n\u001b[1;32m     90\u001b[0m \u001b[0;34m\u001b[0m\u001b[0m\n",
      "\u001b[0;32m/opt/local/Library/Frameworks/Python.framework/Versions/2.7/lib/python2.7/site-packages/nltk/__init__.pyc\u001b[0m in \u001b[0;36mfind_jar\u001b[0;34m(name_pattern, path_to_jar, env_vars, searchpath, url, verbose, is_regex)\u001b[0m\n\u001b[1;32m    661\u001b[0m         searchpath=(), url=None, verbose=True, is_regex=False):\n\u001b[1;32m    662\u001b[0m     return next(find_jar_iter(name_pattern, path_to_jar, env_vars,\n\u001b[0;32m--> 663\u001b[0;31m                          searchpath, url, verbose, is_regex))\n\u001b[0m\u001b[1;32m    664\u001b[0m \u001b[0;34m\u001b[0m\u001b[0m\n\u001b[1;32m    665\u001b[0m \u001b[0;32mdef\u001b[0m \u001b[0m_decode_stdoutdata\u001b[0m\u001b[0;34m(\u001b[0m\u001b[0mstdoutdata\u001b[0m\u001b[0;34m)\u001b[0m\u001b[0;34m:\u001b[0m\u001b[0;34m\u001b[0m\u001b[0m\n",
      "\u001b[0;32m/opt/local/Library/Frameworks/Python.framework/Versions/2.7/lib/python2.7/site-packages/nltk/__init__.pyc\u001b[0m in \u001b[0;36mfind_jar_iter\u001b[0;34m(name_pattern, path_to_jar, env_vars, searchpath, url, verbose, is_regex)\u001b[0m\n\u001b[1;32m    577\u001b[0m         \u001b[0;32melse\u001b[0m\u001b[0;34m:\u001b[0m\u001b[0;34m\u001b[0m\u001b[0m\n\u001b[1;32m    578\u001b[0m             raise LookupError('Could not find %s jar file at %s' %\n\u001b[0;32m--> 579\u001b[0;31m                             (name_pattern, path_to_jar))\n\u001b[0m\u001b[1;32m    580\u001b[0m \u001b[0;34m\u001b[0m\u001b[0m\n\u001b[1;32m    581\u001b[0m     \u001b[0;31m# Check environment variables\u001b[0m\u001b[0;34m\u001b[0m\u001b[0;34m\u001b[0m\u001b[0m\n",
      "\u001b[0;31mLookupError\u001b[0m: Could not find stanford-parser.jar jar file at stanford-parser-3.4.1-models.jar"
     ]
    }
   ],
   "source": [
    "root = '/Users/thorey/Documents/Tool/standfordParser/stanford-parser-full-2014-08-27'\n",
    "english_parser = StanfordParser( os.path.join('stanford-parser-3.4.1-models.jar'))"
   ]
  },
  {
   "cell_type": "code",
   "execution_count": 57,
   "metadata": {
    "collapsed": false
   },
   "outputs": [
    {
     "ename": "ImportError",
     "evalue": "cannot import name NERTagger",
     "output_type": "error",
     "traceback": [
      "\u001b[0;31m---------------------------------------------------------------------------\u001b[0m",
      "\u001b[0;31mImportError\u001b[0m                               Traceback (most recent call last)",
      "\u001b[0;32m<ipython-input-57-b9f563ac4065>\u001b[0m in \u001b[0;36m<module>\u001b[0;34m()\u001b[0m\n\u001b[0;32m----> 1\u001b[0;31m \u001b[0;32mfrom\u001b[0m \u001b[0mnltk\u001b[0m\u001b[0;34m.\u001b[0m\u001b[0mtag\u001b[0m\u001b[0;34m.\u001b[0m\u001b[0mstanford\u001b[0m \u001b[0;32mimport\u001b[0m \u001b[0mNERTagger\u001b[0m\u001b[0;34m\u001b[0m\u001b[0m\n\u001b[0m",
      "\u001b[0;31mImportError\u001b[0m: cannot import name NERTagger"
     ]
    }
   ],
   "source": [
    "from nltk.tag.stanford import NERTagger"
   ]
  },
  {
   "cell_type": "code",
   "execution_count": 52,
   "metadata": {
    "collapsed": false
   },
   "outputs": [
    {
     "data": {
      "text/plain": [
       "[('c', 'NN'),\n",
       " ('h', 'NN'),\n",
       " ('o', 'NN'),\n",
       " ('c', 'NN'),\n",
       " ('o', 'NN'),\n",
       " ('l', 'NN'),\n",
       " ('a', 'DT'),\n",
       " ('t', 'NN'),\n",
       " ('e', 'NN')]"
      ]
     },
     "execution_count": 52,
     "metadata": {},
     "output_type": "execute_result"
    }
   ],
   "source": [
    "paper = papers[0]\n",
    "lsttag = pos_tag(word_tokenize(paper.abstract))\n",
    "#zip(range(len(lsttag)),lsttag)"
   ]
  },
  {
   "cell_type": "code",
   "execution_count": 31,
   "metadata": {
    "collapsed": false
   },
   "outputs": [
    {
     "data": {
      "text/plain": [
       "' Friday, 18 December 2015'"
      ]
     },
     "execution_count": 31,
     "metadata": {},
     "output_type": "execute_result"
    }
   ],
   "source": [
    "paper.date"
   ]
  },
  {
   "cell_type": "code",
   "execution_count": 64,
   "metadata": {
    "collapsed": false
   },
   "outputs": [
    {
     "data": {
      "text/plain": [
       "Counter({u'%': 1,\n",
       "         u'(': 3,\n",
       "         u')': 3,\n",
       "         u',': 8,\n",
       "         u'.': 10,\n",
       "         u'3-hour': 2,\n",
       "         u'3-hourly': 1,\n",
       "         u'40': 1,\n",
       "         u'Concentration': 1,\n",
       "         u'Europe': 3,\n",
       "         u'Heavy': 1,\n",
       "         u'It': 2,\n",
       "         u'On': 1,\n",
       "         u'Over': 1,\n",
       "         u'Pathway': 1,\n",
       "         u'RCP8.5': 1,\n",
       "         u'Representative': 1,\n",
       "         u'Spain': 1,\n",
       "         u'The': 2,\n",
       "         u'There': 1,\n",
       "         u'This': 1,\n",
       "         u'While': 1,\n",
       "         u'a': 4,\n",
       "         u'an': 1,\n",
       "         u'analysed': 1,\n",
       "         u'analyses': 1,\n",
       "         u'and': 3,\n",
       "         u'are': 3,\n",
       "         u'as': 1,\n",
       "         u'at': 7,\n",
       "         u'be': 1,\n",
       "         u'behaviour': 1,\n",
       "         u'century': 1,\n",
       "         u'changes': 1,\n",
       "         u'changing': 1,\n",
       "         u'climate': 2,\n",
       "         u'comparing': 1,\n",
       "         u'concentrations': 1,\n",
       "         u'considered': 1,\n",
       "         u'daily': 6,\n",
       "         u'differences': 3,\n",
       "         u'distributions': 1,\n",
       "         u'established': 1,\n",
       "         u'events': 3,\n",
       "         u'examine': 1,\n",
       "         u'exhibit': 1,\n",
       "         u'exhibits': 1,\n",
       "         u'extrapolation': 1,\n",
       "         u'extreme': 1,\n",
       "         u'finding': 1,\n",
       "         u'focus': 1,\n",
       "         u'frequency': 1,\n",
       "         u'gas': 1,\n",
       "         u'given': 1,\n",
       "         u'goal': 1,\n",
       "         u'greenhouse': 1,\n",
       "         u'hand': 1,\n",
       "         u'has': 1,\n",
       "         u'hazard': 1,\n",
       "         u'high': 1,\n",
       "         u'how': 1,\n",
       "         u'however': 1,\n",
       "         u'illustrative': 1,\n",
       "         u'impacts': 1,\n",
       "         u'implications': 1,\n",
       "         u'in': 4,\n",
       "         u'increase': 1,\n",
       "         u'independent': 1,\n",
       "         u'indicate': 1,\n",
       "         u'intense': 3,\n",
       "         u'intensification': 3,\n",
       "         u'intensity': 1,\n",
       "         u'is': 5,\n",
       "         u'lower': 1,\n",
       "         u'main': 1,\n",
       "         u'major': 1,\n",
       "         u'mean': 1,\n",
       "         u'model': 2,\n",
       "         u'more': 1,\n",
       "         u'north-eastern': 1,\n",
       "         u'of': 7,\n",
       "         u'on': 2,\n",
       "         u'one': 1,\n",
       "         u'opposite': 1,\n",
       "         u'other': 1,\n",
       "         u'over': 3,\n",
       "         u'performed': 1,\n",
       "         u'possible': 1,\n",
       "         u'precipitation': 7,\n",
       "         u'present': 1,\n",
       "         u'projected': 3,\n",
       "         u'projections': 2,\n",
       "         u'properties': 1,\n",
       "         u'rainfall': 1,\n",
       "         u'rate': 1,\n",
       "         u'rather': 1,\n",
       "         u'regional': 1,\n",
       "         u'results': 1,\n",
       "         u'scale': 5,\n",
       "         u'scales': 3,\n",
       "         u'seaboard': 1,\n",
       "         u'significant': 1,\n",
       "         u'state-of-the-art': 1,\n",
       "         u'statistically': 1,\n",
       "         u'still': 1,\n",
       "         u'stronger': 1,\n",
       "         u'study': 1,\n",
       "         u'sub-daily': 3,\n",
       "         u'tendency': 1,\n",
       "         u'than': 2,\n",
       "         u'that': 1,\n",
       "         u'the': 16,\n",
       "         u'this': 2,\n",
       "         u'time': 4,\n",
       "         u'to': 2,\n",
       "         u'towards': 1,\n",
       "         u'translates': 1,\n",
       "         u'uncertain': 1,\n",
       "         u'up': 1,\n",
       "         u'using': 1,\n",
       "         u'usually': 1,\n",
       "         u'well': 1,\n",
       "         u'western': 1,\n",
       "         u'when': 1,\n",
       "         u'will': 1,\n",
       "         u'with': 1})"
      ]
     },
     "execution_count": 64,
     "metadata": {},
     "output_type": "execute_result"
    }
   ],
   "source": [
    "nltk.FreqDist(word_tokenize(paper.abstract))"
   ]
  },
  {
   "cell_type": "code",
   "execution_count": 66,
   "metadata": {
    "collapsed": true
   },
   "outputs": [],
   "source": [
    "import json"
   ]
  },
  {
   "cell_type": "code",
   "execution_count": 67,
   "metadata": {
    "collapsed": true
   },
   "outputs": [],
   "source": [
    "a = { 'a' : {'b':'c'},'d':{'e':'f'}}"
   ]
  },
  {
   "cell_type": "code",
   "execution_count": 72,
   "metadata": {
    "collapsed": false
   },
   "outputs": [],
   "source": [
    "b = json.dumps(a)"
   ]
  },
  {
   "cell_type": "code",
   "execution_count": 81,
   "metadata": {
    "collapsed": false
   },
   "outputs": [
    {
     "data": {
      "text/plain": [
       "'{\"a\": {\"b\": \"c\"}, \"d\": {\"e\": \"f\"}}'"
      ]
     },
     "execution_count": 81,
     "metadata": {},
     "output_type": "execute_result"
    }
   ],
   "source": [
    "b"
   ]
  },
  {
   "cell_type": "code",
   "execution_count": 75,
   "metadata": {
    "collapsed": true
   },
   "outputs": [],
   "source": [
    "with open('data.txt', 'w') as outfile:\n",
    "    json.dump(b, outfile, sort_keys = True, indent = 4, ensure_ascii=False)"
   ]
  },
  {
   "cell_type": "code",
   "execution_count": 96,
   "metadata": {
    "collapsed": false
   },
   "outputs": [],
   "source": [
    "b = {'paper1':{'abstract':paper.abstract,'title':paper.title,'authors':paper.author},\n",
    "     'paper2':{'abstract':paper.abstract,'title':paper.title,'authors':paper.author}}"
   ]
  },
  {
   "cell_type": "code",
   "execution_count": 97,
   "metadata": {
    "collapsed": false
   },
   "outputs": [],
   "source": [
    "    import codecs, json\n",
    "    with codecs.open('data.json', 'w', 'utf8') as outfile:\n",
    "         json.dump(b, outfile,sort_keys = True, indent = 4, ensure_ascii=False)"
   ]
  },
  {
   "cell_type": "code",
   "execution_count": 99,
   "metadata": {
    "collapsed": false
   },
   "outputs": [],
   "source": [
    "with codecs.open('data.json','r','utf8') as f :\n",
    "    a =json.load(f)"
   ]
  },
  {
   "cell_type": "code",
   "execution_count": 101,
   "metadata": {
    "collapsed": false
   },
   "outputs": [
    {
     "data": {
      "text/plain": [
       "[u'paper1', u'paper2']"
      ]
     },
     "execution_count": 101,
     "metadata": {},
     "output_type": "execute_result"
    }
   ],
   "source": [
    "a.keys()"
   ]
  },
  {
   "cell_type": "code",
   "execution_count": null,
   "metadata": {
    "collapsed": true
   },
   "outputs": [],
   "source": []
  }
 ],
 "metadata": {
  "kernelspec": {
   "display_name": "Python 2",
   "language": "python",
   "name": "python2"
  },
  "language_info": {
   "codemirror_mode": {
    "name": "ipython",
    "version": 2
   },
   "file_extension": ".py",
   "mimetype": "text/x-python",
   "name": "python",
   "nbconvert_exporter": "python",
   "pygments_lexer": "ipython2",
   "version": "2.7.10"
  },
  "latex_envs": {
   "bibliofile": "biblio.bib",
   "cite_by": "apalike",
   "current_citInitial": 1,
   "eqLabelWithNumbers": true,
   "eqNumInitial": 0
  }
 },
 "nbformat": 4,
 "nbformat_minor": 0
}
