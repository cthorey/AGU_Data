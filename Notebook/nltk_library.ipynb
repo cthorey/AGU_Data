{
 "cells": [
  {
   "cell_type": "code",
   "execution_count": 11,
   "metadata": {
    "collapsed": false
   },
   "outputs": [],
   "source": [
    "import os\n",
    "import time,pickle\n",
    "from tqdm import *\n",
    "root = '/Users/thorey/Documents/MLearning/Side_Project/AGU_Data/'\n",
    "os.chdir(root)\n",
    "from LoadData import Paper"
   ]
  },
  {
   "cell_type": "code",
   "execution_count": 12,
   "metadata": {
    "collapsed": true
   },
   "outputs": [],
   "source": [
    "from nltk import sent_tokenize, word_tokenize, pos_tag\n"
   ]
  },
  {
   "cell_type": "code",
   "execution_count": 13,
   "metadata": {
    "collapsed": false
   },
   "outputs": [
    {
     "name": "stderr",
     "output_type": "stream",
     "text": []
    }
   ],
   "source": [
    "pathdata = os.path.join(root,'Data')\n",
    "papers_list = [f for f in os.listdir(pathdata) if f.split('_')[0]=='agu2015']\n",
    "papers = []\n",
    "errors = []\n",
    "for i in tqdm(range(len(papers_list))):\n",
    "    name = papers_list[i]\n",
    "    with open(os.path.join(pathdata,name), 'rb') as f:\n",
    "        idxs = pickle.load(f)\n",
    "        papers += idxs['papers']\n",
    "        errors += idxs['error']"
   ]
  },
  {
   "cell_type": "code",
   "execution_count": 16,
   "metadata": {
    "collapsed": false
   },
   "outputs": [
    {
     "data": {
      "text/plain": [
       "[u'Heavy precipitation is a major hazard over Europe.',\n",
       " u'It is well established that climate model projections indicate a tendency towards more extreme daily rainfall events.',\n",
       " u'It is still uncertain, however, how this changing intensity translates at the sub-daily time scales.',\n",
       " u'The main goal of the present study is to examine possible differences in projected changes in intense precipitation events over Europe at the daily and sub-daily (3-hourly) time scales using a state-of-the-art climate model.',\n",
       " u'The focus will be on one Representative Concentration Pathway (RCP8.5), considered as illustrative of a high rate of increase in greenhouse gas concentrations over this century.',\n",
       " u'There are statistically significant differences in intense precipitation projections (up to 40%) when comparing the results at the daily and sub-daily time scales.',\n",
       " u'Over north-eastern Europe, projected precipitation intensification at the 3-hour scale is lower than at the daily scale.',\n",
       " u'On the other hand, Spain and the western seaboard exhibit an opposite behaviour, with stronger intensification at the 3-hour scale rather than daily scale.',\n",
       " u'While the mean properties of the precipitation distributions are independent of the analysed frequency, projected precipitation intensification exhibits regional differences.',\n",
       " u'This finding has implications on the extrapolation of impacts of intense precipitation events, given the daily time scale the analyses are usually performed at.']"
      ]
     },
     "execution_count": 16,
     "metadata": {},
     "output_type": "execute_result"
    }
   ],
   "source": [
    "paper = papers[0]\n",
    "sent_tokenize(paper.abstract)"
   ]
  },
  {
   "cell_type": "code",
   "execution_count": 27,
   "metadata": {
    "collapsed": false
   },
   "outputs": [
    {
     "data": {
      "text/plain": [
       "[u'Enrico Scoccimarro',\n",
       " u'National Institute of Geophysics and Volcanology',\n",
       " u'Istituto Nazionale di Geofisica e Vulcanologia/Centro Euro-Mediterraneo sui Cambiamenti Climatici',\n",
       " u'Gabriele Villarini',\n",
       " u'University of Iowa',\n",
       " u'Marcello Vichi',\n",
       " u'-',\n",
       " u'Matteo Zampieri',\n",
       " u'Euro-Mediterranean Center on Climate Change',\n",
       " u'Pier Fogli',\n",
       " u'Istituto Nazionale di Geofisica e Vulcanologia/Centro Euro-Mediterraneo sui Cambiamenti Climatici',\n",
       " u'Alessio Bellucci',\n",
       " u'CMCC - Bologna',\n",
       " u'Silvio Gualdi',\n",
       " u'CMCC - Bologna']"
      ]
     },
     "execution_count": 27,
     "metadata": {},
     "output_type": "execute_result"
    }
   ],
   "source": [
    "paper.author"
   ]
  },
  {
   "cell_type": "code",
   "execution_count": null,
   "metadata": {
    "collapsed": true
   },
   "outputs": [],
   "source": []
  }
 ],
 "metadata": {
  "kernelspec": {
   "display_name": "Python 2",
   "language": "python",
   "name": "python2"
  },
  "language_info": {
   "codemirror_mode": {
    "name": "ipython",
    "version": 2
   },
   "file_extension": ".py",
   "mimetype": "text/x-python",
   "name": "python",
   "nbconvert_exporter": "python",
   "pygments_lexer": "ipython2",
   "version": "2.7.10"
  },
  "latex_envs": {
   "bibliofile": "biblio.bib",
   "cite_by": "apalike",
   "current_citInitial": 1,
   "eqLabelWithNumbers": true,
   "eqNumInitial": 0
  }
 },
 "nbformat": 4,
 "nbformat_minor": 0
}
