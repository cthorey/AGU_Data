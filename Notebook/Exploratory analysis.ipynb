{
 "cells": [
  {
   "cell_type": "code",
   "execution_count": 15,
   "metadata": {
    "collapsed": false
   },
   "outputs": [],
   "source": [
    "%load_ext autoreload \n",
    "%autoreload 2\n",
    "import os\n",
    "from os.path import expanduser\n",
    "home = expanduser(\"~\")\n",
    "os.chdir(os.path.join(home,'Documents','project','agu_data','repo','agu_data'))\n",
    "tablepath = os.path.join(home,'Documents','project','agu_data','repo','Notebook','Tables')"
   ]
  },
  {
   "cell_type": "markdown",
   "metadata": {},
   "source": [
    "# AGU 2015: Exploratory analysis"
   ]
  },
  {
   "cell_type": "markdown",
   "metadata": {},
   "source": [
    "Agu_Data\n",
    "-------\n",
    "\n",
    "I recently decided to scrap the AGU website [AGU](https://meetings.agu.org/) to look for\n",
    "interesting pattern in the abstract. Here is a first analysis.\n"
   ]
  },
  {
   "cell_type": "markdown",
   "metadata": {},
   "source": [
    "## Data "
   ]
  },
  {
   "cell_type": "code",
   "execution_count": 16,
   "metadata": {
    "collapsed": false
   },
   "outputs": [],
   "source": [
    "from Data_Utils import *\n",
    "import pandas as pd"
   ]
  },
  {
   "cell_type": "code",
   "execution_count": 16,
   "metadata": {
    "code_folding": [],
    "collapsed": false
   },
   "outputs": [
    {
     "name": "stderr",
     "output_type": "stream",
     "text": []
    }
   ],
   "source": [
    "from nltk.tokenize import RegexpTokenizer\n",
    "tokenizer = RegexpTokenizer(r'\\w+')\n",
    "\n",
    "def presentation(time):\n",
    "    time_beg = time.split('-')[0].split(':')[0]\n",
    "    time_end = time.split('-')[1].split(':')[0]\n",
    "    if int(time_end)-int(time_beg) == 0:\n",
    "        return 'Oral'\n",
    "    else:\n",
    "        return 'Poster'\n",
    "    \n",
    "def clean_session(session):\n",
    "    return ' '.join([f for f in session.split(' ') if f not in ['I','II','III','IV','V','Posters','(Half Session)']])\n",
    "    \n",
    "def extract_info(obj):\n",
    "    ''' obj is a Paper object '''\n",
    "    try:\n",
    "        year = str(obj.date.split(',')[1].split(' ')[-1])\n",
    "        day = obj.date.split(',')[0].strip()\n",
    "        date = obj.date.split(',')[1].strip()\n",
    "        nb_authors = len(obj.authors)\n",
    "        place = obj.place.split('-')[0].strip()\n",
    "        room = obj.place.split('-')[-1].strip()\n",
    "        ref = len(obj.reference)\n",
    "        section = obj.section.strip().encode('utf-8')\n",
    "        session = clean_session(obj.session.strip()).encode('utf-8')\n",
    "        pres = presentation(obj.time)\n",
    "        title_words = tokenizer.tokenize(repr(obj.title[0]).lower())\n",
    "        invited = int('invited' in title_words)\n",
    "        lentitle = len(title_words)-1 # to remove the 'u' from unicode\n",
    "        return [day,date,nb_authors,place,room,ref,section,session,pres,invited,lentitle,year]\n",
    "    except:\n",
    "        return ['']\n",
    "    \n",
    "columns = ['day','date','nb_authors','place','room','ref','section','session','pres','invited','lentitle','year']\n",
    "df = pd.DataFrame(columns = columns)\n",
    "for year in [2014,2015]:\n",
    "    data = get_all_data('agu'+str(year))\n",
    "    df = df.append(pd.DataFrame(map(extract_info,data),columns = columns).dropna())\n",
    "    df.to_csv(os.path.join(tablepath,'agu_exploratory_tmp.csv'))\n",
    "    "
   ]
  },
  {
   "cell_type": "markdown",
   "metadata": {},
   "source": [
    "# Rapid inspection"
   ]
  },
  {
   "cell_type": "code",
   "execution_count": 14,
   "metadata": {
    "collapsed": false
   },
   "outputs": [
    {
     "data": {
      "text/plain": [
       "(22204, 23291)"
      ]
     },
     "execution_count": 14,
     "metadata": {},
     "output_type": "execute_result"
    }
   ],
   "source": [
    "len(df[df.year == '2015']),len(df[df.year == '2014'])"
   ]
  },
  {
   "cell_type": "markdown",
   "metadata": {},
   "source": [
    "#  Ok"
   ]
  },
  {
   "cell_type": "code",
   "execution_count": 8,
   "metadata": {
    "collapsed": true
   },
   "outputs": [
    {
     "data": {
      "text/html": [
       "<script type='text/javascript' src='https://public.tableau.com/javascripts/api/viz_v1.js'></script><div class='tableauPlaceholder' style='width: 654px; height: 742px;'><noscript><a href='#'><img alt='ExploratoryAnalysisSection ' src='https:&#47;&#47;public.tableau.com&#47;static&#47;images&#47;Ex&#47;ExploratoryAnalysisAGUSection&#47;ExploratoryAnalysisSection&#47;1_rss.png' style='border: none' /></a></noscript><object class='tableauViz' width='654' height='742' style='display:none;'><param name='host_url' value='https%3A%2F%2Fpublic.tableau.com%2F' /> <param name='site_root' value='' /><param name='name' value='ExploratoryAnalysisAGUSection&#47;ExploratoryAnalysisSection' /><param name='tabs' value='no' /><param name='toolbar' value='yes' /><param name='static_image' value='https:&#47;&#47;public.tableau.com&#47;static&#47;images&#47;Ex&#47;ExploratoryAnalysisAGUSection&#47;ExploratoryAnalysisSection&#47;1.png' /> <param name='animate_transition' value='yes' /><param name='display_static_image' value='yes' /><param name='display_spinner' value='yes' /><param name='display_overlay' value='yes' /><param name='display_count' value='yes' /><param name='showVizHome' value='no' /><param name='showTabs' value='y' /><param name='bootstrapWhenNotified' value='true' /></object></div>"
      ],
      "text/plain": [
       "<IPython.core.display.HTML object>"
      ]
     },
     "execution_count": 8,
     "metadata": {},
     "output_type": "execute_result"
    }
   ],
   "source": [
    "js = \"<script type='text/javascript' src='https://public.tableau.com/javascripts/api/viz_v1.js'></script><div class='tableauPlaceholder' style='width: 654px; height: 742px;'><noscript><a href='#'><img alt='ExploratoryAnalysisSection ' src='https:&#47;&#47;public.tableau.com&#47;static&#47;images&#47;Ex&#47;ExploratoryAnalysisAGUSection&#47;ExploratoryAnalysisSection&#47;1_rss.png' style='border: none' /></a></noscript><object class='tableauViz' width='654' height='742' style='display:none;'><param name='host_url' value='https%3A%2F%2Fpublic.tableau.com%2F' /> <param name='site_root' value='' /><param name='name' value='ExploratoryAnalysisAGUSection&#47;ExploratoryAnalysisSection' /><param name='tabs' value='no' /><param name='toolbar' value='yes' /><param name='static_image' value='https:&#47;&#47;public.tableau.com&#47;static&#47;images&#47;Ex&#47;ExploratoryAnalysisAGUSection&#47;ExploratoryAnalysisSection&#47;1.png' /> <param name='animate_transition' value='yes' /><param name='display_static_image' value='yes' /><param name='display_spinner' value='yes' /><param name='display_overlay' value='yes' /><param name='display_count' value='yes' /><param name='showVizHome' value='no' /><param name='showTabs' value='y' /><param name='bootstrapWhenNotified' value='true' /></object></div>\"\n",
    "from IPython.display import HTML\n",
    "HTML(js)"
   ]
  },
  {
   "cell_type": "markdown",
   "metadata": {
    "collapsed": true
   },
   "source": [
    "## Map with all contributors by country "
   ]
  },
  {
   "cell_type": "code",
   "execution_count": 17,
   "metadata": {
    "collapsed": false
   },
   "outputs": [
    {
     "name": "stderr",
     "output_type": "stream",
     "text": []
    }
   ],
   "source": [
    "contribs = get_all_contrib('agu2015')\n",
    "papers = get_all_data('agu2015')"
   ]
  },
  {
   "cell_type": "code",
   "execution_count": 18,
   "metadata": {
    "collapsed": false
   },
   "outputs": [],
   "source": [
    "def section_tag_id(papers):\n",
    "    sections = set([p.section for p in papers])\n",
    "    tags = []\n",
    "    for s in sections:\n",
    "        i =0\n",
    "        tag = u''\n",
    "        while tag == u'':\n",
    "            tag = [p for p in papers if p.section == s][i].tag\n",
    "            i+=1\n",
    "        idx = tag[:2]\n",
    "        if tag[1] in [str(i) for i in range(10)]:\n",
    "            idx = tag[0]\n",
    "        tags.append(idx)\n",
    "    return dict(zip([str(f).strip() for f in sections],tags))\n",
    "            \n",
    "sections_dict = section_tag_id(papers)"
   ]
  },
  {
   "cell_type": "code",
   "execution_count": 45,
   "metadata": {
    "collapsed": false
   },
   "outputs": [],
   "source": [
    "def collect_info_authors(papers,contribs):\n",
    "    ''' Return a dataframe with several info on each authors '''\n",
    "    \n",
    "    #Collect country code\n",
    "    alpha3_code = {clean(f.name).lower():f.alpha3 for f in pycountry.countries}\n",
    "    \n",
    "    # Collect first basic info contained in contribs\n",
    "    df1 = pd.DataFrame([[f.country,f.name,len(f.tag_sections)] for f in contribs],\n",
    "                      columns = ['country','name','Ncontribs'])\n",
    "    \n",
    "    #Collect next how many contribs the authors have in each section\n",
    "    sections_dict = section_tag_id(papers) # Dict of the section name with their respective tag\n",
    "    #Make the dataframe, each colum is a section and the corresponding nb of contrib for each authors\n",
    "    #Index is the same than df.\n",
    "    df2 = pd.DataFrame([[sum([tag == f for f in contrib.tag_sections]) \n",
    "                         for tag in sections_dict.values()] for contrib in contribs],\n",
    "                       columns = sections_dict.keys())\n",
    "    df_final = df1.join(df2)\n",
    "    df_final['mask_test'] = [f.split(' ')[0] == 'Test' for f in df_final.name]\n",
    "    df_final = df_final[~df_final.mask_test]\n",
    "    df_final['alpha3_code'] = map(lambda x:alpha3_code[x], df_final.country)\n",
    "    return df_final"
   ]
  },
  {
   "cell_type": "code",
   "execution_count": 46,
   "metadata": {
    "collapsed": false
   },
   "outputs": [],
   "source": [
    "df = collect_info_authors(papers,contribs)\n"
   ]
  },
  {
   "cell_type": "code",
   "execution_count": 22,
   "metadata": {
    "collapsed": false
   },
   "outputs": [],
   "source": [
    "list_codes = set(df.alpha3_code)\n",
    "group = df.groupby('alpha3_code')\n",
    "\n",
    "idxs = map(str,group.Ncontribs.sum().sort_values().index)\n",
    "colors = map(str,sns.color_palette('Reds',len(list_codes)).as_hex())\n",
    "colors = [f.upper() for f in colors]\n",
    "colors = dict(zip(idxs,colors))"
   ]
  },
  {
   "cell_type": "code",
   "execution_count": 23,
   "metadata": {
    "collapsed": false
   },
   "outputs": [
    {
     "data": {
      "text/plain": [
       "count      169.000000\n",
       "mean       573.591716\n",
       "std       4353.949162\n",
       "min          0.000000\n",
       "25%          3.000000\n",
       "50%          9.000000\n",
       "75%         67.000000\n",
       "max      56041.000000\n",
       "Name: Ncontribs, dtype: float64"
      ]
     },
     "execution_count": 23,
     "metadata": {},
     "output_type": "execute_result"
    }
   ],
   "source": [
    "group.Ncontribs.sum().sort_values().describe()"
   ]
  },
  {
   "cell_type": "code",
   "execution_count": 25,
   "metadata": {
    "collapsed": false
   },
   "outputs": [],
   "source": [
    "import seaborn as sns\n",
    "\n",
    "def datamap_json(df):\n",
    "    json = {}\n",
    "    list_codes = set(df.alpha3_code)\n",
    "    group = df.groupby('alpha3_code')\n",
    "    \n",
    "    for code in list_codes:\n",
    "        series =  group.get_group(code).drop(['name','country','mask_test','alpha3_code'],axis =1)\n",
    "        N = len(series)\n",
    "        series = series.sum().sort_values(ascending = False)\n",
    "        json[code] = {'fillKey': code,\n",
    "                      'Ncontributors': N,\n",
    "                      'Ncontributions' : series[0],\n",
    "                      'Maintopic': series.index[1]+ ' : %2.1f %%'%(series[1]/float(series[0])*100),\n",
    "                      'Secondtopic': series.index[2]+ ' : %2.1f %%'%(series[2]/float(series[0])*100),\n",
    "                      'Thirdtopic' : series.index[3]+ ' : %2.1f %%'%(series[3]/float(series[0])*100)}\n",
    "        #json[code] = {'fillKey': Attribute_key(N)}\n",
    "    return json\n",
    "        \n",
    "dat = datamap_json(df)\n",
    "\n",
    "import json\n",
    "json_path = os.path.join(home,'Documents','project','agu_data','gist','WorlMapContribuCountry')\n",
    "name_json = os.path.join(json_path,'data')\n",
    "with codecs.open(name_json + '.json', 'w+', 'utf8') as outfile:\n",
    "    json.dump(dat,outfile, sort_keys=True,indent=4,ensure_ascii=False)\n"
   ]
  },
  {
   "cell_type": "code",
   "execution_count": 49,
   "metadata": {
    "collapsed": false
   },
   "outputs": [
    {
     "data": {
      "text/html": [
       "<div>\n",
       "<table border=\"1\" class=\"dataframe\">\n",
       "  <thead>\n",
       "    <tr style=\"text-align: right;\">\n",
       "      <th></th>\n",
       "      <th>code</th>\n",
       "      <th>Nb contributors</th>\n",
       "      <th>text</th>\n",
       "    </tr>\n",
       "  </thead>\n",
       "  <tbody>\n",
       "    <tr>\n",
       "      <th>0</th>\n",
       "      <td>DZA</td>\n",
       "      <td>4</td>\n",
       "      <td>&lt;br/&gt;Nb of contributors :4 &lt;br/&gt;Nb of contribu...</td>\n",
       "    </tr>\n",
       "    <tr>\n",
       "      <th>1</th>\n",
       "      <td>QAT</td>\n",
       "      <td>14</td>\n",
       "      <td>&lt;br/&gt;Nb of contributors :14 &lt;br/&gt;Nb of contrib...</td>\n",
       "    </tr>\n",
       "    <tr>\n",
       "      <th>2</th>\n",
       "      <td>EGY</td>\n",
       "      <td>20</td>\n",
       "      <td>&lt;br/&gt;Nb of contributors :20 &lt;br/&gt;Nb of contrib...</td>\n",
       "    </tr>\n",
       "    <tr>\n",
       "      <th>3</th>\n",
       "      <td>BGD</td>\n",
       "      <td>46</td>\n",
       "      <td>&lt;br/&gt;Nb of contributors :46 &lt;br/&gt;Nb of contrib...</td>\n",
       "    </tr>\n",
       "    <tr>\n",
       "      <th>4</th>\n",
       "      <td>NAM</td>\n",
       "      <td>10</td>\n",
       "      <td>&lt;br/&gt;Nb of contributors :10 &lt;br/&gt;Nb of contrib...</td>\n",
       "    </tr>\n",
       "  </tbody>\n",
       "</table>\n",
       "</div>"
      ],
      "text/plain": [
       "  code  Nb contributors                                               text\n",
       "0  DZA                4  <br/>Nb of contributors :4 <br/>Nb of contribu...\n",
       "1  QAT               14  <br/>Nb of contributors :14 <br/>Nb of contrib...\n",
       "2  EGY               20  <br/>Nb of contributors :20 <br/>Nb of contrib...\n",
       "3  BGD               46  <br/>Nb of contributors :46 <br/>Nb of contrib...\n",
       "4  NAM               10  <br/>Nb of contributors :10 <br/>Nb of contrib..."
      ]
     },
     "execution_count": 49,
     "metadata": {},
     "output_type": "execute_result"
    }
   ],
   "source": [
    "import seaborn as sns\n",
    "\n",
    "def datamap_py(df):\n",
    "    json = {}\n",
    "    list_codes = set(df.alpha3_code)\n",
    "    group = df.groupby('alpha3_code')\n",
    "    \n",
    "    row = []\n",
    "    for code in list_codes:\n",
    "        series =  group.get_group(code).drop(['name','country','mask_test','alpha3_code'],axis =1)\n",
    "        N = len(series)\n",
    "        series = series.sum().sort_values(ascending = False)\n",
    "        Ncontributions = series[0]\n",
    "        text = '<br/>Nb of contributors :' + str(N) + ' ' \\\n",
    "               '<br/>Nb of contributions :' + str(Ncontributions)\n",
    "        row.append([code, N,text])\n",
    "    df_new = pd.DataFrame(row,columns =['code',\n",
    "                                        'Nb contributors',\n",
    "                                        'text'])\n",
    "    return df_new\n",
    "\n",
    "df2 = datamap_py(df)\n",
    "df2.head()"
   ]
  },
  {
   "cell_type": "code",
   "execution_count": 51,
   "metadata": {
    "collapsed": false
   },
   "outputs": [
    {
     "data": {
      "text/html": [
       "<iframe id=\"igraph\" scrolling=\"no\" style=\"border:none;\"seamless=\"seamless\" src=\"https://plot.ly/~clement.thorey/4.embed\" height=\"525px\" width=\"100%\"></iframe>"
      ],
      "text/plain": [
       "<plotly.tools.PlotlyDisplay object>"
      ]
     },
     "execution_count": 51,
     "metadata": {},
     "output_type": "execute_result"
    }
   ],
   "source": [
    "# Learn about API authentication here: https://plot.ly/python/getting-started\n",
    "# Find your api_key here: https://plot.ly/settings/api\n",
    "\n",
    "import plotly.plotly as py\n",
    "import pandas as pd\n",
    "\n",
    "data = [ dict(\n",
    "        type = 'choropleth',\n",
    "        locations = df2['code'],\n",
    "        z = df2['Nb contributors'],\n",
    "        text = df2['text'],\n",
    "        colorscale = [[0,\"rgb(5, 10, 172)\"],[0.35,\"rgb(40, 60, 190)\"],[0.5,\"rgb(70, 100, 245)\"],\\\n",
    "            [0.6,\"rgb(90, 120, 245)\"],[0.7,\"rgb(106, 137, 247)\"],[1,\"rgb(220, 220, 220)\"]],\n",
    "        autocolorscale = False,\n",
    "        reversescale = True,\n",
    "        marker = dict(\n",
    "            line = dict (\n",
    "                color = 'rgb(180,180,180)',\n",
    "                width = 0.5\n",
    "            )\n",
    "        ),\n",
    "        colorbar = dict(\n",
    "            tickprefix = '',\n",
    "            title = 'Nb contributors'\n",
    "        ),\n",
    "    ) ]\n",
    "\n",
    "layout = dict(\n",
    "    title = '',\n",
    "    geo = dict(\n",
    "        showframe = False,\n",
    "        showcoastlines = True,\n",
    "        projection = dict(\n",
    "            type = 'Mercator'\n",
    "        )\n",
    "    )\n",
    ")\n",
    "\n",
    "fig = dict( data=data, layout=layout )\n",
    "py.iplot(fig, filename = 'basic-line')"
   ]
  },
  {
   "cell_type": "code",
   "execution_count": 7,
   "metadata": {
    "collapsed": false
   },
   "outputs": [
    {
     "name": "stdout",
     "output_type": "stream",
     "text": [
      "High five! You successfuly sent some data to your account on plotly. View your plot in your browser at https://plot.ly/~clement.thorey/0 or inside your plot.ly account where it is named 'd3-world-map'\n"
     ]
    }
   ],
   "source": [
    "url = py.plot( fig, validate=False, filename='d3-world-map' )\n"
   ]
  },
  {
   "cell_type": "code",
   "execution_count": 5,
   "metadata": {
    "collapsed": true
   },
   "outputs": [],
   "source": [
    "py.sign_in('clement.thorey', 'qhf9oi0fjs')"
   ]
  },
  {
   "cell_type": "code",
   "execution_count": 8,
   "metadata": {
    "collapsed": false
   },
   "outputs": [
    {
     "data": {
      "text/html": [
       "<iframe id=\"igraph\" scrolling=\"no\" style=\"border:none;\"seamless=\"seamless\" src=\"https://plot.ly/~clement.thorey/4.embed\" height=\"525px\" width=\"100%\"></iframe>"
      ],
      "text/plain": [
       "<plotly.tools.PlotlyDisplay object>"
      ]
     },
     "execution_count": 8,
     "metadata": {},
     "output_type": "execute_result"
    }
   ],
   "source": [
    "import plotly.plotly as py\n",
    "from plotly.graph_objs import *\n",
    "\n",
    "trace0 = Scatter(\n",
    "  x=[1, 2, 3, 4],\n",
    "  y=[10, 15, 13, 17]\n",
    ")\n",
    "trace1 = Scatter(\n",
    "  x=[1, 2, 3, 4],\n",
    "  y=[16, 5, 11, 9]\n",
    ")\n",
    "data = Data([trace0, trace1])\n",
    "\n",
    "py.iplot(data, filename = 'basic-line')\n"
   ]
  },
  {
   "cell_type": "code",
   "execution_count": null,
   "metadata": {
    "collapsed": true
   },
   "outputs": [],
   "source": []
  }
 ],
 "metadata": {
  "kernelspec": {
   "display_name": "Python 2",
   "language": "python",
   "name": "python2"
  },
  "language_info": {
   "codemirror_mode": {
    "name": "ipython",
    "version": 2
   },
   "file_extension": ".py",
   "mimetype": "text/x-python",
   "name": "python",
   "nbconvert_exporter": "python",
   "pygments_lexer": "ipython2",
   "version": "2.7.11"
  },
  "latex_envs": {
   "bibliofile": "biblio.bib",
   "cite_by": "apalike",
   "current_citInitial": 1,
   "eqLabelWithNumbers": true,
   "eqNumInitial": 0
  }
 },
 "nbformat": 4,
 "nbformat_minor": 0
}
