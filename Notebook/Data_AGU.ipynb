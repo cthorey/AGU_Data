{
 "cells": [
  {
   "cell_type": "code",
   "execution_count": 124,
   "metadata": {
    "collapsed": false
   },
   "outputs": [
    {
     "name": "stdout",
     "output_type": "stream",
     "text": [
      "The autoreload extension is already loaded. To reload it, use:\n",
      "  %reload_ext autoreload\n"
     ]
    }
   ],
   "source": [
    "%load_ext autoreload \n",
    "%autoreload 2\n",
    "\n",
    "import pandas as pd\n",
    "import pickle\n",
    "import dryscrape,time\n",
    "from bs4 import BeautifulSoup"
   ]
  },
  {
   "cell_type": "code",
   "execution_count": 127,
   "metadata": {
    "collapsed": false
   },
   "outputs": [],
   "source": [
    "output = '/Users/thorey/Documents/MLearning/Side_Project/AGU_Data/Data'\n",
    "name = os.path.join(output,'agu2015_61980_62980')        \n",
    "with open(name, 'rb') as f:\n",
    "    idxs = pickle.load(f)"
   ]
  },
  {
   "cell_type": "code",
   "execution_count": 128,
   "metadata": {
    "collapsed": false
   },
   "outputs": [
    {
     "data": {
      "text/plain": [
       "{'error': ['https://agu.confex.com/agu/fm15/meetingapp.cgi/Paper/61982',\n",
       "  'https://agu.confex.com/agu/fm15/meetingapp.cgi/Paper/61984',\n",
       "  'https://agu.confex.com/agu/fm15/meetingapp.cgi/Paper/61986',\n",
       "  'https://agu.confex.com/agu/fm15/meetingapp.cgi/Paper/61988',\n",
       "  'https://agu.confex.com/agu/fm15/meetingapp.cgi/Paper/61992',\n",
       "  'https://agu.confex.com/agu/fm15/meetingapp.cgi/Paper/61996',\n",
       "  'https://agu.confex.com/agu/fm15/meetingapp.cgi/Paper/61998',\n",
       "  'https://agu.confex.com/agu/fm15/meetingapp.cgi/Paper/62002',\n",
       "  'https://agu.confex.com/agu/fm15/meetingapp.cgi/Paper/62006',\n",
       "  'https://agu.confex.com/agu/fm15/meetingapp.cgi/Paper/62012',\n",
       "  'https://agu.confex.com/agu/fm15/meetingapp.cgi/Paper/62016',\n",
       "  'https://agu.confex.com/agu/fm15/meetingapp.cgi/Paper/62032',\n",
       "  'https://agu.confex.com/agu/fm15/meetingapp.cgi/Paper/62034',\n",
       "  'https://agu.confex.com/agu/fm15/meetingapp.cgi/Paper/62036',\n",
       "  'https://agu.confex.com/agu/fm15/meetingapp.cgi/Paper/62042',\n",
       "  'https://agu.confex.com/agu/fm15/meetingapp.cgi/Paper/62048',\n",
       "  'https://agu.confex.com/agu/fm15/meetingapp.cgi/Paper/62050',\n",
       "  'https://agu.confex.com/agu/fm15/meetingapp.cgi/Paper/62052',\n",
       "  'https://agu.confex.com/agu/fm15/meetingapp.cgi/Paper/62054',\n",
       "  'https://agu.confex.com/agu/fm15/meetingapp.cgi/Paper/62058',\n",
       "  'https://agu.confex.com/agu/fm15/meetingapp.cgi/Paper/62060',\n",
       "  'https://agu.confex.com/agu/fm15/meetingapp.cgi/Paper/62068',\n",
       "  'https://agu.confex.com/agu/fm15/meetingapp.cgi/Paper/62070',\n",
       "  'https://agu.confex.com/agu/fm15/meetingapp.cgi/Paper/62076',\n",
       "  'https://agu.confex.com/agu/fm15/meetingapp.cgi/Paper/62078',\n",
       "  'https://agu.confex.com/agu/fm15/meetingapp.cgi/Paper/62080',\n",
       "  'https://agu.confex.com/agu/fm15/meetingapp.cgi/Paper/62084',\n",
       "  'https://agu.confex.com/agu/fm15/meetingapp.cgi/Paper/62086',\n",
       "  'https://agu.confex.com/agu/fm15/meetingapp.cgi/Paper/62090',\n",
       "  'https://agu.confex.com/agu/fm15/meetingapp.cgi/Paper/62092',\n",
       "  'https://agu.confex.com/agu/fm15/meetingapp.cgi/Paper/62094',\n",
       "  'https://agu.confex.com/agu/fm15/meetingapp.cgi/Paper/62096',\n",
       "  'https://agu.confex.com/agu/fm15/meetingapp.cgi/Paper/62100',\n",
       "  'https://agu.confex.com/agu/fm15/meetingapp.cgi/Paper/62102',\n",
       "  'https://agu.confex.com/agu/fm15/meetingapp.cgi/Paper/62104',\n",
       "  'https://agu.confex.com/agu/fm15/meetingapp.cgi/Paper/62108',\n",
       "  'https://agu.confex.com/agu/fm15/meetingapp.cgi/Paper/62110',\n",
       "  'https://agu.confex.com/agu/fm15/meetingapp.cgi/Paper/62114',\n",
       "  'https://agu.confex.com/agu/fm15/meetingapp.cgi/Paper/62136',\n",
       "  'https://agu.confex.com/agu/fm15/meetingapp.cgi/Paper/62138',\n",
       "  'https://agu.confex.com/agu/fm15/meetingapp.cgi/Paper/62148',\n",
       "  'https://agu.confex.com/agu/fm15/meetingapp.cgi/Paper/62156',\n",
       "  'https://agu.confex.com/agu/fm15/meetingapp.cgi/Paper/62158',\n",
       "  'https://agu.confex.com/agu/fm15/meetingapp.cgi/Paper/62162',\n",
       "  'https://agu.confex.com/agu/fm15/meetingapp.cgi/Paper/62174',\n",
       "  'https://agu.confex.com/agu/fm15/meetingapp.cgi/Paper/62178',\n",
       "  'https://agu.confex.com/agu/fm15/meetingapp.cgi/Paper/62186',\n",
       "  'https://agu.confex.com/agu/fm15/meetingapp.cgi/Paper/62192',\n",
       "  'https://agu.confex.com/agu/fm15/meetingapp.cgi/Paper/62200',\n",
       "  'https://agu.confex.com/agu/fm15/meetingapp.cgi/Paper/62202',\n",
       "  'https://agu.confex.com/agu/fm15/meetingapp.cgi/Paper/62204',\n",
       "  'https://agu.confex.com/agu/fm15/meetingapp.cgi/Paper/62208',\n",
       "  'https://agu.confex.com/agu/fm15/meetingapp.cgi/Paper/62210',\n",
       "  'https://agu.confex.com/agu/fm15/meetingapp.cgi/Paper/62212',\n",
       "  'https://agu.confex.com/agu/fm15/meetingapp.cgi/Paper/62222',\n",
       "  'https://agu.confex.com/agu/fm15/meetingapp.cgi/Paper/62226',\n",
       "  'https://agu.confex.com/agu/fm15/meetingapp.cgi/Paper/62228',\n",
       "  'https://agu.confex.com/agu/fm15/meetingapp.cgi/Paper/62232',\n",
       "  'https://agu.confex.com/agu/fm15/meetingapp.cgi/Paper/62236',\n",
       "  'https://agu.confex.com/agu/fm15/meetingapp.cgi/Paper/62242',\n",
       "  'https://agu.confex.com/agu/fm15/meetingapp.cgi/Paper/62244',\n",
       "  'https://agu.confex.com/agu/fm15/meetingapp.cgi/Paper/62266',\n",
       "  'https://agu.confex.com/agu/fm15/meetingapp.cgi/Paper/62272',\n",
       "  'https://agu.confex.com/agu/fm15/meetingapp.cgi/Paper/62278',\n",
       "  'https://agu.confex.com/agu/fm15/meetingapp.cgi/Paper/62290',\n",
       "  'https://agu.confex.com/agu/fm15/meetingapp.cgi/Paper/62292',\n",
       "  'https://agu.confex.com/agu/fm15/meetingapp.cgi/Paper/62302',\n",
       "  'https://agu.confex.com/agu/fm15/meetingapp.cgi/Paper/62314',\n",
       "  'https://agu.confex.com/agu/fm15/meetingapp.cgi/Paper/62318',\n",
       "  'https://agu.confex.com/agu/fm15/meetingapp.cgi/Paper/62322',\n",
       "  'https://agu.confex.com/agu/fm15/meetingapp.cgi/Paper/62328',\n",
       "  'https://agu.confex.com/agu/fm15/meetingapp.cgi/Paper/62336',\n",
       "  'https://agu.confex.com/agu/fm15/meetingapp.cgi/Paper/62340',\n",
       "  'https://agu.confex.com/agu/fm15/meetingapp.cgi/Paper/62350',\n",
       "  'https://agu.confex.com/agu/fm15/meetingapp.cgi/Paper/62352',\n",
       "  'https://agu.confex.com/agu/fm15/meetingapp.cgi/Paper/62354',\n",
       "  'https://agu.confex.com/agu/fm15/meetingapp.cgi/Paper/62356',\n",
       "  'https://agu.confex.com/agu/fm15/meetingapp.cgi/Paper/62358',\n",
       "  'https://agu.confex.com/agu/fm15/meetingapp.cgi/Paper/62360',\n",
       "  'https://agu.confex.com/agu/fm15/meetingapp.cgi/Paper/62364',\n",
       "  'https://agu.confex.com/agu/fm15/meetingapp.cgi/Paper/62366',\n",
       "  'https://agu.confex.com/agu/fm15/meetingapp.cgi/Paper/62370',\n",
       "  'https://agu.confex.com/agu/fm15/meetingapp.cgi/Paper/62372',\n",
       "  'https://agu.confex.com/agu/fm15/meetingapp.cgi/Paper/62378',\n",
       "  'https://agu.confex.com/agu/fm15/meetingapp.cgi/Paper/62384',\n",
       "  'https://agu.confex.com/agu/fm15/meetingapp.cgi/Paper/62388',\n",
       "  'https://agu.confex.com/agu/fm15/meetingapp.cgi/Paper/62394',\n",
       "  'https://agu.confex.com/agu/fm15/meetingapp.cgi/Paper/62404',\n",
       "  'https://agu.confex.com/agu/fm15/meetingapp.cgi/Paper/62408',\n",
       "  'https://agu.confex.com/agu/fm15/meetingapp.cgi/Paper/62410',\n",
       "  'https://agu.confex.com/agu/fm15/meetingapp.cgi/Paper/62412',\n",
       "  'https://agu.confex.com/agu/fm15/meetingapp.cgi/Paper/62414',\n",
       "  'https://agu.confex.com/agu/fm15/meetingapp.cgi/Paper/62422',\n",
       "  'https://agu.confex.com/agu/fm15/meetingapp.cgi/Paper/62436',\n",
       "  'https://agu.confex.com/agu/fm15/meetingapp.cgi/Paper/62438',\n",
       "  'https://agu.confex.com/agu/fm15/meetingapp.cgi/Paper/62442',\n",
       "  'https://agu.confex.com/agu/fm15/meetingapp.cgi/Paper/62446',\n",
       "  'https://agu.confex.com/agu/fm15/meetingapp.cgi/Paper/62454',\n",
       "  'https://agu.confex.com/agu/fm15/meetingapp.cgi/Paper/62458',\n",
       "  'https://agu.confex.com/agu/fm15/meetingapp.cgi/Paper/62460',\n",
       "  'https://agu.confex.com/agu/fm15/meetingapp.cgi/Paper/62462',\n",
       "  'https://agu.confex.com/agu/fm15/meetingapp.cgi/Paper/62476',\n",
       "  'https://agu.confex.com/agu/fm15/meetingapp.cgi/Paper/62480',\n",
       "  'https://agu.confex.com/agu/fm15/meetingapp.cgi/Paper/62484',\n",
       "  'https://agu.confex.com/agu/fm15/meetingapp.cgi/Paper/62486',\n",
       "  'https://agu.confex.com/agu/fm15/meetingapp.cgi/Paper/62502',\n",
       "  'https://agu.confex.com/agu/fm15/meetingapp.cgi/Paper/62504',\n",
       "  'https://agu.confex.com/agu/fm15/meetingapp.cgi/Paper/62516',\n",
       "  'https://agu.confex.com/agu/fm15/meetingapp.cgi/Paper/62518',\n",
       "  'https://agu.confex.com/agu/fm15/meetingapp.cgi/Paper/62520',\n",
       "  'https://agu.confex.com/agu/fm15/meetingapp.cgi/Paper/62522',\n",
       "  'https://agu.confex.com/agu/fm15/meetingapp.cgi/Paper/62524',\n",
       "  'https://agu.confex.com/agu/fm15/meetingapp.cgi/Paper/62532',\n",
       "  'https://agu.confex.com/agu/fm15/meetingapp.cgi/Paper/62534',\n",
       "  'https://agu.confex.com/agu/fm15/meetingapp.cgi/Paper/62536',\n",
       "  'https://agu.confex.com/agu/fm15/meetingapp.cgi/Paper/62542',\n",
       "  'https://agu.confex.com/agu/fm15/meetingapp.cgi/Paper/62550',\n",
       "  'https://agu.confex.com/agu/fm15/meetingapp.cgi/Paper/62552',\n",
       "  'https://agu.confex.com/agu/fm15/meetingapp.cgi/Paper/62556',\n",
       "  'https://agu.confex.com/agu/fm15/meetingapp.cgi/Paper/62558',\n",
       "  'https://agu.confex.com/agu/fm15/meetingapp.cgi/Paper/62562',\n",
       "  'https://agu.confex.com/agu/fm15/meetingapp.cgi/Paper/62566',\n",
       "  'https://agu.confex.com/agu/fm15/meetingapp.cgi/Paper/62568',\n",
       "  'https://agu.confex.com/agu/fm15/meetingapp.cgi/Paper/62570',\n",
       "  'https://agu.confex.com/agu/fm15/meetingapp.cgi/Paper/62572',\n",
       "  'https://agu.confex.com/agu/fm15/meetingapp.cgi/Paper/62586',\n",
       "  'https://agu.confex.com/agu/fm15/meetingapp.cgi/Paper/62594',\n",
       "  'https://agu.confex.com/agu/fm15/meetingapp.cgi/Paper/62596',\n",
       "  'https://agu.confex.com/agu/fm15/meetingapp.cgi/Paper/62612',\n",
       "  'https://agu.confex.com/agu/fm15/meetingapp.cgi/Paper/62616',\n",
       "  'https://agu.confex.com/agu/fm15/meetingapp.cgi/Paper/62628',\n",
       "  'https://agu.confex.com/agu/fm15/meetingapp.cgi/Paper/62636',\n",
       "  'https://agu.confex.com/agu/fm15/meetingapp.cgi/Paper/62638',\n",
       "  'https://agu.confex.com/agu/fm15/meetingapp.cgi/Paper/62640',\n",
       "  'https://agu.confex.com/agu/fm15/meetingapp.cgi/Paper/62646',\n",
       "  'https://agu.confex.com/agu/fm15/meetingapp.cgi/Paper/62654',\n",
       "  'https://agu.confex.com/agu/fm15/meetingapp.cgi/Paper/62676',\n",
       "  'https://agu.confex.com/agu/fm15/meetingapp.cgi/Paper/62678',\n",
       "  'https://agu.confex.com/agu/fm15/meetingapp.cgi/Paper/62682',\n",
       "  'https://agu.confex.com/agu/fm15/meetingapp.cgi/Paper/62688',\n",
       "  'https://agu.confex.com/agu/fm15/meetingapp.cgi/Paper/62696',\n",
       "  'https://agu.confex.com/agu/fm15/meetingapp.cgi/Paper/62702',\n",
       "  'https://agu.confex.com/agu/fm15/meetingapp.cgi/Paper/62706',\n",
       "  'https://agu.confex.com/agu/fm15/meetingapp.cgi/Paper/62714',\n",
       "  'https://agu.confex.com/agu/fm15/meetingapp.cgi/Paper/62722',\n",
       "  'https://agu.confex.com/agu/fm15/meetingapp.cgi/Paper/62724',\n",
       "  'https://agu.confex.com/agu/fm15/meetingapp.cgi/Paper/62730',\n",
       "  'https://agu.confex.com/agu/fm15/meetingapp.cgi/Paper/62732',\n",
       "  'https://agu.confex.com/agu/fm15/meetingapp.cgi/Paper/62746',\n",
       "  'https://agu.confex.com/agu/fm15/meetingapp.cgi/Paper/62748',\n",
       "  'https://agu.confex.com/agu/fm15/meetingapp.cgi/Paper/62764',\n",
       "  'https://agu.confex.com/agu/fm15/meetingapp.cgi/Paper/62770',\n",
       "  'https://agu.confex.com/agu/fm15/meetingapp.cgi/Paper/62772',\n",
       "  'https://agu.confex.com/agu/fm15/meetingapp.cgi/Paper/62776',\n",
       "  'https://agu.confex.com/agu/fm15/meetingapp.cgi/Paper/62782',\n",
       "  'https://agu.confex.com/agu/fm15/meetingapp.cgi/Paper/62784',\n",
       "  'https://agu.confex.com/agu/fm15/meetingapp.cgi/Paper/62794',\n",
       "  'https://agu.confex.com/agu/fm15/meetingapp.cgi/Paper/62800',\n",
       "  'https://agu.confex.com/agu/fm15/meetingapp.cgi/Paper/62802',\n",
       "  'https://agu.confex.com/agu/fm15/meetingapp.cgi/Paper/62808',\n",
       "  'https://agu.confex.com/agu/fm15/meetingapp.cgi/Paper/62812',\n",
       "  'https://agu.confex.com/agu/fm15/meetingapp.cgi/Paper/62814',\n",
       "  'https://agu.confex.com/agu/fm15/meetingapp.cgi/Paper/62816',\n",
       "  'https://agu.confex.com/agu/fm15/meetingapp.cgi/Paper/62818',\n",
       "  'https://agu.confex.com/agu/fm15/meetingapp.cgi/Paper/62820',\n",
       "  'https://agu.confex.com/agu/fm15/meetingapp.cgi/Paper/62822',\n",
       "  'https://agu.confex.com/agu/fm15/meetingapp.cgi/Paper/62824',\n",
       "  'https://agu.confex.com/agu/fm15/meetingapp.cgi/Paper/62826',\n",
       "  'https://agu.confex.com/agu/fm15/meetingapp.cgi/Paper/62830',\n",
       "  'https://agu.confex.com/agu/fm15/meetingapp.cgi/Paper/62832',\n",
       "  'https://agu.confex.com/agu/fm15/meetingapp.cgi/Paper/62834',\n",
       "  'https://agu.confex.com/agu/fm15/meetingapp.cgi/Paper/62842',\n",
       "  'https://agu.confex.com/agu/fm15/meetingapp.cgi/Paper/62846',\n",
       "  'https://agu.confex.com/agu/fm15/meetingapp.cgi/Paper/62848',\n",
       "  'https://agu.confex.com/agu/fm15/meetingapp.cgi/Paper/62854',\n",
       "  'https://agu.confex.com/agu/fm15/meetingapp.cgi/Paper/62862',\n",
       "  'https://agu.confex.com/agu/fm15/meetingapp.cgi/Paper/62866',\n",
       "  'https://agu.confex.com/agu/fm15/meetingapp.cgi/Paper/62876',\n",
       "  'https://agu.confex.com/agu/fm15/meetingapp.cgi/Paper/62878',\n",
       "  'https://agu.confex.com/agu/fm15/meetingapp.cgi/Paper/62886',\n",
       "  'https://agu.confex.com/agu/fm15/meetingapp.cgi/Paper/62902',\n",
       "  'https://agu.confex.com/agu/fm15/meetingapp.cgi/Paper/62912',\n",
       "  'https://agu.confex.com/agu/fm15/meetingapp.cgi/Paper/62914',\n",
       "  'https://agu.confex.com/agu/fm15/meetingapp.cgi/Paper/62926',\n",
       "  'https://agu.confex.com/agu/fm15/meetingapp.cgi/Paper/62930',\n",
       "  'https://agu.confex.com/agu/fm15/meetingapp.cgi/Paper/62934',\n",
       "  'https://agu.confex.com/agu/fm15/meetingapp.cgi/Paper/62942',\n",
       "  'https://agu.confex.com/agu/fm15/meetingapp.cgi/Paper/62944',\n",
       "  'https://agu.confex.com/agu/fm15/meetingapp.cgi/Paper/62948',\n",
       "  'https://agu.confex.com/agu/fm15/meetingapp.cgi/Paper/62950',\n",
       "  'https://agu.confex.com/agu/fm15/meetingapp.cgi/Paper/62956',\n",
       "  'https://agu.confex.com/agu/fm15/meetingapp.cgi/Paper/62958',\n",
       "  'https://agu.confex.com/agu/fm15/meetingapp.cgi/Paper/62968',\n",
       "  'https://agu.confex.com/agu/fm15/meetingapp.cgi/Paper/62970'],\n",
       " 'papers': [<__main__.Paper at 0x109b76450>,\n",
       "  <__main__.Paper at 0x109b76510>,\n",
       "  <__main__.Paper at 0x109b76550>,\n",
       "  <__main__.Paper at 0x109b765d0>,\n",
       "  <__main__.Paper at 0x109b76650>,\n",
       "  <__main__.Paper at 0x109b766d0>,\n",
       "  <__main__.Paper at 0x109b76750>,\n",
       "  <__main__.Paper at 0x109b767d0>,\n",
       "  <__main__.Paper at 0x109b76810>,\n",
       "  <__main__.Paper at 0x109b76850>,\n",
       "  <__main__.Paper at 0x109b768d0>,\n",
       "  <__main__.Paper at 0x109b76990>,\n",
       "  <__main__.Paper at 0x109b76a50>,\n",
       "  <__main__.Paper at 0x109b76b10>,\n",
       "  <__main__.Paper at 0x109b76b90>,\n",
       "  <__main__.Paper at 0x109b76c10>,\n",
       "  <__main__.Paper at 0x109b76c50>,\n",
       "  <__main__.Paper at 0x109b76cd0>,\n",
       "  <__main__.Paper at 0x109b76d90>,\n",
       "  <__main__.Paper at 0x109b76ed0>,\n",
       "  <__main__.Paper at 0x109b76f90>,\n",
       "  <__main__.Paper at 0x109b24050>,\n",
       "  <__main__.Paper at 0x109b24110>,\n",
       "  <__main__.Paper at 0x109b24290>,\n",
       "  <__main__.Paper at 0x109b24310>,\n",
       "  <__main__.Paper at 0x109b243d0>,\n",
       "  <__main__.Paper at 0x109b244d0>,\n",
       "  <__main__.Paper at 0x109b24510>,\n",
       "  <__main__.Paper at 0x109b245d0>,\n",
       "  <__main__.Paper at 0x109b24690>,\n",
       "  <__main__.Paper at 0x109b24710>,\n",
       "  <__main__.Paper at 0x109b247d0>,\n",
       "  <__main__.Paper at 0x109b24890>,\n",
       "  <__main__.Paper at 0x109b24910>,\n",
       "  <__main__.Paper at 0x109b24990>,\n",
       "  <__main__.Paper at 0x109b24a10>,\n",
       "  <__main__.Paper at 0x109b24a50>,\n",
       "  <__main__.Paper at 0x109b24b10>,\n",
       "  <__main__.Paper at 0x109b24b90>,\n",
       "  <__main__.Paper at 0x109b24bd0>,\n",
       "  <__main__.Paper at 0x109b24c10>,\n",
       "  <__main__.Paper at 0x109b24cd0>,\n",
       "  <__main__.Paper at 0x109b24d50>,\n",
       "  <__main__.Paper at 0x109b24e10>,\n",
       "  <__main__.Paper at 0x109b24ed0>,\n",
       "  <__main__.Paper at 0x109b24f90>,\n",
       "  <__main__.Paper at 0x109b8a050>,\n",
       "  <__main__.Paper at 0x109b8a1d0>,\n",
       "  <__main__.Paper at 0x109b8a2d0>,\n",
       "  <__main__.Paper at 0x109b8a350>,\n",
       "  <__main__.Paper at 0x109b8a3d0>,\n",
       "  <__main__.Paper at 0x109b8a450>,\n",
       "  <__main__.Paper at 0x109b8a550>,\n",
       "  <__main__.Paper at 0x109b8a610>,\n",
       "  <__main__.Paper at 0x109b8a650>,\n",
       "  <__main__.Paper at 0x109b8a6d0>,\n",
       "  <__main__.Paper at 0x109b8a750>,\n",
       "  <__main__.Paper at 0x109b8a7d0>,\n",
       "  <__main__.Paper at 0x109b8a850>,\n",
       "  <__main__.Paper at 0x109b8a8d0>,\n",
       "  <__main__.Paper at 0x109b8a990>,\n",
       "  <__main__.Paper at 0x105f57ed0>,\n",
       "  <__main__.Paper at 0x109b8aa90>,\n",
       "  <__main__.Paper at 0x109b8ab10>,\n",
       "  <__main__.Paper at 0x109b8ab90>,\n",
       "  <__main__.Paper at 0x109b8ac10>,\n",
       "  <__main__.Paper at 0x109b8ad10>,\n",
       "  <__main__.Paper at 0x109b8ad90>,\n",
       "  <__main__.Paper at 0x109b8ae50>,\n",
       "  <__main__.Paper at 0x109b8af10>,\n",
       "  <__main__.Paper at 0x109b8af90>,\n",
       "  <__main__.Paper at 0x109b84050>,\n",
       "  <__main__.Paper at 0x109b840d0>,\n",
       "  <__main__.Paper at 0x109b84190>,\n",
       "  <__main__.Paper at 0x109b84210>,\n",
       "  <__main__.Paper at 0x109b84290>,\n",
       "  <__main__.Paper at 0x109b84310>,\n",
       "  <__main__.Paper at 0x109b84410>,\n",
       "  <__main__.Paper at 0x109b84450>,\n",
       "  <__main__.Paper at 0x109b84590>,\n",
       "  <__main__.Paper at 0x109b84650>,\n",
       "  <__main__.Paper at 0x109b84790>,\n",
       "  <__main__.Paper at 0x109b84810>,\n",
       "  <__main__.Paper at 0x109b84890>,\n",
       "  <__main__.Paper at 0x109b84910>,\n",
       "  <__main__.Paper at 0x109b84a10>,\n",
       "  <__main__.Paper at 0x109b84a90>,\n",
       "  <__main__.Paper at 0x109b84b50>,\n",
       "  <__main__.Paper at 0x109b84c10>,\n",
       "  <__main__.Paper at 0x109b84d10>,\n",
       "  <__main__.Paper at 0x109b84d90>,\n",
       "  <__main__.Paper at 0x109b84e50>,\n",
       "  <__main__.Paper at 0x109b84ed0>,\n",
       "  <__main__.Paper at 0x109b84f90>,\n",
       "  <__main__.Paper at 0x109b9b050>,\n",
       "  <__main__.Paper at 0x109b9b0d0>,\n",
       "  <__main__.Paper at 0x109b9b110>,\n",
       "  <__main__.Paper at 0x109b9b190>,\n",
       "  <__main__.Paper at 0x109b9b1d0>,\n",
       "  <__main__.Paper at 0x109b9b290>,\n",
       "  <__main__.Paper at 0x109b9b310>,\n",
       "  <__main__.Paper at 0x109b9b390>,\n",
       "  <__main__.Paper at 0x109b9b410>,\n",
       "  <__main__.Paper at 0x109b9b610>,\n",
       "  <__main__.Paper at 0x109b9b710>,\n",
       "  <__main__.Paper at 0x109b9b790>,\n",
       "  <__main__.Paper at 0x109b9b810>,\n",
       "  <__main__.Paper at 0x109b9b890>,\n",
       "  <__main__.Paper at 0x109b9b910>,\n",
       "  <__main__.Paper at 0x109b9bad0>,\n",
       "  <__main__.Paper at 0x109b9bc10>,\n",
       "  <__main__.Paper at 0x109b9bcd0>,\n",
       "  <__main__.Paper at 0x109b9bdd0>,\n",
       "  <__main__.Paper at 0x109b9be90>,\n",
       "  <__main__.Paper at 0x109b9bf10>,\n",
       "  <__main__.Paper at 0x109b9bf90>,\n",
       "  <__main__.Paper at 0x109bfd050>,\n",
       "  <__main__.Paper at 0x109bfd0d0>,\n",
       "  <__main__.Paper at 0x109bfd150>,\n",
       "  <__main__.Paper at 0x109bfd190>,\n",
       "  <__main__.Paper at 0x109bfd210>,\n",
       "  <__main__.Paper at 0x109bfd290>,\n",
       "  <__main__.Paper at 0x109bfd310>,\n",
       "  <__main__.Paper at 0x109bfd3d0>,\n",
       "  <__main__.Paper at 0x109bfd490>,\n",
       "  <__main__.Paper at 0x109bfd510>,\n",
       "  <__main__.Paper at 0x109bfd590>,\n",
       "  <__main__.Paper at 0x109bfd610>,\n",
       "  <__main__.Paper at 0x109bfd650>,\n",
       "  <__main__.Paper at 0x109bfd690>,\n",
       "  <__main__.Paper at 0x109bfd710>,\n",
       "  <__main__.Paper at 0x109bfd7d0>,\n",
       "  <__main__.Paper at 0x109bfd950>,\n",
       "  <__main__.Paper at 0x109bfda10>,\n",
       "  <__main__.Paper at 0x109bfda90>,\n",
       "  <__main__.Paper at 0x109bfdb10>,\n",
       "  <__main__.Paper at 0x109bfdb90>,\n",
       "  <__main__.Paper at 0x109bfdc10>,\n",
       "  <__main__.Paper at 0x109bfdc90>,\n",
       "  <__main__.Paper at 0x109bfdd50>,\n",
       "  <__main__.Paper at 0x109bfdd90>,\n",
       "  <__main__.Paper at 0x109bfde10>,\n",
       "  <__main__.Paper at 0x109bfded0>,\n",
       "  <__main__.Paper at 0x109bfdf50>,\n",
       "  <__main__.Paper at 0x109bc9050>,\n",
       "  <__main__.Paper at 0x109bc9110>,\n",
       "  <__main__.Paper at 0x109bc9190>,\n",
       "  <__main__.Paper at 0x109bc91d0>,\n",
       "  <__main__.Paper at 0x109bc9250>,\n",
       "  <__main__.Paper at 0x109bc9310>,\n",
       "  <__main__.Paper at 0x109bc9390>,\n",
       "  <__main__.Paper at 0x109bc9410>,\n",
       "  <__main__.Paper at 0x109bc9490>,\n",
       "  <__main__.Paper at 0x109bc95d0>,\n",
       "  <__main__.Paper at 0x109bc9650>,\n",
       "  <__main__.Paper at 0x109bc9710>,\n",
       "  <__main__.Paper at 0x109bc9750>,\n",
       "  <__main__.Paper at 0x109bc9790>,\n",
       "  <__main__.Paper at 0x109bc98d0>,\n",
       "  <__main__.Paper at 0x109bc9a10>,\n",
       "  <__main__.Paper at 0x109bc9a90>,\n",
       "  <__main__.Paper at 0x109bc9b50>,\n",
       "  <__main__.Paper at 0x109bc9d90>,\n",
       "  <__main__.Paper at 0x109bc9e90>,\n",
       "  <__main__.Paper at 0x109bc9f50>,\n",
       "  <__main__.Paper at 0x109bc9fd0>,\n",
       "  <__main__.Paper at 0x109bf0090>,\n",
       "  <__main__.Paper at 0x109bf0110>,\n",
       "  <__main__.Paper at 0x109bf0150>,\n",
       "  <__main__.Paper at 0x109bf02d0>,\n",
       "  <__main__.Paper at 0x109bf0410>,\n",
       "  <__main__.Paper at 0x109bf0490>,\n",
       "  <__main__.Paper at 0x109bf0510>,\n",
       "  <__main__.Paper at 0x109bf0590>,\n",
       "  <__main__.Paper at 0x109bf0610>,\n",
       "  <__main__.Paper at 0x109bf0690>,\n",
       "  <__main__.Paper at 0x109bf0750>,\n",
       "  <__main__.Paper at 0x109bf07d0>,\n",
       "  <__main__.Paper at 0x109bf0890>,\n",
       "  <__main__.Paper at 0x109bf0a50>,\n",
       "  <__main__.Paper at 0x109bf0ad0>,\n",
       "  <__main__.Paper at 0x109bf0b90>,\n",
       "  <__main__.Paper at 0x109bf0c10>,\n",
       "  <__main__.Paper at 0x109bf0c90>,\n",
       "  <__main__.Paper at 0x109bf0e10>,\n",
       "  <__main__.Paper at 0x109bf0f50>,\n",
       "  <__main__.Paper at 0x109bf0fd0>,\n",
       "  <__main__.Paper at 0x109c45110>,\n",
       "  <__main__.Paper at 0x109c45250>,\n",
       "  <__main__.Paper at 0x109c45310>,\n",
       "  <__main__.Paper at 0x109c45350>,\n",
       "  <__main__.Paper at 0x109c453d0>,\n",
       "  <__main__.Paper at 0x109c45450>,\n",
       "  <__main__.Paper at 0x109c454d0>,\n",
       "  <__main__.Paper at 0x109c45590>,\n",
       "  <__main__.Paper at 0x109c45610>,\n",
       "  <__main__.Paper at 0x109c456d0>,\n",
       "  <__main__.Paper at 0x109c45790>,\n",
       "  <__main__.Paper at 0x109c45810>,\n",
       "  <__main__.Paper at 0x109c45890>,\n",
       "  <__main__.Paper at 0x109c45910>,\n",
       "  <__main__.Paper at 0x109c459d0>,\n",
       "  <__main__.Paper at 0x109c45a90>,\n",
       "  <__main__.Paper at 0x109c45b50>,\n",
       "  <__main__.Paper at 0x109c45c90>,\n",
       "  <__main__.Paper at 0x109c45d10>,\n",
       "  <__main__.Paper at 0x109c45dd0>,\n",
       "  <__main__.Paper at 0x109c45e50>,\n",
       "  <__main__.Paper at 0x109c45ed0>,\n",
       "  <__main__.Paper at 0x109c45f10>,\n",
       "  <__main__.Paper at 0x109c45f90>,\n",
       "  <__main__.Paper at 0x109c57050>,\n",
       "  <__main__.Paper at 0x109c570d0>,\n",
       "  <__main__.Paper at 0x109c57150>,\n",
       "  <__main__.Paper at 0x109c57210>,\n",
       "  <__main__.Paper at 0x109c57290>,\n",
       "  <__main__.Paper at 0x109c57350>,\n",
       "  <__main__.Paper at 0x109c57450>,\n",
       "  <__main__.Paper at 0x109c57490>,\n",
       "  <__main__.Paper at 0x109c574d0>,\n",
       "  <__main__.Paper at 0x109c57610>,\n",
       "  <__main__.Paper at 0x109c576d0>,\n",
       "  <__main__.Paper at 0x109c57750>,\n",
       "  <__main__.Paper at 0x109c577d0>,\n",
       "  <__main__.Paper at 0x109c57890>,\n",
       "  <__main__.Paper at 0x109c57910>,\n",
       "  <__main__.Paper at 0x109c57a50>,\n",
       "  <__main__.Paper at 0x109c57ad0>,\n",
       "  <__main__.Paper at 0x109c57b50>,\n",
       "  <__main__.Paper at 0x109c57c10>,\n",
       "  <__main__.Paper at 0x109c57c90>,\n",
       "  <__main__.Paper at 0x109c57d10>,\n",
       "  <__main__.Paper at 0x109c57d90>,\n",
       "  <__main__.Paper at 0x109c57e10>,\n",
       "  <__main__.Paper at 0x109c57f10>,\n",
       "  <__main__.Paper at 0x109c57f90>,\n",
       "  <__main__.Paper at 0x109c6c0d0>,\n",
       "  <__main__.Paper at 0x109c6c150>,\n",
       "  <__main__.Paper at 0x109c6c210>,\n",
       "  <__main__.Paper at 0x109c6c290>,\n",
       "  <__main__.Paper at 0x109c6c310>,\n",
       "  <__main__.Paper at 0x109c6c390>,\n",
       "  <__main__.Paper at 0x109c6c490>,\n",
       "  <__main__.Paper at 0x109c6c510>,\n",
       "  <__main__.Paper at 0x109c6c550>,\n",
       "  <__main__.Paper at 0x109c6c610>,\n",
       "  <__main__.Paper at 0x109c6c690>,\n",
       "  <__main__.Paper at 0x109c6c6d0>,\n",
       "  <__main__.Paper at 0x109c6c750>,\n",
       "  <__main__.Paper at 0x109c6c810>,\n",
       "  <__main__.Paper at 0x109c6ca10>,\n",
       "  <__main__.Paper at 0x109c6ca90>,\n",
       "  <__main__.Paper at 0x109c6cb10>,\n",
       "  <__main__.Paper at 0x109c6cb90>,\n",
       "  <__main__.Paper at 0x109c6cc10>,\n",
       "  <__main__.Paper at 0x109c6ccd0>,\n",
       "  <__main__.Paper at 0x109c6cd90>,\n",
       "  <__main__.Paper at 0x109c6ce50>,\n",
       "  <__main__.Paper at 0x109c6ced0>,\n",
       "  <__main__.Paper at 0x109c6cf50>,\n",
       "  <__main__.Paper at 0x109c7e090>,\n",
       "  <__main__.Paper at 0x109c7e150>,\n",
       "  <__main__.Paper at 0x109c7e210>,\n",
       "  <__main__.Paper at 0x109c7e290>,\n",
       "  <__main__.Paper at 0x109c7e2d0>,\n",
       "  <__main__.Paper at 0x109c7e350>,\n",
       "  <__main__.Paper at 0x109c7e3d0>,\n",
       "  <__main__.Paper at 0x109c7e450>,\n",
       "  <__main__.Paper at 0x109c7e490>,\n",
       "  <__main__.Paper at 0x109c7e4d0>,\n",
       "  <__main__.Paper at 0x109c7e590>,\n",
       "  <__main__.Paper at 0x109c7e650>,\n",
       "  <__main__.Paper at 0x109c7e710>,\n",
       "  <__main__.Paper at 0x109c7e810>,\n",
       "  <__main__.Paper at 0x109c7e850>,\n",
       "  <__main__.Paper at 0x109c7e910>,\n",
       "  <__main__.Paper at 0x109c7e9d0>,\n",
       "  <__main__.Paper at 0x109c7ea10>,\n",
       "  <__main__.Paper at 0x109c7ead0>,\n",
       "  <__main__.Paper at 0x109c7eb90>,\n",
       "  <__main__.Paper at 0x109c7ec50>,\n",
       "  <__main__.Paper at 0x109c7ec90>,\n",
       "  <__main__.Paper at 0x109c7ee10>,\n",
       "  <__main__.Paper at 0x109c7ee90>,\n",
       "  <__main__.Paper at 0x109c7ef50>,\n",
       "  <__main__.Paper at 0x109c8f050>,\n",
       "  <__main__.Paper at 0x109c8f0d0>,\n",
       "  <__main__.Paper at 0x109c8f290>,\n",
       "  <__main__.Paper at 0x109c8f390>,\n",
       "  <__main__.Paper at 0x109c8f490>,\n",
       "  <__main__.Paper at 0x109c8f510>,\n",
       "  <__main__.Paper at 0x109c8f590>,\n",
       "  <__main__.Paper at 0x109c8f690>,\n",
       "  <__main__.Paper at 0x109c8f710>,\n",
       "  <__main__.Paper at 0x109c8f750>,\n",
       "  <__main__.Paper at 0x109c8f850>,\n",
       "  <__main__.Paper at 0x109c8f8d0>,\n",
       "  <__main__.Paper at 0x109c8f950>,\n",
       "  <__main__.Paper at 0x109c8fa10>,\n",
       "  <__main__.Paper at 0x109c8fa90>,\n",
       "  <__main__.Paper at 0x109c8fb50>,\n",
       "  <__main__.Paper at 0x109c8fc90>,\n",
       "  <__main__.Paper at 0x109c8fd90>,\n",
       "  <__main__.Paper at 0x109c8fe10>,\n",
       "  <__main__.Paper at 0x109c8fe50>,\n",
       "  <__main__.Paper at 0x109c8fed0>]}"
      ]
     },
     "execution_count": 128,
     "metadata": {},
     "output_type": "execute_result"
    }
   ],
   "source": [
    "idxs"
   ]
  },
  {
   "cell_type": "code",
   "execution_count": 110,
   "metadata": {
    "collapsed": false
   },
   "outputs": [
    {
     "name": "stdout",
     "output_type": "stream",
     "text": [
      " Coastal Geomorphology and Morphodynamics III Posters\n",
      " Biogeophysical Impacts of Land Use/Land Cover Change (LULCC) and Vegetation Disturbance from Micro- to Global Scales II\n",
      " Transport of Volatiles from Mantle to Surface\n",
      " Rifts and Passive Margins\n",
      " Recent Advances in Understanding the Magnetospheric Waves and Their Effects on Energetic Particles IV\n",
      " Gravity, Geoids, and Geopotential Reference Frames\n",
      " Reconstructing the Secular Variation of the Earth's Magnetic Field in the Past\n",
      " Fluvial Morphodynamics\n",
      " Tropical and Midlatitude Convective Storm Systems and Their Roles in Weather and Climate II\n",
      " Stream Temperature\n",
      " Seismic Anisotropy across Scales in the Mantle I\n",
      " The NASA Public Health and Air Quality Application Program\n",
      " Drought Trends and Vulnerability of North American Forest and Rangelands Posters\n",
      " Evapotranspiration, Evaporative Demand, and Droughts\n",
      " Tsunami Hazard Response and Mitigation II Posters\n",
      " Advances in Environmental Magnetism, Bio-Geomagnetism, and High-Resolution Paleomagnetism Studies I\n"
     ]
    }
   ],
   "source": [
    "for paper in idxs['papers']:\n",
    "    print paper.session"
   ]
  },
  {
   "cell_type": "code",
   "execution_count": 102,
   "metadata": {
    "collapsed": false
   },
   "outputs": [
    {
     "data": {
      "text/plain": [
       "33"
      ]
     },
     "execution_count": 102,
     "metadata": {},
     "output_type": "execute_result"
    }
   ],
   "source": [
    "(40000/20)/60\n"
   ]
  },
  {
   "cell_type": "markdown",
   "metadata": {},
   "source": [
    "- Agu2015 : 58180 - 87000\n",
    "- Agu2014 : 2180- 35000"
   ]
  },
  {
   "cell_type": "code",
   "execution_count": 16,
   "metadata": {
    "collapsed": false
   },
   "outputs": [],
   "source": [
    "my_url = 'https://agu.confex.com/agu/fm14/meetingapp.cgi/Paper/3000'\n",
    "sess = dryscrape.Session()\n",
    "sess.set_attribute('auto_load_images', False)\n",
    "\n",
    "def Scrapper(url,ses):\n",
    "    ses.visit(my_url)\n",
    "    sess.wait_for(lambda: sess.at_xpath('//*[@id=\"Details\"]/section[3]'),timeout = 1000)\n",
    "    time.sleep(5)\n",
    "    html = BeautifulSoup(ses.body())\n",
    "    text = html.find(id='main').get_text()\n",
    "    ses.reset()\n",
    "    return html,text,[f for f in text.replace('\\n','').split('\\t') if f not in ['',' ']]\n",
    "\n",
    "html,text,data = Scrapper(my_url,sess)"
   ]
  },
  {
   "cell_type": "code",
   "execution_count": 28,
   "metadata": {
    "collapsed": false
   },
   "outputs": [
    {
     "ename": "NoSuchElementException",
     "evalue": "Message: Unable to locate element: {\"method\":\"xpath\",\"selector\":\"//*[@id=\\\"Details\\\"]\"}\nStacktrace:\n    at FirefoxDriver.prototype.findElementInternal_ (file:///var/folders/24/3llxbpdx5q70cswj7j7179300000gn/T/tmpFOn3iW/extensions/fxdriver@googlecode.com/components/driver-component.js:10659)\n    at FirefoxDriver.prototype.findElement (file:///var/folders/24/3llxbpdx5q70cswj7j7179300000gn/T/tmpFOn3iW/extensions/fxdriver@googlecode.com/components/driver-component.js:10668)\n    at DelayedCommand.prototype.executeInternal_/h (file:///var/folders/24/3llxbpdx5q70cswj7j7179300000gn/T/tmpFOn3iW/extensions/fxdriver@googlecode.com/components/command-processor.js:12534)\n    at DelayedCommand.prototype.executeInternal_ (file:///var/folders/24/3llxbpdx5q70cswj7j7179300000gn/T/tmpFOn3iW/extensions/fxdriver@googlecode.com/components/command-processor.js:12539)\n    at DelayedCommand.prototype.execute/< (file:///var/folders/24/3llxbpdx5q70cswj7j7179300000gn/T/tmpFOn3iW/extensions/fxdriver@googlecode.com/components/command-processor.js:12481)",
     "output_type": "error",
     "traceback": [
      "\u001b[0;31m---------------------------------------------------------------------------\u001b[0m",
      "\u001b[0;31mNoSuchElementException\u001b[0m                    Traceback (most recent call last)",
      "\u001b[0;32m<ipython-input-28-e3e5f7b3c6ab>\u001b[0m in \u001b[0;36m<module>\u001b[0;34m()\u001b[0m\n\u001b[1;32m      2\u001b[0m \u001b[0mbrowser\u001b[0m \u001b[0;34m=\u001b[0m \u001b[0mwebdriver\u001b[0m\u001b[0;34m.\u001b[0m\u001b[0mFirefox\u001b[0m\u001b[0;34m(\u001b[0m\u001b[0;34m)\u001b[0m\u001b[0;34m\u001b[0m\u001b[0m\n\u001b[1;32m      3\u001b[0m \u001b[0mbrowser\u001b[0m\u001b[0;34m.\u001b[0m\u001b[0mget\u001b[0m\u001b[0;34m(\u001b[0m\u001b[0;34m'https://agu.confex.com/agu/fm15/meetingapp.cgi/Paper/78662'\u001b[0m\u001b[0;34m)\u001b[0m\u001b[0;34m\u001b[0m\u001b[0m\n\u001b[0;32m----> 4\u001b[0;31m \u001b[0mabstract\u001b[0m \u001b[0;34m=\u001b[0m \u001b[0mbrowser\u001b[0m\u001b[0;34m.\u001b[0m\u001b[0mfind_element_by_xpath\u001b[0m\u001b[0;34m(\u001b[0m\u001b[0;34m'//*[@id=\"Details\"]'\u001b[0m\u001b[0;34m)\u001b[0m\u001b[0;34m\u001b[0m\u001b[0m\n\u001b[0m\u001b[1;32m      5\u001b[0m \u001b[0mBeautifulSoup\u001b[0m\u001b[0;34m(\u001b[0m\u001b[0mabstract\u001b[0m\u001b[0;34m.\u001b[0m\u001b[0mtext\u001b[0m\u001b[0;34m)\u001b[0m\u001b[0;34m\u001b[0m\u001b[0m\n",
      "\u001b[0;32m/opt/local/Library/Frameworks/Python.framework/Versions/2.7/lib/python2.7/site-packages/selenium/webdriver/remote/webdriver.pyc\u001b[0m in \u001b[0;36mfind_element_by_xpath\u001b[0;34m(self, xpath)\u001b[0m\n\u001b[1;32m    256\u001b[0m             \u001b[0mdriver\u001b[0m\u001b[0;34m.\u001b[0m\u001b[0mfind_element_by_xpath\u001b[0m\u001b[0;34m(\u001b[0m\u001b[0;34m'//div/td[1]'\u001b[0m\u001b[0;34m)\u001b[0m\u001b[0;34m\u001b[0m\u001b[0m\n\u001b[1;32m    257\u001b[0m         \"\"\"\n\u001b[0;32m--> 258\u001b[0;31m         \u001b[0;32mreturn\u001b[0m \u001b[0mself\u001b[0m\u001b[0;34m.\u001b[0m\u001b[0mfind_element\u001b[0m\u001b[0;34m(\u001b[0m\u001b[0mby\u001b[0m\u001b[0;34m=\u001b[0m\u001b[0mBy\u001b[0m\u001b[0;34m.\u001b[0m\u001b[0mXPATH\u001b[0m\u001b[0;34m,\u001b[0m \u001b[0mvalue\u001b[0m\u001b[0;34m=\u001b[0m\u001b[0mxpath\u001b[0m\u001b[0;34m)\u001b[0m\u001b[0;34m\u001b[0m\u001b[0m\n\u001b[0m\u001b[1;32m    259\u001b[0m \u001b[0;34m\u001b[0m\u001b[0m\n\u001b[1;32m    260\u001b[0m     \u001b[0;32mdef\u001b[0m \u001b[0mfind_elements_by_xpath\u001b[0m\u001b[0;34m(\u001b[0m\u001b[0mself\u001b[0m\u001b[0;34m,\u001b[0m \u001b[0mxpath\u001b[0m\u001b[0;34m)\u001b[0m\u001b[0;34m:\u001b[0m\u001b[0;34m\u001b[0m\u001b[0m\n",
      "\u001b[0;32m/opt/local/Library/Frameworks/Python.framework/Versions/2.7/lib/python2.7/site-packages/selenium/webdriver/remote/webdriver.pyc\u001b[0m in \u001b[0;36mfind_element\u001b[0;34m(self, by, value)\u001b[0m\n\u001b[1;32m    710\u001b[0m                 \u001b[0mvalue\u001b[0m \u001b[0;34m=\u001b[0m \u001b[0;34m'[name=\"%s\"]'\u001b[0m \u001b[0;34m%\u001b[0m \u001b[0mvalue\u001b[0m\u001b[0;34m\u001b[0m\u001b[0m\n\u001b[1;32m    711\u001b[0m         return self.execute(Command.FIND_ELEMENT,\n\u001b[0;32m--> 712\u001b[0;31m                              {'using': by, 'value': value})['value']\n\u001b[0m\u001b[1;32m    713\u001b[0m \u001b[0;34m\u001b[0m\u001b[0m\n\u001b[1;32m    714\u001b[0m     \u001b[0;32mdef\u001b[0m \u001b[0mfind_elements\u001b[0m\u001b[0;34m(\u001b[0m\u001b[0mself\u001b[0m\u001b[0;34m,\u001b[0m \u001b[0mby\u001b[0m\u001b[0;34m=\u001b[0m\u001b[0mBy\u001b[0m\u001b[0;34m.\u001b[0m\u001b[0mID\u001b[0m\u001b[0;34m,\u001b[0m \u001b[0mvalue\u001b[0m\u001b[0;34m=\u001b[0m\u001b[0mNone\u001b[0m\u001b[0;34m)\u001b[0m\u001b[0;34m:\u001b[0m\u001b[0;34m\u001b[0m\u001b[0m\n",
      "\u001b[0;32m/opt/local/Library/Frameworks/Python.framework/Versions/2.7/lib/python2.7/site-packages/selenium/webdriver/remote/webdriver.pyc\u001b[0m in \u001b[0;36mexecute\u001b[0;34m(self, driver_command, params)\u001b[0m\n\u001b[1;32m    199\u001b[0m         \u001b[0mresponse\u001b[0m \u001b[0;34m=\u001b[0m \u001b[0mself\u001b[0m\u001b[0;34m.\u001b[0m\u001b[0mcommand_executor\u001b[0m\u001b[0;34m.\u001b[0m\u001b[0mexecute\u001b[0m\u001b[0;34m(\u001b[0m\u001b[0mdriver_command\u001b[0m\u001b[0;34m,\u001b[0m \u001b[0mparams\u001b[0m\u001b[0;34m)\u001b[0m\u001b[0;34m\u001b[0m\u001b[0m\n\u001b[1;32m    200\u001b[0m         \u001b[0;32mif\u001b[0m \u001b[0mresponse\u001b[0m\u001b[0;34m:\u001b[0m\u001b[0;34m\u001b[0m\u001b[0m\n\u001b[0;32m--> 201\u001b[0;31m             \u001b[0mself\u001b[0m\u001b[0;34m.\u001b[0m\u001b[0merror_handler\u001b[0m\u001b[0;34m.\u001b[0m\u001b[0mcheck_response\u001b[0m\u001b[0;34m(\u001b[0m\u001b[0mresponse\u001b[0m\u001b[0;34m)\u001b[0m\u001b[0;34m\u001b[0m\u001b[0m\n\u001b[0m\u001b[1;32m    202\u001b[0m             response['value'] = self._unwrap_value(\n\u001b[1;32m    203\u001b[0m                 response.get('value', None))\n",
      "\u001b[0;32m/opt/local/Library/Frameworks/Python.framework/Versions/2.7/lib/python2.7/site-packages/selenium/webdriver/remote/errorhandler.pyc\u001b[0m in \u001b[0;36mcheck_response\u001b[0;34m(self, response)\u001b[0m\n\u001b[1;32m    179\u001b[0m         \u001b[0;32melif\u001b[0m \u001b[0mexception_class\u001b[0m \u001b[0;34m==\u001b[0m \u001b[0mUnexpectedAlertPresentException\u001b[0m \u001b[0;32mand\u001b[0m \u001b[0;34m'alert'\u001b[0m \u001b[0;32min\u001b[0m \u001b[0mvalue\u001b[0m\u001b[0;34m:\u001b[0m\u001b[0;34m\u001b[0m\u001b[0m\n\u001b[1;32m    180\u001b[0m             \u001b[0;32mraise\u001b[0m \u001b[0mexception_class\u001b[0m\u001b[0;34m(\u001b[0m\u001b[0mmessage\u001b[0m\u001b[0;34m,\u001b[0m \u001b[0mscreen\u001b[0m\u001b[0;34m,\u001b[0m \u001b[0mstacktrace\u001b[0m\u001b[0;34m,\u001b[0m \u001b[0mvalue\u001b[0m\u001b[0;34m[\u001b[0m\u001b[0;34m'alert'\u001b[0m\u001b[0;34m]\u001b[0m\u001b[0;34m.\u001b[0m\u001b[0mget\u001b[0m\u001b[0;34m(\u001b[0m\u001b[0;34m'text'\u001b[0m\u001b[0;34m)\u001b[0m\u001b[0;34m)\u001b[0m\u001b[0;34m\u001b[0m\u001b[0m\n\u001b[0;32m--> 181\u001b[0;31m         \u001b[0;32mraise\u001b[0m \u001b[0mexception_class\u001b[0m\u001b[0;34m(\u001b[0m\u001b[0mmessage\u001b[0m\u001b[0;34m,\u001b[0m \u001b[0mscreen\u001b[0m\u001b[0;34m,\u001b[0m \u001b[0mstacktrace\u001b[0m\u001b[0;34m)\u001b[0m\u001b[0;34m\u001b[0m\u001b[0m\n\u001b[0m\u001b[1;32m    182\u001b[0m \u001b[0;34m\u001b[0m\u001b[0m\n\u001b[1;32m    183\u001b[0m     \u001b[0;32mdef\u001b[0m \u001b[0m_value_or_default\u001b[0m\u001b[0;34m(\u001b[0m\u001b[0mself\u001b[0m\u001b[0;34m,\u001b[0m \u001b[0mobj\u001b[0m\u001b[0;34m,\u001b[0m \u001b[0mkey\u001b[0m\u001b[0;34m,\u001b[0m \u001b[0mdefault\u001b[0m\u001b[0;34m)\u001b[0m\u001b[0;34m:\u001b[0m\u001b[0;34m\u001b[0m\u001b[0m\n",
      "\u001b[0;31mNoSuchElementException\u001b[0m: Message: Unable to locate element: {\"method\":\"xpath\",\"selector\":\"//*[@id=\\\"Details\\\"]\"}\nStacktrace:\n    at FirefoxDriver.prototype.findElementInternal_ (file:///var/folders/24/3llxbpdx5q70cswj7j7179300000gn/T/tmpFOn3iW/extensions/fxdriver@googlecode.com/components/driver-component.js:10659)\n    at FirefoxDriver.prototype.findElement (file:///var/folders/24/3llxbpdx5q70cswj7j7179300000gn/T/tmpFOn3iW/extensions/fxdriver@googlecode.com/components/driver-component.js:10668)\n    at DelayedCommand.prototype.executeInternal_/h (file:///var/folders/24/3llxbpdx5q70cswj7j7179300000gn/T/tmpFOn3iW/extensions/fxdriver@googlecode.com/components/command-processor.js:12534)\n    at DelayedCommand.prototype.executeInternal_ (file:///var/folders/24/3llxbpdx5q70cswj7j7179300000gn/T/tmpFOn3iW/extensions/fxdriver@googlecode.com/components/command-processor.js:12539)\n    at DelayedCommand.prototype.execute/< (file:///var/folders/24/3llxbpdx5q70cswj7j7179300000gn/T/tmpFOn3iW/extensions/fxdriver@googlecode.com/components/command-processor.js:12481)"
     ]
    }
   ],
   "source": [
    "from selenium import webdriver  \n",
    "browser = webdriver.Firefox()  \n",
    "browser.get('https://agu.confex.com/agu/fm15/meetingapp.cgi/Paper/78662')  \n",
    "abstract = browser.find_element_by_xpath('//*[@id=\"Details\"]')\n",
    "BeautifulSoup(abstract.text)"
   ]
  },
  {
   "cell_type": "code",
   "execution_count": 2,
   "metadata": {
    "collapsed": false
   },
   "outputs": [],
   "source": [
    "from selenium.webdriver.support.ui import WebDriverWait\n",
    "from selenium.webdriver.support import expected_conditions as EC\n",
    "from selenium.webdriver.common.by import By\n",
    "from selenium import webdriver\n"
   ]
  },
  {
   "cell_type": "code",
   "execution_count": 123,
   "metadata": {
    "collapsed": false
   },
   "outputs": [
    {
     "ename": "IndexError",
     "evalue": "list index out of range",
     "output_type": "error",
     "traceback": [
      "\u001b[0;31m---------------------------------------------------------------------------\u001b[0m",
      "\u001b[0;31mIndexError\u001b[0m                                Traceback (most recent call last)",
      "\u001b[0;32m<ipython-input-123-1b554283864a>\u001b[0m in \u001b[0;36m<module>\u001b[0;34m()\u001b[0m\n\u001b[1;32m     34\u001b[0m     \u001b[0mbody3\u001b[0m \u001b[0;34m=\u001b[0m \u001b[0mwd\u001b[0m\u001b[0;34m.\u001b[0m\u001b[0mfind_element_by_xpath\u001b[0m\u001b[0;34m(\u001b[0m\u001b[0;34m'//*[@id=\"Details\"]/section[2]'\u001b[0m\u001b[0;34m)\u001b[0m\u001b[0;34m.\u001b[0m\u001b[0mtext\u001b[0m\u001b[0;34m\u001b[0m\u001b[0m\n\u001b[1;32m     35\u001b[0m     \u001b[0mbody4\u001b[0m \u001b[0;34m=\u001b[0m \u001b[0mwd\u001b[0m\u001b[0;34m.\u001b[0m\u001b[0mfind_element_by_xpath\u001b[0m\u001b[0;34m(\u001b[0m\u001b[0;34m'//*[@id=\"Details\"]/section[3]'\u001b[0m\u001b[0;34m)\u001b[0m\u001b[0;34m.\u001b[0m\u001b[0mtext\u001b[0m\u001b[0;34m\u001b[0m\u001b[0m\n\u001b[0;32m---> 36\u001b[0;31m     \u001b[0mpaper\u001b[0m \u001b[0;34m=\u001b[0m \u001b[0mPaper\u001b[0m\u001b[0;34m(\u001b[0m\u001b[0mbody1\u001b[0m\u001b[0;34m,\u001b[0m\u001b[0mbody2\u001b[0m\u001b[0;34m,\u001b[0m\u001b[0mbody3\u001b[0m\u001b[0;34m,\u001b[0m\u001b[0mbody4\u001b[0m\u001b[0;34m)\u001b[0m\u001b[0;34m\u001b[0m\u001b[0m\n\u001b[0m\u001b[1;32m     37\u001b[0m     \u001b[0mpapers\u001b[0m\u001b[0;34m.\u001b[0m\u001b[0mappend\u001b[0m\u001b[0;34m(\u001b[0m\u001b[0mpaper\u001b[0m\u001b[0;34m)\u001b[0m\u001b[0;34m\u001b[0m\u001b[0m\n\u001b[1;32m     38\u001b[0m \u001b[0;34m\u001b[0m\u001b[0m\n",
      "\u001b[0;32m<ipython-input-123-1b554283864a>\u001b[0m in \u001b[0;36m__init__\u001b[0;34m(self, body1, body2, body3, body4)\u001b[0m\n\u001b[1;32m      3\u001b[0m     \u001b[0;32mdef\u001b[0m \u001b[0m__init__\u001b[0m\u001b[0;34m(\u001b[0m\u001b[0mself\u001b[0m\u001b[0;34m,\u001b[0m\u001b[0mbody1\u001b[0m\u001b[0;34m,\u001b[0m\u001b[0mbody2\u001b[0m\u001b[0;34m,\u001b[0m\u001b[0mbody3\u001b[0m\u001b[0;34m,\u001b[0m\u001b[0mbody4\u001b[0m\u001b[0;34m)\u001b[0m\u001b[0;34m:\u001b[0m\u001b[0;34m\u001b[0m\u001b[0m\n\u001b[1;32m      4\u001b[0m         \u001b[0mself\u001b[0m\u001b[0;34m.\u001b[0m\u001b[0mtag_session\u001b[0m \u001b[0;34m=\u001b[0m \u001b[0mbody1\u001b[0m\u001b[0;34m.\u001b[0m\u001b[0msplit\u001b[0m\u001b[0;34m(\u001b[0m\u001b[0;34m':'\u001b[0m\u001b[0;34m)\u001b[0m\u001b[0;34m[\u001b[0m\u001b[0;36m0\u001b[0m\u001b[0;34m]\u001b[0m\u001b[0;34m\u001b[0m\u001b[0m\n\u001b[0;32m----> 5\u001b[0;31m         \u001b[0mself\u001b[0m\u001b[0;34m.\u001b[0m\u001b[0mtitle\u001b[0m \u001b[0;34m=\u001b[0m  \u001b[0mbody1\u001b[0m\u001b[0;34m.\u001b[0m\u001b[0msplit\u001b[0m\u001b[0;34m(\u001b[0m\u001b[0;34m':'\u001b[0m\u001b[0;34m)\u001b[0m\u001b[0;34m[\u001b[0m\u001b[0;36m1\u001b[0m\u001b[0;34m]\u001b[0m\u001b[0;34m\u001b[0m\u001b[0m\n\u001b[0m\u001b[1;32m      6\u001b[0m         \u001b[0mself\u001b[0m\u001b[0;34m.\u001b[0m\u001b[0mabstract\u001b[0m \u001b[0;34m=\u001b[0m \u001b[0mbody2\u001b[0m\u001b[0;34m.\u001b[0m\u001b[0msplit\u001b[0m\u001b[0;34m(\u001b[0m\u001b[0;34m'Reference'\u001b[0m\u001b[0;34m)\u001b[0m\u001b[0;34m[\u001b[0m\u001b[0;36m0\u001b[0m\u001b[0;34m]\u001b[0m\u001b[0;34m\u001b[0m\u001b[0m\n\u001b[1;32m      7\u001b[0m         \u001b[0;32mtry\u001b[0m\u001b[0;34m:\u001b[0m\u001b[0;34m\u001b[0m\u001b[0m\n",
      "\u001b[0;31mIndexError\u001b[0m: list index out of range"
     ]
    }
   ],
   "source": [
    "import os\n",
    "class Paper(object):\n",
    "    def __init__(self,body1,body2,body3,body4):\n",
    "        self.tag_session = body1.split(':')[0]\n",
    "        self.title =  body1.split(':')[1]\n",
    "        self.abstract = body2.split('Reference')[0]\n",
    "        try:\n",
    "            self.reference = body2.split('Reference')[1]\n",
    "        except:\n",
    "            self.reference = ''\n",
    "        self.author = body3.split('\\n')[1:]\n",
    "        self.session = str(body4.split('\\n')[1].split(':')[1])\n",
    "        self.focus_group = str(body4.split('\\n')[2].split(':')[1])\n",
    "        self.date = str(body4.split('\\n')[3].split(':')[1])\n",
    "# Start the WebDriver and load the page           \n",
    "wd = webdriver.Firefox()\n",
    "base_url = 'https://agu.confex.com/agu/fm14/meetingapp.cgi/Paper/'\n",
    "links = [os.path.join(base_url,f) for f in ['7004']]\n",
    "papers = []\n",
    "for link in links:\n",
    "    wd.get(link)\n",
    "    # Wait for the dynamically loaded elements to show up\n",
    "    WebDriverWait(wd, 3*60).until(\n",
    "        EC.visibility_of_element_located((By.XPATH,'//*[@id=\"Content\"]/section[1]'))) \n",
    "    WebDriverWait(wd, 3*60).until(\n",
    "        EC.visibility_of_element_located((By.XPATH,'//*[@id=\"Details\"]/section[1]')))  \n",
    "    WebDriverWait(wd, 3*60).until(\n",
    "        EC.visibility_of_element_located((By.XPATH,'//*[@id=\"Details\"]/section[2]')))\n",
    "    WebDriverWait(wd, 3*60).until(\n",
    "        EC.visibility_of_element_located((By.XPATH,'//*[@id=\"Details\"]/section[3]'))) \n",
    "    time.sleep(5)\n",
    "    body1 = wd.find_element_by_xpath('//*[@id=\"Content\"]/section[1]').text\n",
    "    body2 = wd.find_element_by_xpath('//*[@id=\"Details\"]/section[1]').text\n",
    "    body3 = wd.find_element_by_xpath('//*[@id=\"Details\"]/section[2]').text\n",
    "    body4 = wd.find_element_by_xpath('//*[@id=\"Details\"]/section[3]').text\n",
    "    paper = Paper(body1,body2,body3,body4)\n",
    "    papers.append(paper)\n",
    "        \n",
    "wd.quit()"
   ]
  },
  {
   "cell_type": "code",
   "execution_count": 30,
   "metadata": {
    "collapsed": false
   },
   "outputs": [
    {
     "data": {
      "text/plain": [
       "u'View Related Events\\nSession: Remote Sensing of the Cryosphere IV Posters\\nSection/Focus Group: Cryosphere\\nDay: Thursday, 17 December 2015'"
      ]
     },
     "execution_count": 30,
     "metadata": {},
     "output_type": "execute_result"
    }
   ],
   "source": [
    "body4"
   ]
  },
  {
   "cell_type": "code",
   "execution_count": null,
   "metadata": {
    "collapsed": true
   },
   "outputs": [],
   "source": []
  },
  {
   "cell_type": "code",
   "execution_count": 11,
   "metadata": {
    "collapsed": false
   },
   "outputs": [
    {
     "data": {
      "text/plain": [
       "'/Users/thorey/Documents/MLearning/Side_Project/AGU_Data'"
      ]
     },
     "execution_count": 11,
     "metadata": {},
     "output_type": "execute_result"
    }
   ],
   "source": [
    "os.chdir('/Users/thorey/Documents/MLearning/Side_Project/AGU_Data/')\n",
    "os.getcwd()"
   ]
  },
  {
   "cell_type": "code",
   "execution_count": 13,
   "metadata": {
    "collapsed": false
   },
   "outputs": [
    {
     "name": "stderr",
     "output_type": "stream",
     "text": [
      "/opt/local/Library/Frameworks/Python.framework/Versions/2.7/lib/python2.7/site-packages/IPython/parallel.py:13: ShimWarning: The `IPython.parallel` package has been deprecated. You should import from ipyparallel instead.\n",
      "  \"You should import from ipyparallel instead.\", ShimWarning)\n"
     ]
    }
   ],
   "source": [
    "%qtconsole"
   ]
  },
  {
   "cell_type": "code",
   "execution_count": 14,
   "metadata": {
    "collapsed": false
   },
   "outputs": [],
   "source": [
    "abstract = browser.find_element_by_xpath('//*[@id=\"Details\"]')"
   ]
  },
  {
   "cell_type": "code",
   "execution_count": 17,
   "metadata": {
    "collapsed": false
   },
   "outputs": [
    {
     "data": {
      "text/plain": [
       "<html><body><p>Thursday, 17 December 2015 08:00 - 12:20\n",
       "Moscone South - Poster Hall\n",
       "Studies of earthquake-induced landsliding typically consider slope stability during high-magnitude ground shaking events only. During such events, downslope movement of the landslide mass occurs when seismic ground accelerations are sufficient to overcome shear resistance at the landslide shear surface. This approach does not consider the potential effects that sequences of low-magnitude ground shaking events can have on material strength and, hence, coseismic slope stability. Since such events are more common in nature relative to high-magnitude shaking events, it is important to constrain their geomorphic effectiveness. Using an experimental laboratory approach, we present results that address this key issue. We used a bespoke geotechnical testing apparatus, the Dynamic Back-Pressured Shear Box, that permits realistic simulation of earthquake ground-shaking conditions within a hillslope. We tested both cohesive and granular materials that displayed ductile behaviour under standard strain-controlled monotonic shear tests. We applied dynamic stresses of varying amplitude, frequency and sequence, and monitored the resultant strain response to determine which factors, when combined, created notable deviations from standard monotonic shear behaviour. We observed that multiple dynamic stress/shaking events that are largely insufficient to cause large strains (and hence are conventionally deemed geomorphologically ineffective) can affect material stiffness such that the future behaviour of the sediment/landslide differs considerably from that observed in standard monotonic shear tests. In other words, low-magnitude ground shaking events can be effective precursory geomorphic processes. Critically, the sequence of ground-shaking events is an important control; where shaking conditions cause progressive densification of sediment, the frictional strength of the material subsequently increases. In turn, the resultant strain response to high-magnitude ground shaking events decreases. Our results have important implications for studies of long-term landscape evolution, in which modelled hillslopes are repeatedly subjected to multiple earthquake events but that currently lack appropriate empirically-constrained strength parameters.\n",
       "Authors\n",
       "Matthew Brain\n",
       "University of Durham\n",
       "Nick Rosser\n",
       "University of Durham\n",
       "Emma Vann Jones\n",
       "Durham University\n",
       "Neil Tunstall\n",
       "Durham University\n",
       "View Related Events\n",
       "Session: Landslide Mechanisms, Modeling, and Prediction II Posters\n",
       "Section/Focus Group: Natural Hazards\n",
       "Day: Thursday, 17 December 2015</p></body></html>"
      ]
     },
     "execution_count": 17,
     "metadata": {},
     "output_type": "execute_result"
    }
   ],
   "source": [
    "BeautifulSoup(abstract.text)\n"
   ]
  },
  {
   "cell_type": "code",
   "execution_count": 44,
   "metadata": {
    "collapsed": true
   },
   "outputs": [
    {
     "data": {
      "text/plain": [
       "<main id=\"main\">\n",
       "<article class=\"Content Abstract\" id=\"Content\">\n",
       "<section class=\"itemIdentifier clearfix\">\n",
       "<ul class=\"itemHeader\">\n",
       "<li class=\"itemTitle\">\n",
       "<span class=\"FinalNumber\">NH41C-1831:  </span>\n",
       "\t\t\t\t\n",
       "\t\t\t\tThe Effects of Differing Sequences of Earthquake Ground-Shaking on Coseismic Slope Stability\n",
       "\t\t\t\t\t\t\t\n",
       "\t\t</li>\n",
       "</ul>\n",
       "</section>\n",
       "<nav class=\"Tabs clearfix\">\n",
       "<ul id=\"TabBar\">\n",
       "<li class=\"tab selected\" toggle=\"#Details\"> \n",
       "\t\t\tAbstract\n",
       "\t\t</li>\n",
       "<li><section class=\"clearfix\" id=\"sharemenu\">\n",
       "<ul>\n",
       "<li><a href=\"Paper/78862\" onclick=\"window.open('mailto:?subject=Interesting Abstract at 2015 AGU Fall Meeting&amp;body=https://agu.confex.com/agu/fm15/meetingapp.cgi/Paper/78862', '_system', 'location=yes');\">\n",
       "<span class=\"fa-stack fa-lg\">\n",
       "<i class=\"fa fa-square fa-stack-2x\"></i>\n",
       "<i class=\"fa fa-envelope fa-stack-1x\"></i>\n",
       "</span>\n",
       "</a>\n",
       "</li>\n",
       "<li><a href=\"https://twitter.com/intent/tweet?url=https://agu.confex.com/agu/fm15/meetingapp.cgi/Paper/78862\"><i class=\"fa fa-twitter-square\"></i></a></li>\n",
       "<li><a href=\"https://www.facebook.com/sharer/sharer.php?u=https://agu.confex.com/agu/fm15/meetingapp.cgi/Paper/78862\"><i class=\"fa fa-facebook-square\"></i></a></li>\n",
       "<li><a href=\"https://www.linkedin.com/shareArticle?url=https://agu.confex.com/agu/fm15/meetingapp.cgi/Paper/78862?mini=true\"><i class=\"fa fa-linkedin-square\"></i></a></li>\n",
       "</ul>\n",
       "</section></li>\n",
       "</ul>\n",
       "</nav>\n",
       "<section class=\"\" id=\"Details\" style=\"display: block; \">\n",
       "<span class=\"slotData\">\n",
       "<ul class=\"List\" collectionname=\"ParentList_SlotData\" id=\"a8c6d480c6f55b93193498ab\" modelid=\"Paper/78862\">\n",
       "</ul>\n",
       "</span>\n",
       "<section class=\"item Additional\">\n",
       "\t\t\t\tStudies of earthquake-induced landsliding typically consider slope stability during high-magnitude ground shaking events only. During such events, downslope movement of the landslide mass occurs when seismic ground accelerations are sufficient to overcome shear resistance at the landslide shear surface. This approach does not consider the potential effects that sequences of low-magnitude ground shaking events can have on material strength and, hence, coseismic slope stability. Since such events are more common in nature relative to high-magnitude shaking events, it is important to constrain their geomorphic effectiveness. Using an experimental laboratory approach, we present results that address this key issue. We used a bespoke geotechnical testing apparatus, the Dynamic Back-Pressured Shear Box, that permits realistic simulation of earthquake ground-shaking conditions within a hillslope. We tested both cohesive and granular materials that displayed ductile behaviour under standard strain-controlled monotonic shear tests. We applied dynamic stresses of varying amplitude, frequency and sequence, and monitored the resultant strain response to determine which factors, when combined, created notable deviations from standard monotonic shear behaviour. We observed that multiple dynamic stress/shaking events that are largely insufficient to cause large strains (and hence are conventionally deemed geomorphologically ineffective) can affect material stiffness such that the future behaviour of the sediment/landslide differs considerably from that observed in standard monotonic shear tests. In other words, low-magnitude ground shaking events can be effective precursory geomorphic processes. Critically, the sequence of ground-shaking events is an important control; where shaking conditions cause progressive densification of sediment, the frictional strength of the material subsequently increases. In turn, the resultant strain response to high-magnitude ground shaking events decreases. Our results have important implications for studies of long-term landscape evolution, in which modelled hillslopes are repeatedly subjected to multiple earthquake events but that currently lack appropriate empirically-constrained strength parameters.\n",
       "\t\t\t</section>\n",
       "<section class=\"item People \">\n",
       "<ul class=\"PersonList\" collectionname=\"ChildList_Role\" id=\"26dffaa75ddcd26661954e11\" modelid=\"Paper/78862\">\n",
       "</ul>\n",
       "</section>\n",
       "<span class=\"_placeholder\" id=\"cc965760bd2fa3827450c3bb\" style=\"display: none\"></span>\n",
       "<section class=\"item Related infoBox\">\n",
       "<h5>View Related Events</h5> <ul class=\"List\" collectionname=\"ParentList_ParentEntries\" id=\"28261046b58318a849af8205\" modelid=\"Paper/78862\">\n",
       "</ul>\n",
       "<ul class=\"List\" collectionname=\"ParentList_SlotData\" id=\"af38bc1c286b90ed0174be4c\" modelid=\"Paper/78862\">\n",
       "</ul>\n",
       "</section>\n",
       "</section>\n",
       "<section id=\"AdminList\" style=\"display: none;\">\n",
       "<ol><li>_id : Paper/78862</li><li>_name : Paper</li><li>id : 78862</li><li>_maxRefresh : 86400000</li><li>Student : </li><li>AbstractStatus : </li><li>Child_MediaFiles : MediaFiles/Paper78862</li><li>RatingComment : </li><li>StepsCompleted : 1</li><li>CopyEdited : </li><li>IgnoreAbstractValidation : 0</li><li>ReadyForReview : </li><li>GoodType : Assigned by Program Committee (Oral or Poster)</li><li>Picky : </li><li>FinalPaperLetter : </li><li>LateSubmission : 0</li><li>VirtualAttendeeEnabled : </li><li>Invited : </li><li>ParentList_ParentEntries : Session/8442,Program/1109</li><li>BreakType : </li><li>RequestAward : </li><li>Published : Earlier version of this work presented at EGU 2015, Vienna. Findings not currently under review or recently accepted by a scientific journal.</li><li>ProofedDate : 2015-08-05 10:01:02</li><li>AlternateTitle : </li><li>LastRatedAdrs : </li><li>RefundedTransactionID : </li><li>Refunded : 0</li><li>TransactionID : agu-fm15-78862-4506-1461-4449-7114</li><li>AlternateSubTitle : </li><li>FileConvertPermission : </li><li>TransactionDate : 2015-08-05</li><li>NoSubjectsSelected : 0</li><li>_expiration : 2015-12-15T04:30:31</li><li>_meetingcode : fm15</li><li>LastRatedIdentity : </li><li>PreviousJournalPublication : 0</li><li>SubmitterFullName : </li><li>Category : 0</li><li>Criteria : </li><li>ParentList_Day : Day/20151217</li><li>ProgramCode : NH</li><li>_lastchanged : 2015-12-14T04:30:31</li><li>Type : 11</li><li>WaiveFee : 0</li><li>Withdrawn : </li><li>LateSubmissionComments : </li><li>PreviouslyPublished : Yes</li><li>URL : </li><li>ExtendedAbstract : </li><li>FirstNoticeSent : 0</li><li>LearningObjectives : </li><li>AlternatePayMethodConfirmation : 0</li><li>label : Abstract</li><li>_originated : 2015-10-02T16:05:27</li><li>WithdrawnIP : </li><li>Clientid : 0</li><li>isPoster : 1</li><li>Step : 8</li><li>Comments : </li><li>LeadPresenterEmail : matthew.brain@durham.ac.uk</li><li>FinalPaperNumber : NH41C-1831</li><li>Title : The Effects of Differing Sequences of Earthquake Ground-Shaking on Coseismic Slope Stability</li><li>ChildList_Keyword : </li><li>Proofed : 1</li><li>FinalNumber : NH41C-1831</li><li>KeywordSearchString : </li><li>ChildList_FieldIndice : Index/GoodType~Poster,Index/CB_SwirlTopics~11586</li><li>PosterNumber : </li><li>TransactionStatus : </li><li>ConfirmationEmailSent : 1</li><li>TransactionTotal : 65.00</li><li>WithdrawComments : </li><li>WebprogramExclude : 0</li><li>ChildList_Role : Role/197840,Role/272957,Role/272959,Role/272964</li><li>Template : </li><li>Rating : A</li><li>RequestTravelAward : </li><li>_url : Paper/78862</li><li>Abstract : Studies of earthquake-induced landsliding typically consider slope stability during high-magnitude ground shaking events only. During such events, downslope movement of the landslide mass occurs when seismic ground accelerations are sufficient to overcome shear resistance at the landslide shear surface. This approach does not consider the potential effects that sequences of low-magnitude ground shaking events can have on material strength and, hence, coseismic slope stability. Since such events are more common in nature relative to high-magnitude shaking events, it is important to constrain their geomorphic effectiveness. Using an experimental laboratory approach, we present results that address this key issue. We used a bespoke geotechnical testing apparatus, the Dynamic Back-Pressured Shear Box, that permits realistic simulation of earthquake ground-shaking conditions within a hillslope. We tested both cohesive and granular materials that displayed ductile behaviour under standard strain-controlled monotonic shear tests. We applied dynamic stresses of varying amplitude, frequency and sequence, and monitored the resultant strain response to determine which factors, when combined, created notable deviations from standard monotonic shear behaviour. We observed that multiple dynamic stress/shaking events that are largely insufficient to cause large strains (and hence are conventionally deemed geomorphologically ineffective) can affect material stiffness such that the future behaviour of the sediment/landslide differs considerably from that observed in standard monotonic shear tests. In other words, low-magnitude ground shaking events can be effective precursory geomorphic processes. Critically, the sequence of ground-shaking events is an important control; where shaking conditions cause progressive densification of sediment, the frictional strength of the material subsequently increases. In turn, the resultant strain response to high-magnitude ground shaking events decreases. Our results have important implications for studies of long-term landscape evolution, in which modelled hillslopes are repeatedly subjected to multiple earthquake events but that currently lack appropriate empirically-constrained strength parameters.</li><li>TransactionMethod : 0</li><li>SessionRoleid : 0</li><li>PresentationUploadNoticeSent : 0</li><li>Child_Discussion : Discussion/Paper78862_General</li><li>ParentList_SlotData : SlotData/Paper78862_Slot4858</li><li>_timestamp : 1450116195259</li></ol>\n",
       "</section>\n",
       "</article>\n",
       "</main>"
      ]
     },
     "execution_count": 44,
     "metadata": {},
     "output_type": "execute_result"
    }
   ],
   "source": [
    "sess = dryscrape.Session()\n",
    "sess.set_attribute('auto_load_images', False)\n",
    "sess.visit(my_url)\n",
    "sess.wait_for_safe(lambda: sess.at_xpath('//*[@id=\"AdminList\"]'))\n",
    "sess.wait_for_safe(lambda: sess.at_xpath('//*[@id=\"Details\"]/section[2]'))\n",
    "BeautifulSoup(sess.body()).find(id='main')                "
   ]
  },
  {
   "cell_type": "code",
   "execution_count": 42,
   "metadata": {
    "collapsed": true
   },
   "outputs": [
    {
     "data": {
      "text/plain": [
       "<main id=\"main\">\n",
       "<article class=\"Content Abstract\" id=\"Content\">\n",
       "<section class=\"itemIdentifier clearfix\">\n",
       "<ul class=\"itemHeader\">\n",
       "<li class=\"itemTitle\">\n",
       "<span class=\"FinalNumber\">NH41C-1831:  </span>\n",
       "\t\t\t\t\n",
       "\t\t\t\tThe Effects of Differing Sequences of Earthquake Ground-Shaking on Coseismic Slope Stability\n",
       "\t\t\t\t\t\t\t\n",
       "\t\t</li>\n",
       "</ul>\n",
       "</section>\n",
       "<nav class=\"Tabs clearfix\">\n",
       "<ul id=\"TabBar\">\n",
       "<li class=\"tab selected\" toggle=\"#Details\"> \n",
       "\t\t\tAbstract\n",
       "\t\t</li>\n",
       "<li><section class=\"clearfix\" id=\"sharemenu\">\n",
       "<ul>\n",
       "<li><a href=\"Paper/78862\" onclick=\"window.open('mailto:?subject=Interesting Abstract at 2015 AGU Fall Meeting&amp;body=https://agu.confex.com/agu/fm15/meetingapp.cgi/Paper/78862', '_system', 'location=yes');\">\n",
       "<span class=\"fa-stack fa-lg\">\n",
       "<i class=\"fa fa-square fa-stack-2x\"></i>\n",
       "<i class=\"fa fa-envelope fa-stack-1x\"></i>\n",
       "</span>\n",
       "</a>\n",
       "</li>\n",
       "<li><a href=\"https://twitter.com/intent/tweet?url=https://agu.confex.com/agu/fm15/meetingapp.cgi/Paper/78862\"><i class=\"fa fa-twitter-square\"></i></a></li>\n",
       "<li><a href=\"https://www.facebook.com/sharer/sharer.php?u=https://agu.confex.com/agu/fm15/meetingapp.cgi/Paper/78862\"><i class=\"fa fa-facebook-square\"></i></a></li>\n",
       "<li><a href=\"https://www.linkedin.com/shareArticle?url=https://agu.confex.com/agu/fm15/meetingapp.cgi/Paper/78862?mini=true\"><i class=\"fa fa-linkedin-square\"></i></a></li>\n",
       "</ul>\n",
       "</section></li>\n",
       "</ul>\n",
       "</nav>\n",
       "<section class=\"\" id=\"Details\" style=\"display: block; \">\n",
       "<span class=\"slotData\">\n",
       "<ul class=\"List\" collectionname=\"ParentList_SlotData\" id=\"6d3f7b47b3bd76323442823f\" modelid=\"Paper/78862\">\n",
       "<section class=\"item compactSlot clearfix \">\n",
       "<section class=\"itemSelection \">\n",
       "<span class=\"toggleFavorite bookmark \" favorite=\"Entries\" modelid=\"Paper/78862\">\n",
       "<i class=\"fa fa-star\"></i>\n",
       "</span>\n",
       "<span class=\"itemSchedule\">\n",
       "<span class=\" toggleFavorite schedule \" favorite=\"Schedule\" modelid=\"SlotData/Paper78862_Slot4858\">\n",
       "<span class=\"add\">\n",
       "<i class=\"fa fa-plus-square\"></i>\n",
       "</span>\n",
       "<span class=\"scheduled\">\n",
       "<i class=\"fa fa-calendar-check-o\"></i>\n",
       "</span>\n",
       "<span class=\"locked\">\n",
       "<i class=\"fa fa-lock\"></i>\n",
       "</span>\n",
       "</span>\n",
       "</span>\n",
       "</section>\n",
       "<section class=\"itemDateTime\">\n",
       "<p class=\"SlotDate\"> \n",
       "Thursday, 17 December 2015 \n",
       "</p>\n",
       "<p class=\"SlotTime\">\n",
       "08:00\n",
       " - \n",
       "12:20\n",
       "</p>\n",
       "</section>\n",
       "<ul class=\"propertyInfo\">\n",
       "<li>Moscone South</li>\n",
       "<li> - Poster Hall</li>\n",
       "</ul>\n",
       "</section></ul>\n",
       "</span>\n",
       "<section class=\"item Additional\">\n",
       "\t\t\t\tStudies of earthquake-induced landsliding typically consider slope stability during high-magnitude ground shaking events only. During such events, downslope movement of the landslide mass occurs when seismic ground accelerations are sufficient to overcome shear resistance at the landslide shear surface. This approach does not consider the potential effects that sequences of low-magnitude ground shaking events can have on material strength and, hence, coseismic slope stability. Since such events are more common in nature relative to high-magnitude shaking events, it is important to constrain their geomorphic effectiveness. Using an experimental laboratory approach, we present results that address this key issue. We used a bespoke geotechnical testing apparatus, the Dynamic Back-Pressured Shear Box, that permits realistic simulation of earthquake ground-shaking conditions within a hillslope. We tested both cohesive and granular materials that displayed ductile behaviour under standard strain-controlled monotonic shear tests. We applied dynamic stresses of varying amplitude, frequency and sequence, and monitored the resultant strain response to determine which factors, when combined, created notable deviations from standard monotonic shear behaviour. We observed that multiple dynamic stress/shaking events that are largely insufficient to cause large strains (and hence are conventionally deemed geomorphologically ineffective) can affect material stiffness such that the future behaviour of the sediment/landslide differs considerably from that observed in standard monotonic shear tests. In other words, low-magnitude ground shaking events can be effective precursory geomorphic processes. Critically, the sequence of ground-shaking events is an important control; where shaking conditions cause progressive densification of sediment, the frictional strength of the material subsequently increases. In turn, the resultant strain response to high-magnitude ground shaking events decreases. Our results have important implications for studies of long-term landscape evolution, in which modelled hillslopes are repeatedly subjected to multiple earthquake events but that currently lack appropriate empirically-constrained strength parameters.\n",
       "\t\t\t</section>\n",
       "<section class=\"item People \">\n",
       "<ul class=\"PersonList\" collectionname=\"ChildList_Role\" id=\"3390552fe9d1c2d6d7129556\" modelid=\"Paper/78862\">\n",
       "</ul>\n",
       "</section>\n",
       "<span>\n",
       "</span>\n",
       "<section class=\"item Related infoBox\">\n",
       "<h5>View Related Events</h5> <ul class=\"List\" collectionname=\"ParentList_ParentEntries\" id=\"3fe398aad98427bb20edf225\" modelid=\"Paper/78862\">\n",
       "<li class=\"SessionListItem route\">\n",
       "<a href=\"Session/8442\">\n",
       "<strong>Session</strong>: Landslide Mechanisms, Modeling, and Prediction II Posters\n",
       "\t\t \n",
       "\t</a>\n",
       "</li>\n",
       "<li class=\"ProgramListItem route\">\n",
       "<a href=\"Program/1109\">\n",
       "<strong>Section/Focus Group</strong>: Natural Hazards\n",
       "\t\t \n",
       "\t</a>\n",
       "</li>\n",
       "</ul>\n",
       "<ul class=\"List\" collectionname=\"ParentList_SlotData\" id=\"efdccee0a88f4808789287f1\" modelid=\"Paper/78862\">\n",
       "<li class=\"SlotDataListItem\">\n",
       "<b>Day:</b>\n",
       "<a href=\"Day/2015-12-17\">\n",
       "\t\t  \n",
       "Thursday, 17 December 2015 \n",
       "\n",
       "\t</a>\n",
       "</li>\n",
       "</ul>\n",
       "</section>\n",
       "</section>\n",
       "<section id=\"AdminList\" style=\"display: none;\">\n",
       "<ol><li>_id : Paper/78862</li><li>_name : Paper</li><li>id : 78862</li><li>_maxRefresh : 86400000</li><li>Student : </li><li>AbstractStatus : </li><li>Child_MediaFiles : MediaFiles/Paper78862</li><li>RatingComment : </li><li>StepsCompleted : 1</li><li>CopyEdited : </li><li>IgnoreAbstractValidation : 0</li><li>ReadyForReview : </li><li>GoodType : Assigned by Program Committee (Oral or Poster)</li><li>Picky : </li><li>FinalPaperLetter : </li><li>LateSubmission : 0</li><li>VirtualAttendeeEnabled : </li><li>Invited : </li><li>ParentList_ParentEntries : Session/8442,Program/1109</li><li>BreakType : </li><li>RequestAward : </li><li>Published : Earlier version of this work presented at EGU 2015, Vienna. Findings not currently under review or recently accepted by a scientific journal.</li><li>ProofedDate : 2015-08-05 10:01:02</li><li>AlternateTitle : </li><li>LastRatedAdrs : </li><li>RefundedTransactionID : </li><li>Refunded : 0</li><li>TransactionID : agu-fm15-78862-4506-1461-4449-7114</li><li>AlternateSubTitle : </li><li>FileConvertPermission : </li><li>TransactionDate : 2015-08-05</li><li>NoSubjectsSelected : 0</li><li>_expiration : 2015-12-15T04:30:31</li><li>_meetingcode : fm15</li><li>LastRatedIdentity : </li><li>PreviousJournalPublication : 0</li><li>SubmitterFullName : </li><li>Category : 0</li><li>Criteria : </li><li>ParentList_Day : Day/20151217</li><li>ProgramCode : NH</li><li>_lastchanged : 2015-12-14T04:30:31</li><li>Type : 11</li><li>WaiveFee : 0</li><li>Withdrawn : </li><li>LateSubmissionComments : </li><li>PreviouslyPublished : Yes</li><li>URL : </li><li>ExtendedAbstract : </li><li>FirstNoticeSent : 0</li><li>LearningObjectives : </li><li>AlternatePayMethodConfirmation : 0</li><li>label : Abstract</li><li>_originated : 2015-10-02T16:05:27</li><li>WithdrawnIP : </li><li>Clientid : 0</li><li>isPoster : 1</li><li>Step : 8</li><li>Comments : </li><li>LeadPresenterEmail : matthew.brain@durham.ac.uk</li><li>FinalPaperNumber : NH41C-1831</li><li>Title : The Effects of Differing Sequences of Earthquake Ground-Shaking on Coseismic Slope Stability</li><li>ChildList_Keyword : </li><li>Proofed : 1</li><li>FinalNumber : NH41C-1831</li><li>KeywordSearchString : </li><li>ChildList_FieldIndice : Index/GoodType~Poster,Index/CB_SwirlTopics~11586</li><li>PosterNumber : </li><li>TransactionStatus : </li><li>ConfirmationEmailSent : 1</li><li>TransactionTotal : 65.00</li><li>WithdrawComments : </li><li>WebprogramExclude : 0</li><li>ChildList_Role : Role/197840,Role/272957,Role/272959,Role/272964</li><li>Template : </li><li>Rating : A</li><li>RequestTravelAward : </li><li>_url : Paper/78862</li><li>Abstract : Studies of earthquake-induced landsliding typically consider slope stability during high-magnitude ground shaking events only. During such events, downslope movement of the landslide mass occurs when seismic ground accelerations are sufficient to overcome shear resistance at the landslide shear surface. This approach does not consider the potential effects that sequences of low-magnitude ground shaking events can have on material strength and, hence, coseismic slope stability. Since such events are more common in nature relative to high-magnitude shaking events, it is important to constrain their geomorphic effectiveness. Using an experimental laboratory approach, we present results that address this key issue. We used a bespoke geotechnical testing apparatus, the Dynamic Back-Pressured Shear Box, that permits realistic simulation of earthquake ground-shaking conditions within a hillslope. We tested both cohesive and granular materials that displayed ductile behaviour under standard strain-controlled monotonic shear tests. We applied dynamic stresses of varying amplitude, frequency and sequence, and monitored the resultant strain response to determine which factors, when combined, created notable deviations from standard monotonic shear behaviour. We observed that multiple dynamic stress/shaking events that are largely insufficient to cause large strains (and hence are conventionally deemed geomorphologically ineffective) can affect material stiffness such that the future behaviour of the sediment/landslide differs considerably from that observed in standard monotonic shear tests. In other words, low-magnitude ground shaking events can be effective precursory geomorphic processes. Critically, the sequence of ground-shaking events is an important control; where shaking conditions cause progressive densification of sediment, the frictional strength of the material subsequently increases. In turn, the resultant strain response to high-magnitude ground shaking events decreases. Our results have important implications for studies of long-term landscape evolution, in which modelled hillslopes are repeatedly subjected to multiple earthquake events but that currently lack appropriate empirically-constrained strength parameters.</li><li>TransactionMethod : 0</li><li>SessionRoleid : 0</li><li>PresentationUploadNoticeSent : 0</li><li>Child_Discussion : Discussion/Paper78862_General</li><li>ParentList_SlotData : SlotData/Paper78862_Slot4858</li><li>_timestamp : 1450116066562</li></ol>\n",
       "</section>\n",
       "</article>\n",
       "</main>"
      ]
     },
     "execution_count": 42,
     "metadata": {},
     "output_type": "execute_result"
    }
   ],
   "source": [
    "oBeautifulSoup(sess.body()).find(id='main')"
   ]
  },
  {
   "cell_type": "code",
   "execution_count": 26,
   "metadata": {
    "collapsed": false
   },
   "outputs": [
    {
     "data": {
      "text/plain": [
       "[u'NH41C-1831:  ',\n",
       " u'The Effects of Differing Sequences of Earthquake Ground-Shaking on Coseismic Slope Stability',\n",
       " u'Abstract',\n",
       " u'Studies of earthquake-induced landsliding typically consider slope stability during high-magnitude ground shaking events only. During such events, downslope movement of the landslide mass occurs when seismic ground accelerations are sufficient to overcome shear resistance at the landslide shear surface. This approach does not consider the potential effects that sequences of low-magnitude ground shaking events can have on material strength and, hence, coseismic slope stability. Since such events are more common in nature relative to high-magnitude shaking events, it is important to constrain their geomorphic effectiveness. Using an experimental laboratory approach, we present results that address this key issue. We used a bespoke geotechnical testing apparatus, the Dynamic Back-Pressured Shear Box, that permits realistic simulation of earthquake ground-shaking conditions within a hillslope. We tested both cohesive and granular materials that displayed ductile behaviour under standard strain-controlled monotonic shear tests. We applied dynamic stresses of varying amplitude, frequency and sequence, and monitored the resultant strain response to determine which factors, when combined, created notable deviations from standard monotonic shear behaviour. We observed that multiple dynamic stress/shaking events that are largely insufficient to cause large strains (and hence are conventionally deemed geomorphologically ineffective) can affect material stiffness such that the future behaviour of the sediment/landslide differs considerably from that observed in standard monotonic shear tests. In other words, low-magnitude ground shaking events can be effective precursory geomorphic processes. Critically, the sequence of ground-shaking events is an important control; where shaking conditions cause progressive densification of sediment, the frictional strength of the material subsequently increases. In turn, the resultant strain response to high-magnitude ground shaking events decreases. Our results have important implications for studies of long-term landscape evolution, in which modelled hillslopes are repeatedly subjected to multiple earthquake events but that currently lack appropriate empirically-constrained strength parameters.',\n",
       " u'View Related Events _id : Paper/78862_name : Paperid : 78862_maxRefresh : 86400000Student : AbstractStatus : Child_MediaFiles : MediaFiles/Paper78862RatingComment : StepsCompleted : 1CopyEdited : IgnoreAbstractValidation : 0ReadyForReview : GoodType : Assigned by Program Committee (Oral or Poster)Picky : FinalPaperLetter : LateSubmission : 0VirtualAttendeeEnabled : Invited : ParentList_ParentEntries : Session/8442,Program/1109BreakType : RequestAward : Published : Earlier version of this work presented at EGU 2015, Vienna. Findings not currently under review or recently accepted by a scientific journal.ProofedDate : 2015-08-05 10:01:02AlternateTitle : LastRatedAdrs : RefundedTransactionID : Refunded : 0TransactionID : agu-fm15-78862-4506-1461-4449-7114AlternateSubTitle : FileConvertPermission : TransactionDate : 2015-08-05NoSubjectsSelected : 0_expiration : 2015-12-15T04:30:31_meetingcode : fm15LastRatedIdentity : PreviousJournalPublication : 0SubmitterFullName : Category : 0Criteria : ParentList_Day : Day/20151217ProgramCode : NH_lastchanged : 2015-12-14T04:30:31Type : 11WaiveFee : 0Withdrawn : LateSubmissionComments : PreviouslyPublished : YesURL : ExtendedAbstract : FirstNoticeSent : 0LearningObjectives : AlternatePayMethodConfirmation : 0label : Abstract_originated : 2015-10-02T16:05:27WithdrawnIP : Clientid : 0isPoster : 1Step : 8Comments : LeadPresenterEmail : matthew.brain@durham.ac.ukFinalPaperNumber : NH41C-1831Title : The Effects of Differing Sequences of Earthquake Ground-Shaking on Coseismic Slope StabilityChildList_Keyword : Proofed : 1FinalNumber : NH41C-1831KeywordSearchString : ChildList_FieldIndice : Index/GoodType~Poster,Index/CB_SwirlTopics~11586PosterNumber : TransactionStatus : ConfirmationEmailSent : 1TransactionTotal : 65.00WithdrawComments : WebprogramExclude : 0ChildList_Role : Role/197840,Role/272957,Role/272959,Role/272964Template : Rating : ARequestTravelAward : _url : Paper/78862Abstract : Studies of earthquake-induced landsliding typically consider slope stability during high-magnitude ground shaking events only. During such events, downslope movement of the landslide mass occurs when seismic ground accelerations are sufficient to overcome shear resistance at the landslide shear surface. This approach does not consider the potential effects that sequences of low-magnitude ground shaking events can have on material strength and, hence, coseismic slope stability. Since such events are more common in nature relative to high-magnitude shaking events, it is important to constrain their geomorphic effectiveness. Using an experimental laboratory approach, we present results that address this key issue. We used a bespoke geotechnical testing apparatus, the Dynamic Back-Pressured Shear Box, that permits realistic simulation of earthquake ground-shaking conditions within a hillslope. We tested both cohesive and granular materials that displayed ductile behaviour under standard strain-controlled monotonic shear tests. We applied dynamic stresses of varying amplitude, frequency and sequence, and monitored the resultant strain response to determine which factors, when combined, created notable deviations from standard monotonic shear behaviour. We observed that multiple dynamic stress/shaking events that are largely insufficient to cause large strains (and hence are conventionally deemed geomorphologically ineffective) can affect material stiffness such that the future behaviour of the sediment/landslide differs considerably from that observed in standard monotonic shear tests. In other words, low-magnitude ground shaking events can be effective precursory geomorphic processes. Critically, the sequence of ground-shaking events is an important control; where shaking conditions cause progressive densification of sediment, the frictional strength of the material subsequently increases. In turn, the resultant strain response to high-magnitude ground shaking events decreases. Our results have important implications for studies of long-term landscape evolution, in which modelled hillslopes are repeatedly subjected to multiple earthquake events but that currently lack appropriate empirically-constrained strength parameters.TransactionMethod : 0SessionRoleid : 0PresentationUploadNoticeSent : 0Child_Discussion : Discussion/Paper78862_GeneralParentList_SlotData : SlotData/Paper78862_Slot4858_timestamp : 1450115830604']"
      ]
     },
     "execution_count": 26,
     "metadata": {},
     "output_type": "execute_result"
    }
   ],
   "source": [
    "data"
   ]
  },
  {
   "cell_type": "code",
   "execution_count": 3,
   "metadata": {
    "collapsed": false
   },
   "outputs": [],
   "source": [
    "#!/usr/bin/env python\n",
    " \n",
    "\"\"\"\n",
    "Simple webkit.\n",
    "\"\"\"\n",
    " \n",
    "import sys\n",
    "from PyQt4 import QtGui, QtCore, QtWebKit\n",
    " \n",
    "class SimpleWebkit():\n",
    "    def __init__(self, url):\n",
    "        self.url = url\n",
    "        self.webView = QtWebKit.QWebView()\n",
    " \n",
    "    def save(self):\n",
    "        return self.webView.page().mainFrame().toHtml()\n",
    " \n",
    "    def process(self):\n",
    "        self.webView.load(QtCore.QUrl(self.url))\n",
    "        QtCore.QObject.connect(self.webView, QtCore.SIGNAL(\"loadFinished(bool)\"), self.save)\n",
    " \n",
    "def process(url):\n",
    "    app = QtGui.QApplication(sys.argv)\n",
    "    s = SimpleWebkit(url)\n",
    "    return s.process()\n"
   ]
  },
  {
   "cell_type": "code",
   "execution_count": 4,
   "metadata": {
    "collapsed": false
   },
   "outputs": [],
   "source": [
    "my_url = 'https://agu.confex.com/agu/fm15/meetingapp.cgi/Paper/78856'\n",
    "process(my_url)"
   ]
  },
  {
   "cell_type": "code",
   "execution_count": 3,
   "metadata": {
    "collapsed": false
   },
   "outputs": [],
   "source": [
    "from ghost import Ghost\n",
    "url = \"https://agu.confex.com/agu/fm15/meetingapp.cgi/Paper/78856\"\n",
    "gh = Ghost()\n",
    "\n",
    "# We create a new page\n",
    "page, page_name = gh.create_page()\n",
    "\n",
    "# We load the main page of ebay\n",
    "page_resource = page.open(url, wait_onload_event=True)"
   ]
  },
  {
   "cell_type": "code",
   "execution_count": 11,
   "metadata": {
    "collapsed": false
   },
   "outputs": [
    {
     "ename": "Exception",
     "evalue": "Can't find element matching \"#e1-15\"",
     "output_type": "error",
     "traceback": [
      "\u001b[0;31m---------------------------------------------------------------------------\u001b[0m",
      "\u001b[0;31mException\u001b[0m                                 Traceback (most recent call last)",
      "\u001b[0;32m<ipython-input-11-3d495e95c783>\u001b[0m in \u001b[0;36m<module>\u001b[0;34m()\u001b[0m\n\u001b[1;32m     15\u001b[0m \u001b[0;34m\u001b[0m\u001b[0m\n\u001b[1;32m     16\u001b[0m \u001b[0;31m# Wait for the next page\u001b[0m\u001b[0;34m\u001b[0m\u001b[0;34m\u001b[0m\u001b[0m\n\u001b[0;32m---> 17\u001b[0;31m \u001b[0mpage\u001b[0m\u001b[0;34m.\u001b[0m\u001b[0mwait_for_selector\u001b[0m\u001b[0;34m(\u001b[0m\u001b[0;34m\"#e1-15\"\u001b[0m\u001b[0;34m)\u001b[0m\u001b[0;34m\u001b[0m\u001b[0m\n\u001b[0m",
      "\u001b[0;32m/opt/local/Library/Frameworks/Python.framework/Versions/2.7/lib/python2.7/site-packages/Ghost.py-0.4b0-py2.7.egg/ghost/ghost.pyc\u001b[0m in \u001b[0;36mwait_for_selector\u001b[0;34m(self, selector)\u001b[0m\n\u001b[1;32m    618\u001b[0m         \"\"\"\n\u001b[1;32m    619\u001b[0m         self.wait_for(lambda: self.exists(selector),\n\u001b[0;32m--> 620\u001b[0;31m             'Can\\'t find element matching \"%s\"' % selector)\n\u001b[0m\u001b[1;32m    621\u001b[0m         \u001b[0;32mreturn\u001b[0m \u001b[0mTrue\u001b[0m\u001b[0;34m\u001b[0m\u001b[0m\n\u001b[1;32m    622\u001b[0m \u001b[0;34m\u001b[0m\u001b[0m\n",
      "\u001b[0;32m/opt/local/Library/Frameworks/Python.framework/Versions/2.7/lib/python2.7/site-packages/Ghost.py-0.4b0-py2.7.egg/ghost/ghost.pyc\u001b[0m in \u001b[0;36mwait_for\u001b[0;34m(self, condition, timeout_message)\u001b[0m\n\u001b[1;32m    583\u001b[0m         \u001b[0;32mwhile\u001b[0m \u001b[0;32mnot\u001b[0m \u001b[0mcondition\u001b[0m\u001b[0;34m(\u001b[0m\u001b[0;34m)\u001b[0m\u001b[0;34m:\u001b[0m\u001b[0;34m\u001b[0m\u001b[0m\n\u001b[1;32m    584\u001b[0m             \u001b[0;32mif\u001b[0m \u001b[0mtime\u001b[0m\u001b[0;34m.\u001b[0m\u001b[0mtime\u001b[0m\u001b[0;34m(\u001b[0m\u001b[0;34m)\u001b[0m \u001b[0;34m>\u001b[0m \u001b[0;34m(\u001b[0m\u001b[0mstarted_at\u001b[0m \u001b[0;34m+\u001b[0m \u001b[0mself\u001b[0m\u001b[0;34m.\u001b[0m\u001b[0mwait_timeout\u001b[0m\u001b[0;34m)\u001b[0m\u001b[0;34m:\u001b[0m\u001b[0;34m\u001b[0m\u001b[0m\n\u001b[0;32m--> 585\u001b[0;31m                 \u001b[0;32mraise\u001b[0m \u001b[0mException\u001b[0m\u001b[0;34m(\u001b[0m\u001b[0mtimeout_message\u001b[0m\u001b[0;34m)\u001b[0m\u001b[0;34m\u001b[0m\u001b[0m\n\u001b[0m\u001b[1;32m    586\u001b[0m             \u001b[0mtime\u001b[0m\u001b[0;34m.\u001b[0m\u001b[0msleep\u001b[0m\u001b[0;34m(\u001b[0m\u001b[0;36m0.01\u001b[0m\u001b[0;34m)\u001b[0m\u001b[0;34m\u001b[0m\u001b[0m\n\u001b[1;32m    587\u001b[0m             \u001b[0mself\u001b[0m\u001b[0;34m.\u001b[0m\u001b[0m_app\u001b[0m\u001b[0;34m.\u001b[0m\u001b[0mprocessEvents\u001b[0m\u001b[0;34m(\u001b[0m\u001b[0;34m)\u001b[0m\u001b[0;34m\u001b[0m\u001b[0m\n",
      "\u001b[0;31mException\u001b[0m: Can't find element matching \"#e1-15\""
     ]
    }
   ],
   "source": [
    "from ghost import Ghost\n",
    "\n",
    "url = \"http://www.ebay.com/\"\n",
    "gh = Ghost()\n",
    "\n",
    "# We create a new page\n",
    "page, page_name = gh.create_page()\n",
    "\n",
    "# We load the main page of ebay\n",
    "page_resource = page.open(url, wait_onload_event=True)\n",
    "\n",
    "# Full the main bar and click on the search button\n",
    "page.set_field_value(\"#gh-ac\", \"plane\")\n",
    "page.click(\"#gh-btn\")\n",
    "\n",
    "# Wait for the next page\n",
    "page.wait_for_selector(\"#e1-15\")"
   ]
  },
  {
   "cell_type": "code",
   "execution_count": 13,
   "metadata": {
    "collapsed": false
   },
   "outputs": [
    {
     "name": "stderr",
     "output_type": "stream",
     "text": [
      "Exception AttributeError: \"'Ghost' object has no attribute 'display'\" in <bound method Ghost.__del__ of <ghost.ghost.Ghost object at 0x102e69d50>> ignored\n"
     ]
    },
    {
     "ename": "TypeError",
     "evalue": "__init__() got an unexpected keyword argument 'prevent_download'",
     "output_type": "error",
     "traceback": [
      "\u001b[0;31m---------------------------------------------------------------------------\u001b[0m",
      "\u001b[0;31mTypeError\u001b[0m                                 Traceback (most recent call last)",
      "\u001b[0;32m<ipython-input-13-37a13a51096b>\u001b[0m in \u001b[0;36m<module>\u001b[0;34m()\u001b[0m\n\u001b[1;32m      5\u001b[0m \u001b[0;31m# We don't want to load images and load css or js files\u001b[0m\u001b[0;34m\u001b[0m\u001b[0;34m\u001b[0m\u001b[0m\n\u001b[1;32m      6\u001b[0m gh = Ghost(cache_size=10, download_images=False,\n\u001b[0;32m----> 7\u001b[0;31m            prevent_download=[\"css\", \"js\"])\n\u001b[0m\u001b[1;32m      8\u001b[0m \u001b[0;34m\u001b[0m\u001b[0m\n\u001b[1;32m      9\u001b[0m \u001b[0;31m# We create a new page\u001b[0m\u001b[0;34m\u001b[0m\u001b[0;34m\u001b[0m\u001b[0m\n",
      "\u001b[0;31mTypeError\u001b[0m: __init__() got an unexpected keyword argument 'prevent_download'"
     ]
    }
   ],
   "source": [
    "from ghost import Ghost\n",
    "\n",
    "url = \"http://news.ycombinator.com/\"\n",
    "# We enable the cache and set the maximun size to 10 MB\n",
    "# We don't want to load images and load css or js files\n",
    "gh = Ghost(cache_size=10, download_images=False,\n",
    "           prevent_download=[\"css\", \"js\"])\n",
    "\n",
    "# We create a new page\n",
    "page, page_name = gh.create_page()\n",
    "\n",
    "# wait_onload_event will tell to Ghost to leave the open method\n",
    "# when the On Ready event on the web page has been fired\n",
    "page_resource = page.open(url, wait_onload_event=False)\n",
    "\n",
    "# We retrive the links from the web page\n",
    "links = page.evaluate(\"\"\"\n",
    "                        var links = document.querySelectorAll(\"a\");\n",
    "                        var listRet = [];\n",
    "                        for (var i=0; i<links.length; i++){\n",
    "                            listRet.push(links[i].href);\n",
    "                        }\n",
    "                        listRet;\n",
    "                    \"\"\")\n",
    "# Print the links\n",
    "for l in links[0]:\n",
    "    print l"
   ]
  }
 ],
 "metadata": {
  "kernelspec": {
   "display_name": "Python 2",
   "language": "python",
   "name": "python2"
  },
  "language_info": {
   "codemirror_mode": {
    "name": "ipython",
    "version": 2
   },
   "file_extension": ".py",
   "mimetype": "text/x-python",
   "name": "python",
   "nbconvert_exporter": "python",
   "pygments_lexer": "ipython2",
   "version": "2.7.10"
  },
  "latex_envs": {
   "bibliofile": "biblio.bib",
   "cite_by": "apalike",
   "current_citInitial": 1,
   "eqLabelWithNumbers": true,
   "eqNumInitial": 0
  }
 },
 "nbformat": 4,
 "nbformat_minor": 0
}
